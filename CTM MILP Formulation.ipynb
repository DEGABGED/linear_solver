{
 "cells": [
  {
   "cell_type": "markdown",
   "metadata": {},
   "source": [
    "# CTM MILP Formulation"
   ]
  },
  {
   "cell_type": "code",
   "execution_count": 62,
   "metadata": {},
   "outputs": [],
   "source": [
    "import docplex.mp.model as cpx\n",
    "import pandas as pd\n",
    "import random\n",
    "from pprint import pprint"
   ]
  },
  {
   "cell_type": "markdown",
   "metadata": {},
   "source": [
    "## Constants"
   ]
  },
  {
   "cell_type": "code",
   "execution_count": 63,
   "metadata": {},
   "outputs": [],
   "source": [
    "# Constants from the parent paper\n",
    "\n",
    "TOTAL_CELL_COUNT    = 32\n",
    "MOVEMENT_CELLS      = 3 # Number of movement cells per approach\n",
    "APPROACH_CELLS      = 3 # Number of cells in each approach\n",
    "APPROACHES          = 4 # Number of approaches per intersection\n",
    "APPROACH_LANES      = 4 # Number of lanes per approach\n",
    "\n",
    "FREE_FLOW_SPEED     = 44 # ft / s\n",
    "CELL_LENGTH         = 88 # ft\n",
    "SAT_FLOW_RATE       = 1 # vehicles / timestep\n",
    "FLOW_RATE_REDUCTION = 0.5 # Not speciifed\n",
    "G_MIN               = 6 # seconds (change to 30)\n",
    "G_MAX               = 20 # seconds (change to 120)\n",
    "\n",
    "FLOW_UNDERSAT       = 450 # veh / hr / lane\n",
    "FLOW_SAT            = 900 \n",
    "FLOW_OVERSAT        = 1800\n",
    "\n",
    "TURN_RATIO_LEFT     = 0.1\n",
    "TURN_RATIO_THROUGH  = 0.8\n",
    "TURN_RATIO_RIGHT    = 0.1\n",
    "TURN_RATIOS = [\n",
    "    TURN_RATIO_LEFT,\n",
    "    TURN_RATIO_THROUGH,\n",
    "    TURN_RATIO_RIGHT\n",
    "]\n",
    "\n",
    "LEFT_TURN_LANES     = 1\n",
    "RIGHT_TURN_LANES    = 1\n",
    "THROUGH_TURN_LANES  = APPROACH_LANES - LEFT_TURN_LANES - RIGHT_TURN_LANES\n",
    "if THROUGH_TURN_LANES <= 0:\n",
    "    THROUGH_TURN_LANES = 1\n",
    "TURN_LANES = [\n",
    "    LEFT_TURN_LANES,\n",
    "    THROUGH_TURN_LANES,\n",
    "    RIGHT_TURN_LANES\n",
    "]\n",
    "\n",
    "TIME_STEP           = 1 # seconds / time step; NOT FROM PAPER\n",
    "TIME_RANGE          = 60 # run for this many seconds\n",
    "\n",
    "MEAN_CAR_LENGTH     = 15.8 # ft\n",
    "\n",
    "CELL_SOURCE         = 0\n",
    "CELL_SINK           = 1\n",
    "CELL_MOVEMENT       = 2\n",
    "CELL_NORMAL         = 3"
   ]
  },
  {
   "cell_type": "markdown",
   "metadata": {},
   "source": [
    "## Sets"
   ]
  },
  {
   "cell_type": "code",
   "execution_count": 64,
   "metadata": {},
   "outputs": [],
   "source": [
    "set_T = range(TIME_RANGE)\n",
    "set_T_bounded = range(TIME_RANGE-1)\n",
    "\n",
    "# Source cells: (0,approach_id)\n",
    "set_C_O = [(CELL_SOURCE,0,i)\n",
    "    for i in range(APPROACHES)]\n",
    "\n",
    "# Sink cells: (0,approach_id)\n",
    "set_C_S = [(CELL_SINK,0,i)\n",
    "    for i in range(APPROACHES)]\n",
    "\n",
    "# Movement cells: (movement_id, apporach_id)\n",
    "set_C_I = [(CELL_MOVEMENT,i,j)\n",
    "    for i in range(MOVEMENT_CELLS)\n",
    "    for j in range(APPROACHES)]\n",
    "\n",
    "# Normal cells: (cell_id, approach_id)\n",
    "set_C_N = [(CELL_NORMAL,i,j)\n",
    "    for i in range(APPROACH_CELLS)\n",
    "    for j in range(APPROACHES)]\n",
    "\n",
    "# Set of all cells: (cell_type, x, y)\n",
    "set_C = set_C_O + set_C_S + set_C_I + set_C_N\n",
    "set_C_labels = [\n",
    "    'source',\n",
    "    'sink',\n",
    "    'movement',\n",
    "    'normal'\n",
    "]"
   ]
  },
  {
   "cell_type": "code",
   "execution_count": 65,
   "metadata": {},
   "outputs": [],
   "source": [
    "def P_mapping(i):\n",
    "    # 1. For source cells, return empty set\n",
    "    if i[0] == CELL_SOURCE:\n",
    "        return []\n",
    "    # 2. For sink cells, return movement cells that lead to sink cell\n",
    "    if i[0] == CELL_SINK:\n",
    "        output = []\n",
    "        # Add left turn of right approach\n",
    "        output.append((CELL_MOVEMENT,0,(i[2]+3)%4))\n",
    "        # Add through turn of front approach\n",
    "        output.append((CELL_MOVEMENT,1,(i[2]+2)%4))\n",
    "        # Add right turn of left approach\n",
    "        output.append((CELL_MOVEMENT,2,(i[2]+1)%4))\n",
    "        return output\n",
    "    # 3. For movement cells, return the previous cell\n",
    "    if i[0] == CELL_MOVEMENT:\n",
    "        return [(CELL_NORMAL,APPROACH_CELLS-1,i[2])]\n",
    "    # 4. For normal cells, return the previous cell\n",
    "    if i[0] == CELL_NORMAL:\n",
    "        if i[1] == 0:\n",
    "            return [(CELL_SOURCE,0,i[2])]\n",
    "        else:\n",
    "            return [(CELL_NORMAL,i[1]-1,i[2])]\n",
    "\n",
    "def S_mapping(i):\n",
    "    # 1. For source cells, return the next cell\n",
    "    if i[0] == CELL_SOURCE:\n",
    "        return [(CELL_NORMAL,0,i[2])]\n",
    "    # 2. For sink cells, return empty set\n",
    "    if i[0] == CELL_SINK:\n",
    "        return []\n",
    "    # 3. For movement cells, return the sink cell\n",
    "    if i[0] == CELL_MOVEMENT:\n",
    "        return [(CELL_SINK,0,(i[2]+i[1]+1)%4)]\n",
    "    # 4. For normal cells, return the next cell/s\n",
    "    if i[0] == CELL_NORMAL:\n",
    "        if i[1] == APPROACH_CELLS-1:\n",
    "            return [(CELL_MOVEMENT,x,i[2]) for x in range(MOVEMENT_CELLS)]\n",
    "        else:\n",
    "            return [(CELL_NORMAL,i[1]+1,i[2])]\n",
    "\n",
    "P = {i: P_mapping(i)\n",
    "    for i in set_C}\n",
    "\n",
    "S = {i: S_mapping(i)\n",
    "    for i in set_C}"
   ]
  },
  {
   "cell_type": "markdown",
   "metadata": {},
   "source": [
    "## Parameters"
   ]
  },
  {
   "cell_type": "code",
   "execution_count": 66,
   "metadata": {},
   "outputs": [],
   "source": [
    "def M_mapping(i):\n",
    "    if i in set_C_I:\n",
    "        return int(CELL_LENGTH / MEAN_CAR_LENGTH) * TURN_LANES[i[1]]\n",
    "    return int(CELL_LENGTH / MEAN_CAR_LENGTH) * APPROACH_LANES \n",
    "\n",
    "def F_mapping(i):\n",
    "    if i in set_C_I:\n",
    "        return SAT_FLOW_RATE * TURN_LANES[i[1]]\n",
    "    return SAT_FLOW_RATE * APPROACH_LANES"
   ]
  },
  {
   "cell_type": "code",
   "execution_count": 67,
   "metadata": {},
   "outputs": [],
   "source": [
    "d = {(i,t): FLOW_SAT*APPROACH_LANES*TIME_STEP / (3600)\n",
    "    for i in set_C_O\n",
    "    for t in set_T}\n",
    "\n",
    "M = {i: M_mapping(i)\n",
    "    for i in set_C}\n",
    "\n",
    "F = {i: F_mapping(i)\n",
    "    for i in set_C}\n",
    "\n",
    "r = {i: TURN_RATIOS[i[1]]\n",
    "    for i in set_C_I}\n",
    "\n",
    "alpha = 0.2"
   ]
  },
  {
   "cell_type": "markdown",
   "metadata": {},
   "source": [
    "## Initialize Model"
   ]
  },
  {
   "cell_type": "code",
   "execution_count": 68,
   "metadata": {},
   "outputs": [],
   "source": [
    "model = cpx.Model(name=\"Thesis MILP model\")"
   ]
  },
  {
   "cell_type": "markdown",
   "metadata": {},
   "source": [
    "## Decision Variables"
   ]
  },
  {
   "cell_type": "code",
   "execution_count": 69,
   "metadata": {},
   "outputs": [],
   "source": [
    "g_vars = {(i,t): model.binary_var(\n",
    "    name=\"g_{}^{}\".format(i,t))\n",
    "for i in set_C_I\n",
    "for t in set_T}"
   ]
  },
  {
   "cell_type": "code",
   "execution_count": 70,
   "metadata": {},
   "outputs": [],
   "source": [
    "x_vars = {(i,t): model.continuous_var(\n",
    "    lb=0,\n",
    "    ub=M[i],\n",
    "    name=\"x_{}^{}\".format(i,t))\n",
    "for i in set_C\n",
    "for t in set_T}"
   ]
  },
  {
   "cell_type": "code",
   "execution_count": 71,
   "metadata": {},
   "outputs": [],
   "source": [
    "y_vars = {(i,j,t): model.continuous_var(\n",
    "    lb=0,\n",
    "    ub=min(F[i],F[j]),\n",
    "    name=\"y_{}_{}^{}\".format(i,j,t))\n",
    "for i in set_C\n",
    "for j in S_mapping(i)\n",
    "for t in set_T}"
   ]
  },
  {
   "cell_type": "markdown",
   "metadata": {},
   "source": [
    "## Constraints"
   ]
  },
  {
   "cell_type": "markdown",
   "metadata": {},
   "source": [
    "### Flow Conservation"
   ]
  },
  {
   "cell_type": "code",
   "execution_count": 72,
   "metadata": {},
   "outputs": [],
   "source": [
    "flowcon_1 = [\n",
    "    (model.add_constraint(\n",
    "        ct=(\n",
    "            model.sum(y_vars[(k,i,t)] for k in P[i])\n",
    "            - model.sum(y_vars[(i,j,t)] for j in S[i])\n",
    "            - x_vars[(i,t+1)]\n",
    "            + x_vars[(i,t)]\n",
    "            == 0\n",
    "        ),\n",
    "        ctname=\"flowcon_normal_{}^{}\".format(i,t)\n",
    "    ))\n",
    "    for t in set_T_bounded\n",
    "    for i in set_C_N + set_C_I\n",
    "]"
   ]
  },
  {
   "cell_type": "code",
   "execution_count": 73,
   "metadata": {},
   "outputs": [],
   "source": [
    "flowcon_2 = [\n",
    "    (model.add_constraint(\n",
    "        ct=(\n",
    "            d[(i,t)]\n",
    "            - model.sum(y_vars[(i,j,t)] for j in S[i])\n",
    "            - x_vars[(i,t+1)]\n",
    "            + x_vars[(i,t)]\n",
    "            == 0\n",
    "        ),\n",
    "        ctname=\"flowcon_source_{}^{}\".format(i,t)\n",
    "    ))\n",
    "    for t in set_T_bounded\n",
    "    for i in set_C_O\n",
    "]"
   ]
  },
  {
   "cell_type": "code",
   "execution_count": 74,
   "metadata": {},
   "outputs": [],
   "source": [
    "flowcon_3 = [\n",
    "    (model.add_constraint(\n",
    "        ct=(\n",
    "            model.sum(y_vars[(k,i,t)] for k in P[i])\n",
    "            - x_vars[(i,t+1)]\n",
    "            + x_vars[(i,t)]\n",
    "            == 0\n",
    "        ),\n",
    "        ctname=\"flowcon_sink_{}^{}\".format(i,t)\n",
    "    ))\n",
    "    for t in set_T_bounded\n",
    "    for i in set_C_S\n",
    "]"
   ]
  },
  {
   "cell_type": "code",
   "execution_count": 75,
   "metadata": {},
   "outputs": [
    {
     "name": "stdout",
     "output_type": "stream",
     "text": [
      "Expected constraint count: 1888\n",
      "Actual constraint count: 1888\n"
     ]
    }
   ],
   "source": [
    "constraint_flowcon = {\n",
    "    'source': flowcon_2,\n",
    "    'sink': flowcon_3,\n",
    "    'rest': flowcon_1\n",
    "}\n",
    "\n",
    "print(\"Expected constraint count: {}\".format((TIME_RANGE-1) * TOTAL_CELL_COUNT))\n",
    "print(\"Actual constraint count: {}\".format(len(flowcon_1) + len(flowcon_2) + len(flowcon_3)))\n"
   ]
  },
  {
   "cell_type": "markdown",
   "metadata": {},
   "source": [
    "### Flow Rate"
   ]
  },
  {
   "cell_type": "code",
   "execution_count": 110,
   "metadata": {},
   "outputs": [],
   "source": [
    "flowrate_1 = [\n",
    "    (model.add_constraint(\n",
    "        ct=(\n",
    "            model.sum(y_vars[(i,j,t)] for j in S[i])\n",
    "            - x_vars[(i,t)]\n",
    "            <= 0\n",
    "        ),\n",
    "        ctname=\"flowrate_srccap_{}^{}\".format(i,t)\n",
    "    ))\n",
    "    for t in set_T\n",
    "    for i in set_C if i not in set_C_S\n",
    "]"
   ]
  },
  {
   "cell_type": "code",
   "execution_count": 113,
   "metadata": {},
   "outputs": [],
   "source": [
    "flowrate_2 = [\n",
    "    (model.add_constraint(\n",
    "        ct=(\n",
    "            model.sum(y_vars[(i,j,t)] for i in P[j])\n",
    "            - M[j]\n",
    "            + x_vars[(j,t)]\n",
    "            <= 0\n",
    "        ),\n",
    "        ctname=\"flowrate_destcap_{}^{}\".format(j,t)\n",
    "    ))\n",
    "    for t in set_T\n",
    "    for j in set_C if j not in set_C_O\n",
    "]"
   ]
  },
  {
   "cell_type": "code",
   "execution_count": 114,
   "metadata": {},
   "outputs": [
    {
     "name": "stdout",
     "output_type": "stream",
     "text": [
      "Expected constraint count: 3360\n",
      "Actual constraint count: 3360\n"
     ]
    }
   ],
   "source": [
    "constraint_flowrate = {\n",
    "    'source_cap': flowrate_1,\n",
    "    'sink_cap': flowrate_2\n",
    "}\n",
    "\n",
    "print(\"Expected constraint count: {}\".format(TIME_RANGE * (TOTAL_CELL_COUNT-4) * 2))\n",
    "print(\"Actual constraint count: {}\".format(len(flowrate_1) + len(flowrate_2)))"
   ]
  },
  {
   "cell_type": "markdown",
   "metadata": {},
   "source": [
    "### Turning Ratios"
   ]
  },
  {
   "cell_type": "code",
   "execution_count": 116,
   "metadata": {},
   "outputs": [],
   "source": [
    "turnratios = [\n",
    "    (model.add_constraint(\n",
    "        y_vars[(i,j,t)]\n",
    "        - model.sum(r[j] * y_vars[(i,k,t)] for k in S[i])\n",
    "        <= 0\n",
    "    ))\n",
    "    for t in set_T\n",
    "    for j in set_C_I\n",
    "    for i in P[j]\n",
    "]"
   ]
  },
  {
   "cell_type": "code",
   "execution_count": 117,
   "metadata": {},
   "outputs": [
    {
     "name": "stdout",
     "output_type": "stream",
     "text": [
      "Expected constraint count: 720\n",
      "Actual constraint count: 720\n"
     ]
    }
   ],
   "source": [
    "constraint_turnratios = {\n",
    "    'turn_ratios': turnratios\n",
    "}\n",
    "\n",
    "print(\"Expected constraint count: {}\".format(TIME_RANGE * MOVEMENT_CELLS * APPROACHES))\n",
    "print(\"Actual constraint count: {}\".format(len(turnratios)))"
   ]
  },
  {
   "cell_type": "markdown",
   "metadata": {},
   "source": [
    "## Objective Function"
   ]
  },
  {
   "cell_type": "code",
   "execution_count": 76,
   "metadata": {},
   "outputs": [],
   "source": [
    "D_max = 1.0 / sum([ M[i] for i in set_C for t in set_T ])\n",
    "T_max = 1.0 / sum([ M[i] for i in set_C_S for t in set_T ])\n",
    "\n",
    "D = model.sum(\n",
    "    model.sum(\n",
    "        D_max * x_vars[(i,t)] - model.sum(\n",
    "            D_max * y_vars[(i,j,t)]\n",
    "            for j in S_mapping(i))\n",
    "        for i in set_C)\n",
    "    for t in set_T)\n",
    "\n",
    "T = model.sum(\n",
    "    model.sum(\n",
    "        T_max * x_vars[(i,t)]\n",
    "        for i in set_C_S)\n",
    "    for t in set_T)\n",
    "\n",
    "\n",
    "objective = alpha*D - (1-alpha)*T"
   ]
  },
  {
   "cell_type": "code",
   "execution_count": 77,
   "metadata": {},
   "outputs": [],
   "source": [
    "model.minimize(objective)"
   ]
  },
  {
   "cell_type": "markdown",
   "metadata": {},
   "source": [
    "## Solving"
   ]
  },
  {
   "cell_type": "code",
   "execution_count": 78,
   "metadata": {},
   "outputs": [
    {
     "name": "stdout",
     "output_type": "stream",
     "text": [
      "Solving...\n",
      "Done!\n"
     ]
    }
   ],
   "source": [
    "print(\"Solving...\")\n",
    "model.solve()\n",
    "print(\"Done!\")"
   ]
  },
  {
   "cell_type": "markdown",
   "metadata": {},
   "source": [
    "## Results"
   ]
  },
  {
   "cell_type": "code",
   "execution_count": 98,
   "metadata": {
    "scrolled": true
   },
   "outputs": [
    {
     "name": "stdout",
     "output_type": "stream",
     "text": [
      "                index variable_object  solution_value\n",
      "0     ((2, 2, 1), 57)  x_(2, 2, 1)^57             5.0\n",
      "1      ((3, 0, 3), 3)   x_(3, 0, 3)^3             0.0\n",
      "2     ((1, 0, 3), 26)  x_(1, 0, 3)^26            20.0\n",
      "3     ((2, 1, 1), 41)  x_(2, 1, 1)^41             2.0\n",
      "4      ((3, 2, 3), 6)   x_(3, 2, 3)^6             0.0\n",
      "5     ((2, 2, 3), 37)  x_(2, 2, 3)^37             5.0\n",
      "6     ((0, 0, 2), 51)  x_(0, 0, 2)^51            20.0\n",
      "7     ((2, 1, 3), 37)  x_(2, 1, 3)^37             2.0\n",
      "8     ((1, 0, 1), 26)  x_(1, 0, 1)^26            20.0\n",
      "9     ((3, 2, 0), 26)  x_(3, 2, 0)^26             4.0\n",
      "10    ((2, 2, 1), 30)  x_(2, 2, 1)^30             5.0\n",
      "11     ((1, 0, 0), 1)   x_(1, 0, 0)^1            19.0\n",
      "12    ((2, 0, 3), 50)  x_(2, 0, 3)^50             5.0\n",
      "13    ((0, 0, 1), 39)  x_(0, 0, 1)^39            13.0\n",
      "14    ((2, 2, 0), 32)  x_(2, 2, 0)^32             5.0\n",
      "15    ((3, 0, 0), 17)  x_(3, 0, 0)^17             0.0\n",
      "16    ((3, 1, 1), 44)  x_(3, 1, 1)^44             0.0\n",
      "17    ((3, 2, 2), 50)  x_(3, 2, 2)^50             0.0\n",
      "18    ((2, 0, 1), 42)  x_(2, 0, 1)^42             5.0\n",
      "19    ((0, 0, 3), 39)  x_(0, 0, 3)^39            13.0\n",
      "20    ((0, 0, 2), 30)  x_(0, 0, 2)^30             4.0\n",
      "21    ((3, 0, 2), 56)  x_(3, 0, 2)^56             0.0\n",
      "22    ((3, 1, 3), 56)  x_(3, 1, 3)^56            17.0\n",
      "23    ((0, 0, 0), 26)  x_(0, 0, 0)^26            16.0\n",
      "24    ((3, 1, 0), 28)  x_(3, 1, 0)^28             0.0\n",
      "25    ((1, 0, 3), 19)  x_(1, 0, 3)^19            20.0\n",
      "26    ((2, 1, 1), 46)  x_(2, 1, 1)^46             2.0\n",
      "27    ((3, 2, 3), 15)  x_(3, 2, 3)^15             0.0\n",
      "28    ((2, 2, 3), 44)  x_(2, 2, 3)^44             5.0\n",
      "29    ((3, 0, 3), 44)  x_(3, 0, 3)^44            12.0\n",
      "...               ...             ...             ...\n",
      "1890  ((2, 0, 2), 33)  x_(2, 0, 2)^33             5.0\n",
      "1891  ((3, 0, 2), 42)  x_(3, 0, 2)^42            12.0\n",
      "1892  ((2, 1, 2), 52)  x_(2, 1, 2)^52             2.0\n",
      "1893  ((1, 0, 1), 20)  x_(1, 0, 1)^20            20.0\n",
      "1894  ((2, 0, 0), 53)  x_(2, 0, 0)^53             5.0\n",
      "1895  ((3, 2, 0), 12)  x_(3, 2, 0)^12             0.0\n",
      "1896  ((1, 0, 0), 19)  x_(1, 0, 0)^19            20.0\n",
      "1897  ((0, 0, 1), 49)  x_(0, 0, 1)^49            20.0\n",
      "1898  ((2, 2, 0), 18)  x_(2, 2, 0)^18             2.0\n",
      "1899  ((3, 0, 0), 31)  x_(3, 0, 0)^31            12.0\n",
      "1900   ((2, 2, 1), 6)   x_(2, 2, 1)^6             2.0\n",
      "1901   ((3, 2, 2), 0)   x_(3, 2, 2)^0             0.0\n",
      "1902  ((0, 0, 3), 53)  x_(0, 0, 3)^53            18.0\n",
      "1903  ((3, 1, 3), 46)  x_(3, 1, 3)^46             0.0\n",
      "1904  ((0, 0, 0), 12)  x_(0, 0, 0)^12             6.0\n",
      "1905   ((1, 0, 3), 1)   x_(1, 0, 3)^1            19.0\n",
      "1906  ((3, 0, 2), 33)  x_(3, 0, 2)^33            12.0\n",
      "1907  ((2, 1, 3), 44)  x_(2, 1, 3)^44             2.0\n",
      "1908  ((1, 0, 1), 29)  x_(1, 0, 1)^29            20.0\n",
      "1909   ((3, 2, 0), 3)   x_(3, 2, 0)^3             0.0\n",
      "1910  ((1, 0, 0), 26)  x_(1, 0, 0)^26            20.0\n",
      "1911  ((0, 0, 1), 40)  x_(0, 0, 1)^40            14.0\n",
      "1912  ((2, 2, 0), 27)  x_(2, 2, 0)^27             2.0\n",
      "1913  ((3, 0, 0), 22)  x_(3, 0, 0)^22             0.0\n",
      "1914  ((2, 2, 1), 13)  x_(2, 2, 1)^13             2.0\n",
      "1915  ((3, 1, 1), 37)  x_(3, 1, 1)^37             0.0\n",
      "1916  ((3, 2, 2), 59)  x_(3, 2, 2)^59            20.0\n",
      "1917  ((3, 0, 3), 43)  x_(3, 0, 3)^43            12.0\n",
      "1918  ((3, 1, 3), 33)  x_(3, 1, 3)^33             0.0\n",
      "1919  ((0, 0, 0), 21)  x_(0, 0, 0)^21            15.0\n",
      "\n",
      "[1920 rows x 3 columns]\n",
      "status  = integer optimal solution\n",
      "time    = 0.0234261 s.\n",
      "problem = MILP\n",
      "gap     = 0%\n",
      "\n",
      "-0.7245\n",
      "index               object\n",
      "variable_object     object\n",
      "solution_value     float64\n",
      "dtype: object\n"
     ]
    }
   ],
   "source": [
    "opt_df = pd.DataFrame.from_dict(x_vars, orient=\"index\", \n",
    "                                columns = [\"variable_object\"])\n",
    "\n",
    "opt_df.reset_index(inplace=True)\n",
    "\n",
    "opt_df[\"solution_value\"] = opt_df[\"variable_object\"].apply(lambda item: item.solution_value)\n",
    "\n",
    "print(opt_df)\n",
    "print(model.get_solve_details())\n",
    "print(model.objective_value)\n",
    "print(opt_df.dtypes)"
   ]
  },
  {
   "cell_type": "code",
   "execution_count": 101,
   "metadata": {},
   "outputs": [
    {
     "ename": "KeyError",
     "evalue": "False",
     "output_type": "error",
     "traceback": [
      "\u001b[0;31m---------------------------------------------------------------------------\u001b[0m",
      "\u001b[0;31mKeyError\u001b[0m                                  Traceback (most recent call last)",
      "\u001b[0;32m<ipython-input-101-d9858c1c616c>\u001b[0m in \u001b[0;36m<module>\u001b[0;34m()\u001b[0m\n\u001b[0;32m----> 1\u001b[0;31m \u001b[0mdf\u001b[0m \u001b[0;34m=\u001b[0m \u001b[0mopt_df\u001b[0m\u001b[0;34m[\u001b[0m\u001b[0;34m(\u001b[0m\u001b[0mopt_df\u001b[0m\u001b[0;34m[\u001b[0m\u001b[0;34m'index'\u001b[0m\u001b[0;34m]\u001b[0m\u001b[0;34m[\u001b[0m\u001b[0;36m1\u001b[0m\u001b[0;34m]\u001b[0m \u001b[0;34m==\u001b[0m \u001b[0;36m40\u001b[0m\u001b[0;34m)\u001b[0m\u001b[0;34m]\u001b[0m\u001b[0;34m\u001b[0m\u001b[0m\n\u001b[0m\u001b[1;32m      2\u001b[0m \u001b[0;34m\u001b[0m\u001b[0m\n\u001b[1;32m      3\u001b[0m \u001b[0mdf\u001b[0m \u001b[0;34m=\u001b[0m \u001b[0mdf\u001b[0m\u001b[0;34m.\u001b[0m\u001b[0msort_index\u001b[0m\u001b[0;34m(\u001b[0m\u001b[0;34m)\u001b[0m\u001b[0;34m\u001b[0m\u001b[0m\n\u001b[1;32m      4\u001b[0m \u001b[0;34m\u001b[0m\u001b[0m\n\u001b[1;32m      5\u001b[0m \u001b[0;32mprint\u001b[0m\u001b[0;34m(\u001b[0m\u001b[0mdf\u001b[0m\u001b[0;34m)\u001b[0m\u001b[0;34m\u001b[0m\u001b[0m\n",
      "\u001b[0;32m/home/franciszacdlc/.virtualenvs/localsim2.7/local/lib/python2.7/site-packages/pandas/core/frame.pyc\u001b[0m in \u001b[0;36m__getitem__\u001b[0;34m(self, key)\u001b[0m\n\u001b[1;32m   2925\u001b[0m             \u001b[0;32mif\u001b[0m \u001b[0mself\u001b[0m\u001b[0;34m.\u001b[0m\u001b[0mcolumns\u001b[0m\u001b[0;34m.\u001b[0m\u001b[0mnlevels\u001b[0m \u001b[0;34m>\u001b[0m \u001b[0;36m1\u001b[0m\u001b[0;34m:\u001b[0m\u001b[0;34m\u001b[0m\u001b[0m\n\u001b[1;32m   2926\u001b[0m                 \u001b[0;32mreturn\u001b[0m \u001b[0mself\u001b[0m\u001b[0;34m.\u001b[0m\u001b[0m_getitem_multilevel\u001b[0m\u001b[0;34m(\u001b[0m\u001b[0mkey\u001b[0m\u001b[0;34m)\u001b[0m\u001b[0;34m\u001b[0m\u001b[0m\n\u001b[0;32m-> 2927\u001b[0;31m             \u001b[0mindexer\u001b[0m \u001b[0;34m=\u001b[0m \u001b[0mself\u001b[0m\u001b[0;34m.\u001b[0m\u001b[0mcolumns\u001b[0m\u001b[0;34m.\u001b[0m\u001b[0mget_loc\u001b[0m\u001b[0;34m(\u001b[0m\u001b[0mkey\u001b[0m\u001b[0;34m)\u001b[0m\u001b[0;34m\u001b[0m\u001b[0m\n\u001b[0m\u001b[1;32m   2928\u001b[0m             \u001b[0;32mif\u001b[0m \u001b[0mis_integer\u001b[0m\u001b[0;34m(\u001b[0m\u001b[0mindexer\u001b[0m\u001b[0;34m)\u001b[0m\u001b[0;34m:\u001b[0m\u001b[0;34m\u001b[0m\u001b[0m\n\u001b[1;32m   2929\u001b[0m                 \u001b[0mindexer\u001b[0m \u001b[0;34m=\u001b[0m \u001b[0;34m[\u001b[0m\u001b[0mindexer\u001b[0m\u001b[0;34m]\u001b[0m\u001b[0;34m\u001b[0m\u001b[0m\n",
      "\u001b[0;32m/home/franciszacdlc/.virtualenvs/localsim2.7/local/lib/python2.7/site-packages/pandas/core/indexes/base.pyc\u001b[0m in \u001b[0;36mget_loc\u001b[0;34m(self, key, method, tolerance)\u001b[0m\n\u001b[1;32m   2656\u001b[0m                 \u001b[0;32mreturn\u001b[0m \u001b[0mself\u001b[0m\u001b[0;34m.\u001b[0m\u001b[0m_engine\u001b[0m\u001b[0;34m.\u001b[0m\u001b[0mget_loc\u001b[0m\u001b[0;34m(\u001b[0m\u001b[0mkey\u001b[0m\u001b[0;34m)\u001b[0m\u001b[0;34m\u001b[0m\u001b[0m\n\u001b[1;32m   2657\u001b[0m             \u001b[0;32mexcept\u001b[0m \u001b[0mKeyError\u001b[0m\u001b[0;34m:\u001b[0m\u001b[0;34m\u001b[0m\u001b[0m\n\u001b[0;32m-> 2658\u001b[0;31m                 \u001b[0;32mreturn\u001b[0m \u001b[0mself\u001b[0m\u001b[0;34m.\u001b[0m\u001b[0m_engine\u001b[0m\u001b[0;34m.\u001b[0m\u001b[0mget_loc\u001b[0m\u001b[0;34m(\u001b[0m\u001b[0mself\u001b[0m\u001b[0;34m.\u001b[0m\u001b[0m_maybe_cast_indexer\u001b[0m\u001b[0;34m(\u001b[0m\u001b[0mkey\u001b[0m\u001b[0;34m)\u001b[0m\u001b[0;34m)\u001b[0m\u001b[0;34m\u001b[0m\u001b[0m\n\u001b[0m\u001b[1;32m   2659\u001b[0m         \u001b[0mindexer\u001b[0m \u001b[0;34m=\u001b[0m \u001b[0mself\u001b[0m\u001b[0;34m.\u001b[0m\u001b[0mget_indexer\u001b[0m\u001b[0;34m(\u001b[0m\u001b[0;34m[\u001b[0m\u001b[0mkey\u001b[0m\u001b[0;34m]\u001b[0m\u001b[0;34m,\u001b[0m \u001b[0mmethod\u001b[0m\u001b[0;34m=\u001b[0m\u001b[0mmethod\u001b[0m\u001b[0;34m,\u001b[0m \u001b[0mtolerance\u001b[0m\u001b[0;34m=\u001b[0m\u001b[0mtolerance\u001b[0m\u001b[0;34m)\u001b[0m\u001b[0;34m\u001b[0m\u001b[0m\n\u001b[1;32m   2660\u001b[0m         \u001b[0;32mif\u001b[0m \u001b[0mindexer\u001b[0m\u001b[0;34m.\u001b[0m\u001b[0mndim\u001b[0m \u001b[0;34m>\u001b[0m \u001b[0;36m1\u001b[0m \u001b[0;32mor\u001b[0m \u001b[0mindexer\u001b[0m\u001b[0;34m.\u001b[0m\u001b[0msize\u001b[0m \u001b[0;34m>\u001b[0m \u001b[0;36m1\u001b[0m\u001b[0;34m:\u001b[0m\u001b[0;34m\u001b[0m\u001b[0m\n",
      "\u001b[0;32mpandas/_libs/index.pyx\u001b[0m in \u001b[0;36mpandas._libs.index.IndexEngine.get_loc\u001b[0;34m()\u001b[0m\n",
      "\u001b[0;32mpandas/_libs/index.pyx\u001b[0m in \u001b[0;36mpandas._libs.index.IndexEngine.get_loc\u001b[0;34m()\u001b[0m\n",
      "\u001b[0;32mpandas/_libs/hashtable_class_helper.pxi\u001b[0m in \u001b[0;36mpandas._libs.hashtable.PyObjectHashTable.get_item\u001b[0;34m()\u001b[0m\n",
      "\u001b[0;32mpandas/_libs/hashtable_class_helper.pxi\u001b[0m in \u001b[0;36mpandas._libs.hashtable.PyObjectHashTable.get_item\u001b[0;34m()\u001b[0m\n",
      "\u001b[0;31mKeyError\u001b[0m: False"
     ]
    }
   ],
   "source": [
    "df = opt_df[(opt_df['index'][1] == 40)]\n",
    "\n",
    "df = df.sort_index()\n",
    "\n",
    "print(df)"
   ]
  },
  {
   "cell_type": "code",
   "execution_count": null,
   "metadata": {},
   "outputs": [],
   "source": []
  }
 ],
 "metadata": {
  "kernelspec": {
   "display_name": "Python 2",
   "language": "python",
   "name": "python2"
  },
  "language_info": {
   "codemirror_mode": {
    "name": "ipython",
    "version": 2
   },
   "file_extension": ".py",
   "mimetype": "text/x-python",
   "name": "python",
   "nbconvert_exporter": "python",
   "pygments_lexer": "ipython2",
   "version": "2.7.12"
  }
 },
 "nbformat": 4,
 "nbformat_minor": 2
}
