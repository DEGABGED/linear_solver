{
 "cells": [
  {
   "cell_type": "markdown",
   "metadata": {},
   "source": [
    "# CTM MILP Model Running Environment"
   ]
  },
  {
   "cell_type": "code",
   "execution_count": 1,
   "metadata": {},
   "outputs": [],
   "source": [
    "import numpy as np\n",
    "import pandas as pd\n",
    "import matplotlib.pyplot as plt\n",
    "import seaborn as sns\n",
    "import random\n",
    "from pprint import pprint\n",
    "import time\n",
    "\n",
    "from ctmmodels.const import *\n",
    "from ctmmodels.delaythroughput import DelayThroughputAltPhasing as Model"
   ]
  },
  {
   "cell_type": "code",
   "execution_count": 2,
   "metadata": {},
   "outputs": [],
   "source": [
    "IMAGE_PATH = 'graphs/'"
   ]
  },
  {
   "cell_type": "markdown",
   "metadata": {},
   "source": [
    "**Notes on the models and parameters being used:**\n",
    "\n",
    "* 2 separate formulations were made: 1 dealing with individual movements in the intersection, and another dealing with phases in the stoplight. The latter has 33% less binary variables, and thus performed better in basic tests.\n",
    "\n",
    "* Saturation flow rate will be set to 600 vph instead of the 450 vph in the parent paper; this is so as to test both under and over saturated conditions.\n",
    "\n",
    "* Traffic will be distributed evenly between the 3 possible turns (left, through, and right). This is based on previous tests where left was getting essentially 0 green time.\n",
    "\n",
    "* Time range will be set to 60 seconds, or 30 time steps at 2 seconds per time step. Preliminary experiments show that 50 is the optimal cycle time for both delay and throughput (at demands ranging from 450 to 900 vph). *However*, previous tests on this model showed that no time was allotted to left turns when the cycle time was too small."
   ]
  },
  {
   "cell_type": "code",
   "execution_count": 3,
   "metadata": {},
   "outputs": [],
   "source": [
    "time_range = 30\n",
    "time_ticks = np.arange(0, time_range+1, 1)\n",
    "\n",
    "parameters = {\n",
    "    'r_left': 1.0/3.0,\n",
    "    'r_through': 1.0/3.0,\n",
    "    'r_right': 1.0/3.0,\n",
    "    'sat_flow_rate': 1800,\n",
    "    'time_range': time_range,\n",
    "    'time_step': 2,\n",
    "    'g_min': 6,\n",
    "    'g_max': 20\n",
    "}\n",
    "\n",
    "# Varying parameters: demand, use_flow_weight, flow_weight, alpha"
   ]
  },
  {
   "cell_type": "code",
   "execution_count": 4,
   "metadata": {},
   "outputs": [],
   "source": [
    "def run_model(demand, use=False, flow_weight=0.0, alpha=1.0, log_output=True):\n",
    "    model = Model(\n",
    "        demand=demand,\n",
    "        use_flow_weight=use,\n",
    "        flow_weight=flow_weight,\n",
    "        alpha=alpha,\n",
    "        **parameters\n",
    "    )\n",
    "    model.generate()\n",
    "    runtime = model.solve(log_output=log_output)\n",
    "    dfx, dfy, dfg = model.return_solution()\n",
    "    dfparams = model.return_parameters()\n",
    "    return dfx, dfy, dfg, dfparams, runtime"
   ]
  },
  {
   "cell_type": "code",
   "execution_count": 5,
   "metadata": {
    "scrolled": true
   },
   "outputs": [
    {
     "name": "stdout",
     "output_type": "stream",
     "text": [
      "Solving...\n",
      "CPXPARAM_Read_DataCheck                          1\n",
      "Tried aggregator 2 times.\n",
      "MIP Presolve eliminated 1940 rows and 292 columns.\n",
      "MIP Presolve modified 752 coefficients.\n",
      "Aggregator did 128 substitutions.\n",
      "Reduced MIP has 3482 rows, 1860 columns, and 12232 nonzeros.\n",
      "Reduced MIP has 240 binaries, 0 generals, 0 SOSs, and 0 indicators.\n",
      "Presolve time = 0.02 sec. (12.67 ticks)\n",
      "Found incumbent of value 1142.470610 after 0.05 sec. (26.16 ticks)\n",
      "Probing fixed 0 vars, tightened 142 bounds.\n",
      "Probing time = 0.01 sec. (0.61 ticks)\n",
      "Tried aggregator 2 times.\n",
      "MIP Presolve eliminated 604 rows and 104 columns.\n",
      "Aggregator did 88 substitutions.\n",
      "Reduced MIP has 2790 rows, 1668 columns, and 10524 nonzeros.\n",
      "Reduced MIP has 240 binaries, 0 generals, 0 SOSs, and 0 indicators.\n",
      "Presolve time = 0.02 sec. (5.55 ticks)\n",
      "Probing time = 0.01 sec. (0.41 ticks)\n",
      "Tried aggregator 1 time.\n",
      "Reduced MIP has 2790 rows, 1668 columns, and 10524 nonzeros.\n",
      "Reduced MIP has 240 binaries, 0 generals, 0 SOSs, and 0 indicators.\n",
      "Presolve time = 0.01 sec. (7.22 ticks)\n",
      "Probing time = 0.01 sec. (0.51 ticks)\n",
      "Clique table members: 120.\n",
      "MIP emphasis: balance optimality and feasibility.\n",
      "MIP search method: dynamic search.\n",
      "Parallel mode: deterministic, using up to 4 threads.\n",
      "Root relaxation solution time = 0.20 sec. (172.84 ticks)\n",
      "\n",
      "        Nodes                                         Cuts/\n",
      "   Node  Left     Objective  IInf  Best Integer    Best Bound    ItCnt     Gap\n",
      "\n",
      "*     0+    0                         1142.4706    -5257.6363           560.20%\n",
      "      0     0     -761.9636   157     1142.4706     -761.9636       18  166.69%\n",
      "*     0+    0                         -599.3935     -761.9636            27.12%\n",
      "      0     0     -756.2033   143     -599.3935     Cuts: 125      255   26.16%\n",
      "*     0+    0                         -642.8139     -756.2033            17.64%\n",
      "      0     0     -746.9741   163     -642.8139      Cuts: 38      565   16.20%\n",
      "      0     0     -746.4097   153     -642.8139      Cuts: 38      624   16.12%\n",
      "      0     0     -745.4995   152     -642.8139      Cuts: 17      665   15.97%\n",
      "*     0+    0                         -653.1850     -745.4995            14.13%\n",
      "      0     0     -745.0050   160     -653.1850      Cuts: 17      725   14.06%\n",
      "      0     0     -744.9043   156     -653.1850      Cuts: 11      736   14.04%\n",
      "      0     0     -744.8996   156     -653.1850       Cuts: 3      738   14.04%\n",
      "*     0+    0                         -670.2572     -744.8996            11.14%\n",
      "      0     0     -744.8996   156     -670.2572   Flowcuts: 2      739   11.14%\n",
      "*     0+    0                         -672.0975     -744.8996            10.83%\n",
      "      0     2     -744.8996   156     -672.0975     -742.5363      739   10.48%\n",
      "Elapsed time = 2.09 sec. (1096.17 ticks, tree = 0.01 MB, solutions = 6)\n",
      "     69    61        cutoff           -672.0975     -742.5363     6609   10.48%\n",
      "*   146+  101                         -678.4868     -742.5363             9.44%\n",
      "    159   116     -695.0054    32     -678.4868     -742.5363    14537    9.44%\n",
      "*   179+  132                         -681.7406     -742.5363             8.92%\n",
      "*   207   144      integral     0     -681.7952     -742.5363    16799    8.91%\n",
      "    267   188     -700.8200   101     -681.7952     -732.6492    23225    7.46%\n",
      "    355   234        cutoff           -681.7952     -730.2998    30336    7.11%\n",
      "    448   300     -688.0716    82     -681.7952     -724.5162    40537    6.27%\n",
      "    540   356     -682.6437    56     -681.7952     -724.4613    47697    6.26%\n",
      "*   567+  323                         -682.0542     -724.4613             6.22%\n",
      "*   568+  323                         -684.6052     -724.4613             5.82%\n",
      "    590   346     -699.5588    74     -684.6052     -721.5642    52110    5.40%\n",
      "*   628+  368                         -684.6052     -721.4148             5.38%\n",
      "    682   397     -700.6329    62     -684.6052     -720.1293    59042    5.19%\n",
      "    794   457     -691.0506    46     -684.6052     -719.2074    65509    5.05%\n",
      "*  1077   602      integral     0     -686.4786     -713.8712    82816    3.99%\n",
      "Elapsed time = 6.69 sec. (3806.04 ticks, tree = 4.81 MB, solutions = 14)\n",
      "*  1079   564      integral     0     -686.7971     -713.8712    82817    3.94%\n",
      "   1518   733     -701.6588    98     -686.7971     -708.3399   105400    3.14%\n",
      "   1993   946     -688.1575    70     -686.7971     -705.6557   133777    2.75%\n",
      "   2592  1148     -691.5368   103     -686.7971     -702.8626   156490    2.34%\n",
      "   3129  1336        cutoff           -686.7971     -700.4319   186702    1.99%\n",
      "   3613  1472     -738.5172   162     -686.7971     -698.6153   215969    1.72%\n",
      "   3644    48     -706.7811   108     -686.7971     -698.6153   222911    1.72%\n",
      "   3863   143     -725.8018   125     -686.7971     -698.6153   252534    1.72%\n",
      "   4220   397     -694.0087    83     -686.7971     -698.6153   273750    1.72%\n",
      "   4677   668        cutoff           -686.7971     -698.6153   296516    1.72%\n",
      "   5116   914     -704.8689   127     -686.7971     -698.6153   318747    1.72%\n",
      "Elapsed time = 24.04 sec. (15074.02 ticks, tree = 12.75 MB, solutions = 15)\n",
      "   5596  1134     -700.2230    90     -686.7971     -698.6153   341422    1.72%\n",
      "   6043  1386     -704.0105   123     -686.7971     -698.6153   364629    1.72%\n",
      "   6557  1581        cutoff           -686.7971     -698.6153   386390    1.72%\n",
      "   7059  1751     -691.2800    96     -686.7971     -698.6153   410136    1.72%\n",
      "   7558  1924     -689.6321    58     -686.7971     -698.6153   433597    1.72%\n",
      "*  7927  2061      integral     0     -688.6644     -698.6153   453488    1.44%\n",
      "   8514  1891     -691.6003    78     -688.6644     -698.6153   477679    1.44%\n",
      "   8989  1952     -691.1783    82     -688.6644     -697.8006   501665    1.33%\n",
      "   9578  1905     -693.2334    88     -688.6644     -696.7421   527171    1.17%\n",
      "  10163  1851        cutoff           -688.6644     -695.5422   548110    1.00%\n",
      "Elapsed time = 40.00 sec. (24339.34 ticks, tree = 27.77 MB, solutions = 16)\n",
      "  10789  1773     -689.3056    48     -688.6644     -694.7335   575701    0.88%\n",
      "  11402  1671        cutoff           -688.6644     -693.5509   598615    0.71%\n",
      "  12187  1437        cutoff           -688.6644     -692.3436   628302    0.53%\n",
      "  13193   809        cutoff           -688.6644     -690.5755   658270    0.28%\n",
      "\n",
      "Cover cuts applied:  127\n",
      "Implied bound cuts applied:  1\n",
      "Flow cuts applied:  36\n",
      "Mixed integer rounding cuts applied:  27\n",
      "Zero-half cuts applied:  6\n",
      "Lift and project cuts applied:  10\n",
      "Gomory fractional cuts applied:  29\n",
      "\n",
      "Root node processing (before b&c):\n",
      "  Real time             =    2.10 sec. (1094.04 ticks)\n",
      "Parallel b&c, 4 threads:\n",
      "  Real time             =   45.18 sec. (27568.45 ticks)\n",
      "  Sync time (average)   =    3.48 sec.\n",
      "  Wait time (average)   =    0.07 sec.\n",
      "                          ------------\n",
      "Total (root+branch&cut) =   47.27 sec. (28662.49 ticks)\n",
      "Done!\n",
      "Time elapsed: 47.3258290291\n"
     ]
    }
   ],
   "source": [
    "dfx, dfy, dfg, dfparams, runtime = run_model(demand=600, alpha=0.5, use=True, flow_weight=0.5)"
   ]
  },
  {
   "cell_type": "markdown",
   "metadata": {},
   "source": [
    "## Intersection Cell Network"
   ]
  },
  {
   "cell_type": "markdown",
   "metadata": {},
   "source": [
    "![title](img/4leg-intersection.png)"
   ]
  },
  {
   "cell_type": "markdown",
   "metadata": {},
   "source": [
    "## Setting the path of cells to check"
   ]
  },
  {
   "cell_type": "code",
   "execution_count": 6,
   "metadata": {},
   "outputs": [],
   "source": [
    "_approach = 0\n",
    "\n",
    "_approach_terms = [\n",
    "    'Left',\n",
    "    'Through',\n",
    "    'Right'\n",
    "]\n",
    "\n",
    "_cell_path = [\n",
    "    (CELL_SOURCE,0,_approach),\n",
    "    (CELL_NORMAL,0,_approach),\n",
    "    (CELL_NORMAL,1,_approach),\n",
    "    (CELL_NORMAL,2,_approach),\n",
    "    (CELL_MOVEMENT,THROUGH_TURN,_approach),\n",
    "    S_mapping((CELL_MOVEMENT,THROUGH_TURN,_approach))[0]\n",
    "]\n",
    "\n",
    "def movement_paths(approach):\n",
    "    return [\n",
    "        [\n",
    "            (CELL_SOURCE,0,approach),\n",
    "            (CELL_NORMAL,0,approach),\n",
    "            (CELL_NORMAL,1,approach),\n",
    "            (CELL_NORMAL,2,approach),\n",
    "            (CELL_MOVEMENT,LEFT_TURN,approach),\n",
    "            S_mapping((CELL_MOVEMENT,LEFT_TURN,approach))[0]\n",
    "        ],\n",
    "        [\n",
    "            (CELL_SOURCE,0,approach),\n",
    "            (CELL_NORMAL,0,approach),\n",
    "            (CELL_NORMAL,1,approach),\n",
    "            (CELL_NORMAL,2,approach),\n",
    "            (CELL_MOVEMENT,THROUGH_TURN,approach),\n",
    "            S_mapping((CELL_MOVEMENT,THROUGH_TURN,approach))[0]\n",
    "        ],\n",
    "        [\n",
    "            (CELL_SOURCE,0,approach),\n",
    "            (CELL_NORMAL,0,approach),\n",
    "            (CELL_NORMAL,1,approach),\n",
    "            (CELL_NORMAL,2,approach),\n",
    "            (CELL_MOVEMENT,RIGHT_TURN,approach),\n",
    "            S_mapping((CELL_MOVEMENT,RIGHT_TURN,approach))[0]\n",
    "        ]\n",
    "    ]"
   ]
  },
  {
   "cell_type": "markdown",
   "metadata": {},
   "source": [
    "## Comparing cell volumes"
   ]
  },
  {
   "cell_type": "code",
   "execution_count": 7,
   "metadata": {},
   "outputs": [],
   "source": [
    "def plot_volume(dfx, cell_path, title, headless=True, filename='volume.png'):\n",
    "    dfx_approach = pd.concat([\n",
    "        dfx[dfx.cell == c].sort_values(by='timestep')\n",
    "        for c in cell_path\n",
    "    ]).pivot(index='timestep', columns='cell', values='volume')\n",
    "    \n",
    "    fig, axs = plt.subplots(1,2, figsize=(20,10))\n",
    "    \n",
    "    sns.lineplot(data=dfx_approach, ax=axs[0])\n",
    "    sns.lineplot(data=dfx_approach.cumsum(), ax=axs[1])\n",
    "\n",
    "    axs[0].set_title('Volume of cells')\n",
    "    axs[0].set_xlabel('Timesteps')\n",
    "    axs[0].set_ylabel('Instantaneous volume')\n",
    "    axs[0].set_xticks(time_ticks, minor=True)\n",
    "\n",
    "    axs[1].set_title('Volume of cells (cumulative)')\n",
    "    axs[1].set_xlabel('Timesteps')\n",
    "    axs[1].set_ylabel('Cumulative volume')\n",
    "    axs[1].set_xticks(time_ticks, minor=True)\n",
    "    \n",
    "    fig.suptitle(title, fontsize=18)\n",
    "    \n",
    "    if headless:\n",
    "        fig.savefig(IMAGE_PATH + filename)\n",
    "        plt.close(fig)"
   ]
  },
  {
   "cell_type": "markdown",
   "metadata": {},
   "source": [
    "## Comparing flows"
   ]
  },
  {
   "cell_type": "code",
   "execution_count": 8,
   "metadata": {},
   "outputs": [],
   "source": [
    "def plot_flow(dfy, cell_path, title, headless=True, filename='flow.png'):\n",
    "    dfy_approach = pd.concat([\n",
    "        dfy[dfy.cell_from == c].groupby(['cell_from', 'timestep']).agg({'flow': 'sum'}).sort_values(by='timestep')\n",
    "        for c in cell_path\n",
    "    ]).reset_index().pivot(index='timestep', columns='cell_from', values='flow')\n",
    "    \n",
    "    fig, axs = plt.subplots(1,2, figsize=(20,10))\n",
    "\n",
    "    sns.lineplot(data=dfy_approach, ax=axs[0])\n",
    "    sns.lineplot(data=dfy_approach.cumsum(), ax=axs[1])\n",
    "\n",
    "    axs[0].set_title('Flow from cells')\n",
    "    axs[0].set_xlabel('Timesteps')\n",
    "    axs[0].set_ylabel('Instantaneous flow')\n",
    "    axs[0].set_xticks(time_ticks, minor=True)\n",
    "\n",
    "    axs[1].set_title('Flow from cells (cumulative)')\n",
    "    axs[1].set_xlabel('Timesteps')\n",
    "    axs[1].set_ylabel('Cumulative flow')\n",
    "    axs[1].set_xticks(time_ticks, minor=True)\n",
    "    \n",
    "    fig.suptitle(title, fontsize=18)\n",
    "    \n",
    "    if headless:\n",
    "        fig.savefig(IMAGE_PATH + filename)\n",
    "        plt.close(fig)"
   ]
  },
  {
   "cell_type": "markdown",
   "metadata": {},
   "source": [
    "## Comparing specific green time"
   ]
  },
  {
   "cell_type": "code",
   "execution_count": 9,
   "metadata": {
    "scrolled": false
   },
   "outputs": [],
   "source": [
    "all_phases = [intToBinTuple(x) for x in range(8)]\n",
    "all_phases_labels = [\n",
    "    \"Left, Westbound\",\n",
    "    \"Through, Eastbound\",\n",
    "    \"Left, Southbound\",\n",
    "    \"Through, Southbound\",\n",
    "    \"Left, Eastbound\",\n",
    "    \"Through, Westbound\",\n",
    "    \"Left, Northbound\",\n",
    "    \"Through, Northbound\",\n",
    "]\n",
    "\n",
    "def plot_greentime(dfg, title, headless=True, filename='greentime.png'):\n",
    "    dfg_map = dfg.pivot(index='timestep', columns='cell', values='is_green')\n",
    "\n",
    "    fig, axs = plt.subplots(8,1,figsize=(18,18), sharey=True)\n",
    "\n",
    "    for ndx, t in enumerate(all_phases):\n",
    "        sns.lineplot(data=dfg_map[t], ax=axs[ndx])\n",
    "        axs[ndx].text(0.01,.5,all_phases_labels[ndx],\n",
    "            horizontalalignment='left',\n",
    "            transform=axs[ndx].transAxes,\n",
    "            fontsize='large')\n",
    "        axs[ndx].set_xticks(time_ticks, minor=False)\n",
    "    \n",
    "    fig.suptitle(title, fontsize=18)\n",
    "    \n",
    "    if headless:\n",
    "        fig.savefig(IMAGE_PATH + filename)\n",
    "        plt.close(fig)"
   ]
  },
  {
   "cell_type": "markdown",
   "metadata": {},
   "source": [
    "## Generating graphs for each model case"
   ]
  },
  {
   "cell_type": "code",
   "execution_count": 27,
   "metadata": {},
   "outputs": [],
   "source": [
    "def generate_graphs(dfx, dfy, dfg, capacity, max_flow, demand, alpha, flow_weight, folder=''):\n",
    "    cell_paths = movement_paths(_approach)\n",
    "    \n",
    "    for ndx, cellpath in enumerate(cell_paths):\n",
    "        plot_volume(dfx,\n",
    "                    cellpath,\n",
    "                    '''Volume in cells at {} vph and {}% delay weight ({} turn)\n",
    "                    (Cap: {:.2f}, Max Flow: {}, Flow Weight: {})'''\n",
    "                        .format(demand, alpha*100, _approach_terms[ndx], capacity, max_flow, flow_weight),\n",
    "                    filename=folder+'{}vph_{}alpha_{}flow_volume_{}.png'\n",
    "                        .format(demand, alpha, flow_weight, _approach_terms[ndx].lower()))\n",
    "        \n",
    "        plot_flow(dfy,\n",
    "                  cellpath,\n",
    "                  '''Flow from cells at {} vph and {}% delay weight ({} turn)\n",
    "                  (Cap: {:.2f}, Max Flow: {}, Flow Weight: {})'''\n",
    "                      .format(demand, alpha*100, _approach_terms[ndx], capacity, max_flow, flow_weight),\n",
    "                  filename=folder+'{}vph_{}alpha_{}flow_flow_{}.png'\n",
    "                      .format(demand, alpha, flow_weight, _approach_terms[ndx].lower()))\n",
    "    \n",
    "    plot_greentime(dfg,\n",
    "                   '''Green times at {} vph and {}% delay weight\n",
    "                   (Cap: {:.2f}, Max Flow: {}, Flow Weight: {})'''\n",
    "                       .format(demand, alpha*100, capacity, max_flow, flow_weight),\n",
    "                   filename=folder+'{}vph_{}alpha_{}flow_greetime.png'\n",
    "                       .format(demand, alpha, flow_weight))\n",
    "    "
   ]
  },
  {
   "cell_type": "code",
   "execution_count": 105,
   "metadata": {},
   "outputs": [],
   "source": [
    "generate_graphs(dfx, dfy, dfg, 22.5, 4, 600, 0.2, 0.5)"
   ]
  },
  {
   "cell_type": "markdown",
   "metadata": {},
   "source": [
    "## 1. Checking the effect of flow weight"
   ]
  },
  {
   "cell_type": "markdown",
   "metadata": {},
   "source": [
    "### Alpha = 1, Demand = 600"
   ]
  },
  {
   "cell_type": "code",
   "execution_count": 19,
   "metadata": {},
   "outputs": [
    {
     "data": {
      "text/plain": [
       "4.0"
      ]
     },
     "execution_count": 19,
     "metadata": {},
     "output_type": "execute_result"
    }
   ],
   "source": [
    "#dfparams.capacity[(3,0,1)]\n",
    "#dfparams.max_flow[(3,0,1)]"
   ]
  },
  {
   "cell_type": "code",
   "execution_count": null,
   "metadata": {
    "scrolled": true
   },
   "outputs": [],
   "source": [
    "#flow_weights = [(x / 10.0) for x in range(11)]\n",
    "flow_weights = []\n",
    "\n",
    "runtimes = []\n",
    "\n",
    "for f in flow_weights:\n",
    "    dfx, dfy, dfg, dfparams, runtime = run_model(demand=600, alpha=1, use=f>0.05, flow_weight=f)\n",
    "    runtimes.append(runtime)\n",
    "    generate_graphs(dfx, dfy, dfg, dfparams.capacity[(3,0,1)], dfparams.max_flow[(3,0,1)], 600, 1, f, folder='flow_weights/')\n",
    "    print(\"\\n~~~\\nDone with {}!\\n~~~\\n\".format(f))"
   ]
  },
  {
   "cell_type": "code",
   "execution_count": null,
   "metadata": {},
   "outputs": [],
   "source": []
  }
 ],
 "metadata": {
  "kernelspec": {
   "display_name": "Python 2",
   "language": "python",
   "name": "python2"
  },
  "language_info": {
   "codemirror_mode": {
    "name": "ipython",
    "version": 2
   },
   "file_extension": ".py",
   "mimetype": "text/x-python",
   "name": "python",
   "nbconvert_exporter": "python",
   "pygments_lexer": "ipython2",
   "version": "2.7.12"
  }
 },
 "nbformat": 4,
 "nbformat_minor": 2
}
