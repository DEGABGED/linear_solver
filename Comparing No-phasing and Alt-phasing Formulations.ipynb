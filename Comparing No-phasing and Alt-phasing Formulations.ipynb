{
 "cells": [
  {
   "cell_type": "code",
   "execution_count": 1,
   "metadata": {},
   "outputs": [],
   "source": [
    "import pandas as pd\n",
    "import matplotlib.pyplot as plt\n",
    "import seaborn as sns\n",
    "import random\n",
    "from pprint import pprint\n",
    "import time\n",
    "\n",
    "from ctmmodels.const import *\n",
    "from ctmmodels.nophasing import Constraint6Model as NoPhasing\n",
    "from ctmmodels.altphasing import Constraint6AltPhasingModel as AltPhasing"
   ]
  },
  {
   "cell_type": "markdown",
   "metadata": {},
   "source": [
    "## 1. With varying time ranges"
   ]
  },
  {
   "cell_type": "code",
   "execution_count": null,
   "metadata": {
    "scrolled": true
   },
   "outputs": [
    {
     "name": "stdout",
     "output_type": "stream",
     "text": [
      "Solving...\n",
      "Done!\n",
      "Time elapsed: 1.09242796898\n",
      "Solving...\n",
      "Done!\n",
      "Time elapsed: 0.176036834717\n",
      "25...\n",
      "Solving...\n",
      "Done!\n",
      "Time elapsed: 20.5909650326\n",
      "Solving...\n",
      "Done!\n",
      "Time elapsed: 3.35694813728\n",
      "50...\n",
      "Solving...\n",
      "\n",
      "KeyboardInterrupt\n",
      "Done!\n",
      "Time elapsed: 217.338093042\n",
      "Solving...\n",
      "\n",
      "KeyboardInterrupt\n",
      "Done!\n",
      "Time elapsed: 32.2777609825\n",
      "75...\n",
      "Solving...\n",
      "\n",
      "KeyboardInterrupt\n",
      "Done!\n",
      "Time elapsed: 2.86195492744\n",
      "Solving...\n"
     ]
    }
   ],
   "source": [
    "timeranges = range(25,51,25)\n",
    "nophase_times = []\n",
    "altphase_times = []\n",
    "\n",
    "for tr in timeranges:\n",
    "    nophase_model = NoPhasing(time_range=tr)\n",
    "    altphase_model = AltPhasing(time_range=tr)\n",
    "    \n",
    "    nophase_model.generate()\n",
    "    altphase_model.generate()\n",
    "    \n",
    "    nophase_times.append(nophase_model.solve())\n",
    "    altphase_times.append(altphase_model.solve())\n",
    "    \n",
    "    print(\"{}...\".format(tr))\n",
    "    \n",
    "print(\"\\nDone!\")"
   ]
  },
  {
   "cell_type": "code",
   "execution_count": 3,
   "metadata": {
    "scrolled": true
   },
   "outputs": [
    {
     "name": "stdout",
     "output_type": "stream",
     "text": [
      "Solving...\n",
      "CPXPARAM_Read_DataCheck                          1\n",
      "Tried aggregator 2 times.\n",
      "MIP Presolve eliminated 5452 rows and 772 columns.\n",
      "MIP Presolve modified 2124 coefficients.\n",
      "Aggregator did 636 substitutions.\n",
      "Reduced MIP has 8594 rows, 4592 columns, and 36464 nonzeros.\n",
      "Reduced MIP has 900 binaries, 0 generals, 0 SOSs, and 0 indicators.\n",
      "Presolve time = 0.04 sec. (39.65 ticks)\n",
      "Found incumbent of value 15200.000000 after 0.10 sec. (114.72 ticks)\n",
      "Probing time = 0.00 sec. (1.54 ticks)\n",
      "Tried aggregator 1 time.\n",
      "MIP Presolve modified 8 coefficients.\n",
      "Reduced MIP has 8594 rows, 4592 columns, and 36464 nonzeros.\n",
      "Reduced MIP has 900 binaries, 0 generals, 0 SOSs, and 0 indicators.\n",
      "Presolve time = 0.03 sec. (25.14 ticks)\n",
      "Probing time = 0.01 sec. (1.54 ticks)\n",
      "Clique table members: 600.\n",
      "MIP emphasis: balance optimality and feasibility.\n",
      "MIP search method: dynamic search.\n",
      "Parallel mode: deterministic, using up to 8 threads.\n",
      "Root relaxation solution time = 0.84 sec. (655.85 ticks)\n",
      "\n",
      "        Nodes                                         Cuts/\n",
      "   Node  Left     Objective  IInf  Best Integer    Best Bound    ItCnt     Gap\n",
      "\n",
      "*     0+    0                        15200.0000     2740.6000            81.97%\n",
      "      0     0    10967.8289   561    15200.0000    10967.8289     7954   27.84%\n",
      "*     0+    0                        11466.7893    10967.8289             4.35%\n",
      "      0     0    10972.1137   553    11466.7893     Cuts: 380     8566    4.31%\n",
      "*     0+    0                        11212.0949    10972.1137             2.14%\n",
      "      0     0    10973.1095   556    11212.0949     Cuts: 158     8821    2.00%\n",
      "      0     0    10973.1095   557    11212.0949       Cuts: 5     8828    2.00%\n",
      "*     0+    0                        11196.3443    10987.3547             1.87%\n",
      "      0     2    10973.1095   554    11196.3443    10987.3547     8828    1.87%\n",
      "Elapsed time = 5.11 sec. (3594.01 ticks, tree = 0.01 MB, solutions = 4)\n",
      "      2     3    10992.0784   533    11196.3443    10987.3547    10145    1.87%\n",
      "      9     5    10993.9532   516    11196.3443    10992.1959    11031    1.82%\n",
      "     24    16    11026.1930   461    11196.3443    10992.1959    16282    1.82%\n",
      "     40    31    11075.6389   475    11196.3443    10994.3811    27413    1.80%\n",
      "     61    47    11098.2125   442    11196.3443    10994.3811    39291    1.80%\n",
      "     77    73    11120.4228   388    11196.3443    10994.3811    50546    1.80%\n",
      "     85    48    11099.8558   419    11196.3443    10994.3811    39398    1.80%\n",
      "*    94+   69                        11170.3487    10994.3811             1.58%\n",
      "     97    88    11126.7351   348    11170.3487    10994.3811    58788    1.58%\n",
      "    119    89    11098.3057   374    11170.3487    10994.3811    60513    1.58%\n",
      "    252   181    11135.8508   262    11170.3487    10994.3811    84605    1.58%\n",
      "Elapsed time = 14.14 sec. (6937.81 ticks, tree = 4.55 MB, solutions = 5)\n",
      "*   306+  250                        11162.1888    10994.3811             1.50%\n",
      "\n",
      "Cover cuts applied:  16\n",
      "Flow cuts applied:  219\n",
      "Mixed integer rounding cuts applied:  68\n",
      "Zero-half cuts applied:  2\n",
      "Lift and project cuts applied:  6\n",
      "Gomory fractional cuts applied:  88\n",
      "\n",
      "Root node processing (before b&c):\n",
      "  Real time             =    5.09 sec. (3586.84 ticks)\n",
      "Parallel b&c, 8 threads:\n",
      "  Real time             =   10.47 sec. (3980.35 ticks)\n",
      "  Sync time (average)   =    2.20 sec.\n",
      "  Wait time (average)   =    0.01 sec.\n",
      "                          ------------\n",
      "Total (root+branch&cut) =   15.56 sec. (7567.19 ticks)\n",
      "\n",
      "KeyboardInterrupt\n",
      "Done!\n",
      "Time elapsed: 15.6236610413\n"
     ]
    },
    {
     "data": {
      "text/plain": [
       "15.623661041259766"
      ]
     },
     "execution_count": 3,
     "metadata": {},
     "output_type": "execute_result"
    }
   ],
   "source": [
    "altphase_model = NoPhasing(time_range=75)\n",
    "altphase_model.generate()\n",
    "\n",
    "altphase_model.solve(log_output=True)"
   ]
  },
  {
   "cell_type": "markdown",
   "metadata": {},
   "source": [
    "**Verdict**: The Alternate Phasing is must faster (30.5s -> 3.6s at time_range=50; >200s -> 45s at time_range=75)"
   ]
  },
  {
   "cell_type": "code",
   "execution_count": null,
   "metadata": {},
   "outputs": [],
   "source": []
  }
 ],
 "metadata": {
  "kernelspec": {
   "display_name": "Python 2",
   "language": "python",
   "name": "python2"
  },
  "language_info": {
   "codemirror_mode": {
    "name": "ipython",
    "version": 2
   },
   "file_extension": ".py",
   "mimetype": "text/x-python",
   "name": "python",
   "nbconvert_exporter": "python",
   "pygments_lexer": "ipython2",
   "version": "2.7.12"
  }
 },
 "nbformat": 4,
 "nbformat_minor": 2
}
