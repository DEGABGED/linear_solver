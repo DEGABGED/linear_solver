{
 "cells": [
  {
   "cell_type": "markdown",
   "metadata": {},
   "source": [
    "# CTM MILP Model Running Environment (DTSimplex Extension to Parent Model)"
   ]
  },
  {
   "cell_type": "markdown",
   "metadata": {},
   "source": [
    "**NOTE:** When about to make a new run, please **duplicate** this notebook then add necessary graphs and things below."
   ]
  },
  {
   "cell_type": "code",
   "execution_count": 1,
   "metadata": {},
   "outputs": [],
   "source": [
    "import numpy as np\n",
    "import pandas as pd\n",
    "import matplotlib.pyplot as plt\n",
    "import seaborn as sns\n",
    "import random\n",
    "from pprint import pprint\n",
    "import time\n",
    "\n",
    "from ctmmodels.const import *\n",
    "\n",
    "# Add more CTM models here as needed\n",
    "from ctmmodels.delaythroughput import DTSimplexParentModel as NewModel\n",
    "from ctmmodels.parentmodel import ParentModel as OldModel"
   ]
  },
  {
   "cell_type": "code",
   "execution_count": 2,
   "metadata": {},
   "outputs": [],
   "source": [
    "IMAGE_PATH = 'graphs/'\n",
    "DF_PATH = 'dataframes/'"
   ]
  },
  {
   "cell_type": "markdown",
   "metadata": {},
   "source": [
    "**Notes on the models and parameters being used:**\n",
    "\n",
    "* Default parameters used before:\n",
    "\n",
    "{\n",
    "\n",
    "    time_range = 30\n",
    "    time_ticks = np.arange(0, time_range+1, 1)\n",
    "\n",
    "    parameters = {\n",
    "        'r_left': 1.0/3.0,\n",
    "        'r_through': 1.0/3.0,\n",
    "        'r_right': 1.0/3.0,\n",
    "        'sat_flow_rate': 1800,\n",
    "        'time_range': time_range,\n",
    "        'time_step': 2,\n",
    "        'g_min': 6,\n",
    "        'g_max': 20\n",
    "    }\n",
    "\n",
    "}\n",
    "\n",
    "* Saturation flow rate was set to 1800 vphpl, as this was the closest realistic value that matched the calculations from the parent paper.\n",
    "\n",
    "* Traffic will be distributed evenly between the 4 lanes (left, through 1, through 2, and right). This is based on previous tests where left was getting essentially 0 green time.\n",
    "\n",
    "* Time range will be set to 60 seconds, or 30 time steps at 2 seconds per time step."
   ]
  },
  {
   "cell_type": "code",
   "execution_count": 3,
   "metadata": {},
   "outputs": [],
   "source": [
    "time_range = 30\n",
    "time_ticks = np.arange(0, time_range+1, 1)\n",
    "\n",
    "parameters = {\n",
    "    'r_left': 0.25,\n",
    "    'r_through': 0.5,\n",
    "    'r_right': 0.25,\n",
    "    'sat_flow_rate': 1800,\n",
    "    'time_range': time_range,\n",
    "    'time_step': 2,\n",
    "    'g_min': 6,\n",
    "    'g_max': 20,\n",
    "    'flow_rate_reduction': 1\n",
    "}\n",
    "\n",
    "# Varying parameters: demand, alpha, beta, gamma"
   ]
  },
  {
   "cell_type": "code",
   "execution_count": 4,
   "metadata": {},
   "outputs": [],
   "source": [
    "def run_model(demand, weights=(0.33, 0.33, 0.33), new_model=True, log_output=True):\n",
    "    if new_model:\n",
    "        model = NewModel(\n",
    "            demand=demand,\n",
    "            alpha=weights[0],\n",
    "            beta=weights[1],\n",
    "            gamma=weights[2],\n",
    "            **parameters\n",
    "        )\n",
    "    else:\n",
    "        model = OldModel(\n",
    "            demand=demand,\n",
    "            **parameters\n",
    "        )\n",
    "\n",
    "    model.generate()\n",
    "    runtime = model.solve(log_output=log_output)\n",
    "    return model, runtime"
   ]
  },
  {
   "cell_type": "markdown",
   "metadata": {},
   "source": [
    "## Intersection Cell Network"
   ]
  },
  {
   "cell_type": "markdown",
   "metadata": {},
   "source": [
    "![title](img/4leg-intersection.png)"
   ]
  },
  {
   "cell_type": "markdown",
   "metadata": {},
   "source": [
    "## Setting the path of cells to check"
   ]
  },
  {
   "cell_type": "code",
   "execution_count": 5,
   "metadata": {},
   "outputs": [],
   "source": [
    "_approach = SOUTHBOUND\n",
    "\n",
    "_approach_terms = [\n",
    "    'Left',\n",
    "    'Through',\n",
    "    'Right'\n",
    "]\n",
    "\n",
    "_cell_path = [\n",
    "    (CELL_SOURCE,0,_approach),\n",
    "    (CELL_NORMAL,0,_approach),\n",
    "    (CELL_NORMAL,1,_approach),\n",
    "    (CELL_NORMAL,2,_approach),\n",
    "    (CELL_MOVEMENT,THROUGH_TURN,_approach),\n",
    "    S_mapping((CELL_MOVEMENT,THROUGH_TURN,_approach))[0]\n",
    "]\n",
    "\n",
    "def movement_paths(approach):\n",
    "    return [\n",
    "        [\n",
    "            (CELL_SOURCE,0,approach),\n",
    "            (CELL_NORMAL,0,approach),\n",
    "            (CELL_NORMAL,1,approach),\n",
    "            (CELL_NORMAL,2,approach),\n",
    "            (CELL_MOVEMENT,LEFT_TURN,approach),\n",
    "            S_mapping((CELL_MOVEMENT,LEFT_TURN,approach))[0]\n",
    "        ],\n",
    "        [\n",
    "            (CELL_SOURCE,0,approach),\n",
    "            (CELL_NORMAL,0,approach),\n",
    "            (CELL_NORMAL,1,approach),\n",
    "            (CELL_NORMAL,2,approach),\n",
    "            (CELL_MOVEMENT,THROUGH_TURN,approach),\n",
    "            S_mapping((CELL_MOVEMENT,THROUGH_TURN,approach))[0]\n",
    "        ],\n",
    "        [\n",
    "            (CELL_SOURCE,0,approach),\n",
    "            (CELL_NORMAL,0,approach),\n",
    "            (CELL_NORMAL,1,approach),\n",
    "            (CELL_NORMAL,2,approach),\n",
    "            (CELL_MOVEMENT,RIGHT_TURN,approach),\n",
    "            S_mapping((CELL_MOVEMENT,RIGHT_TURN,approach))[0]\n",
    "        ]\n",
    "    ]"
   ]
  },
  {
   "cell_type": "markdown",
   "metadata": {},
   "source": [
    "## Comparing cell volumes"
   ]
  },
  {
   "cell_type": "code",
   "execution_count": 6,
   "metadata": {},
   "outputs": [],
   "source": [
    "def plot_volume(dfx, cell_path=_cell_path, title=\"Volume\", headless=False, filename='volume.png'):\n",
    "    dfx_approach = pd.concat([\n",
    "        dfx[dfx.cell == c].sort_values(by='timestep')\n",
    "        for c in cell_path\n",
    "    ]).pivot(index='timestep', columns='cell', values='volume')\n",
    "    \n",
    "    fig, axs = plt.subplots(1,2, figsize=(20,10))\n",
    "    \n",
    "    sns.lineplot(data=dfx_approach, ax=axs[0])\n",
    "    sns.lineplot(data=dfx_approach.cumsum(), ax=axs[1])\n",
    "\n",
    "    axs[0].set_title('Volume of cells')\n",
    "    axs[0].set_xlabel('Timesteps')\n",
    "    axs[0].set_ylabel('Instantaneous volume')\n",
    "    axs[0].set_xticks(time_ticks, minor=True)\n",
    "\n",
    "    axs[1].set_title('Volume of cells (cumulative)')\n",
    "    axs[1].set_xlabel('Timesteps')\n",
    "    axs[1].set_ylabel('Cumulative volume')\n",
    "    axs[1].set_xticks(time_ticks, minor=True)\n",
    "    \n",
    "    fig.suptitle(title, fontsize=18)\n",
    "    \n",
    "    if headless:\n",
    "        fig.savefig(IMAGE_PATH + filename)\n",
    "        plt.close(fig)"
   ]
  },
  {
   "cell_type": "markdown",
   "metadata": {},
   "source": [
    "## Comparing flows"
   ]
  },
  {
   "cell_type": "code",
   "execution_count": 7,
   "metadata": {},
   "outputs": [],
   "source": [
    "def plot_flow(dfy, cell_path=_cell_path, title=\"Flows\", headless=False, filename='flow.png'):\n",
    "    dfy_approach = pd.concat([\n",
    "        dfy[dfy.cell_from == c].groupby(['cell_from', 'timestep']).agg({'flow': 'sum'}).sort_values(by='timestep')\n",
    "        for c in cell_path\n",
    "    ]).reset_index().pivot(index='timestep', columns='cell_from', values='flow')\n",
    "    \n",
    "    fig, axs = plt.subplots(1,2, figsize=(20,10))\n",
    "\n",
    "    sns.lineplot(data=dfy_approach, ax=axs[0])\n",
    "    sns.lineplot(data=dfy_approach.cumsum(), ax=axs[1])\n",
    "\n",
    "    axs[0].set_title('Flow from cells')\n",
    "    axs[0].set_xlabel('Timesteps')\n",
    "    axs[0].set_ylabel('Instantaneous flow')\n",
    "    axs[0].set_xticks(time_ticks, minor=True)\n",
    "\n",
    "    axs[1].set_title('Flow from cells (cumulative)')\n",
    "    axs[1].set_xlabel('Timesteps')\n",
    "    axs[1].set_ylabel('Cumulative flow')\n",
    "    axs[1].set_xticks(time_ticks, minor=True)\n",
    "    \n",
    "    fig.suptitle(title, fontsize=18)\n",
    "    \n",
    "    if headless:\n",
    "        fig.savefig(IMAGE_PATH + filename)\n",
    "        plt.close(fig)"
   ]
  },
  {
   "cell_type": "markdown",
   "metadata": {},
   "source": [
    "## Comparing specific green time"
   ]
  },
  {
   "cell_type": "code",
   "execution_count": 8,
   "metadata": {
    "scrolled": false
   },
   "outputs": [],
   "source": [
    "all_phases = [intToBinTuple(x) for x in range(8)]\n",
    "all_phases_labels = [\n",
    "    \"Left, Westbound\",\n",
    "    \"Through, Eastbound\",\n",
    "    \"Left, Southbound\",\n",
    "    \"Through, Southbound\",\n",
    "    \"Left, Eastbound\",\n",
    "    \"Through, Westbound\",\n",
    "    \"Left, Northbound\",\n",
    "    \"Through, Northbound\",\n",
    "]\n",
    "\n",
    "def plot_greentime_map(dfg, title=\"Greentime maps\", headless=False, filename='greentime.png', movements=True):\n",
    "    fig, axs = plt.subplots(figsize=(18,8))\n",
    "\n",
    "    dfg_matrix = dfg.T\n",
    "    if movements:\n",
    "        dfg_matrix = dfg_matrix.reindex(index=[\n",
    "            (2,LEFT_TURN,EASTBOUND), (2,RIGHT_TURN,EASTBOUND), (2,THROUGH_TURN,EASTBOUND),\n",
    "            (2,LEFT_TURN,NORTHBOUND), (2,RIGHT_TURN,NORTHBOUND), (2,THROUGH_TURN,NORTHBOUND),\n",
    "            (2,LEFT_TURN,SOUTHBOUND), (2,RIGHT_TURN,SOUTHBOUND), (2,THROUGH_TURN,SOUTHBOUND),\n",
    "            (2,LEFT_TURN,WESTBOUND), (2,RIGHT_TURN,WESTBOUND), (2,THROUGH_TURN,WESTBOUND),\n",
    "        ])\n",
    "    sns.heatmap(data=dfg_matrix)\n",
    "    \n",
    "    fig.suptitle(title, fontsize=18)\n",
    "    \n",
    "    if headless:\n",
    "        fig.savefig(IMAGE_PATH + filename)\n",
    "        plt.close(fig)"
   ]
  },
  {
   "cell_type": "code",
   "execution_count": 9,
   "metadata": {},
   "outputs": [],
   "source": [
    "def plot_obj_values(obj_values, title, xaxis, xlabel, headless=True, filename='obj.png'):\n",
    "    fig, axs = plt.subplots(1,2,figsize=(20,10))\n",
    "\n",
    "    axs[0].plot(xaxis, [x[0] for x in obj_values])\n",
    "    axs[0].set_title(\"Computed total delay\")\n",
    "    axs[0].set_ylabel(\"Total vehicle delay (timesteps)\")\n",
    "    axs[0].set_xlabel(xlabel)\n",
    "\n",
    "    axs[1].plot(xaxis, [x[1] for x in obj_values])\n",
    "    axs[1].set_title(\"Computed total throughput\")\n",
    "    axs[1].set_ylabel(\"Total vehicle throughput (veh)\")\n",
    "    axs[1].set_xlabel(xlabel)\n",
    "    \n",
    "    fig.suptitle(title, fontsize=18)\n",
    "    \n",
    "    if headless:\n",
    "        fig.savefig(IMAGE_PATH + filename)\n",
    "        plt.close(fig)"
   ]
  },
  {
   "cell_type": "markdown",
   "metadata": {},
   "source": [
    "## Saving dataframes"
   ]
  },
  {
   "cell_type": "code",
   "execution_count": 10,
   "metadata": {},
   "outputs": [],
   "source": [
    "def save_df(df, filename):\n",
    "    df.to_pickle(DF_PATH + filename + \".pkl\")"
   ]
  },
  {
   "cell_type": "markdown",
   "metadata": {},
   "source": [
    "## Generating dataframes"
   ]
  },
  {
   "cell_type": "code",
   "execution_count": 11,
   "metadata": {},
   "outputs": [],
   "source": [
    "_demands = [\n",
    "    450,\n",
    "    900,\n",
    "    (450, 900),\n",
    "    (900, 1800)\n",
    "]\n",
    "\n",
    "_points = [\n",
    "    (1, 0, 0),\n",
    "    (0, 1, 0),\n",
    "    (0, 0, 1),\n",
    "    (0.5, 0.5, 0),\n",
    "    (0, 0.5, 0.5),\n",
    "    (0.5, 0, 0.5),\n",
    "    (0.33, 0.33, 0.33),\n",
    "    (0, 0, 0),\n",
    "]"
   ]
  },
  {
   "cell_type": "code",
   "execution_count": 12,
   "metadata": {
    "scrolled": true
   },
   "outputs": [
    {
     "name": "stdout",
     "output_type": "stream",
     "text": [
      "Solving...\n",
      "CPXPARAM_Read_DataCheck                          1\n",
      "Tried aggregator 2 times.\n",
      "MIP Presolve eliminated 3268 rows and 380 columns.\n",
      "MIP Presolve modified 644 coefficients.\n",
      "Aggregator did 538 substitutions.\n",
      "Reduced MIP has 3304 rows, 1902 columns, and 11364 nonzeros.\n",
      "Reduced MIP has 270 binaries, 0 generals, 0 SOSs, and 0 indicators.\n",
      "Presolve time = 0.02 sec. (14.11 ticks)\n",
      "Found incumbent of value 0.000000 after 0.04 sec. (24.02 ticks)\n",
      "Probing time = 0.00 sec. (0.48 ticks)\n",
      "Tried aggregator 1 time.\n",
      "Reduced MIP has 3304 rows, 1902 columns, and 11364 nonzeros.\n",
      "Reduced MIP has 270 binaries, 0 generals, 0 SOSs, and 0 indicators.\n",
      "Presolve time = 0.01 sec. (7.79 ticks)\n",
      "Probing time = 0.00 sec. (0.47 ticks)\n",
      "Clique table members: 360.\n",
      "MIP emphasis: balance optimality and feasibility.\n",
      "MIP search method: dynamic search.\n",
      "Parallel mode: deterministic, using up to 8 threads.\n",
      "Root relaxation solution time = 0.20 sec. (232.01 ticks)\n",
      "\n",
      "        Nodes                                         Cuts/\n",
      "   Node  Left     Objective  IInf  Best Integer    Best Bound    ItCnt     Gap\n",
      "\n",
      "*     0+    0                            0.0000      400.0000              --- \n",
      "      0     0      121.1234   251        0.0000      121.1234        0     --- \n",
      "*     0+    0                           57.4177      121.1234           110.95%\n",
      "*     0+    0                           93.1392      121.1234            30.05%\n",
      "      0     0      121.1234   234       93.1392      Fract: 4      213   29.06%\n",
      "*     0+    0                           97.3481      120.2094            23.48%\n",
      "      0     0      120.7630   208       97.3481      Fract: 4      891   23.48%\n",
      "      0     0      120.7479   232       97.3481       Cuts: 4     1122   23.48%\n",
      "      0     0      120.7406   239       97.3481       Cuts: 8     1200   23.48%\n",
      "      0     0      119.6413   192       97.3481      Cuts: 17     1430   22.90%\n",
      "      0     0      119.2521   204       97.3481      Cuts: 11     1846   22.50%\n",
      "      0     0      118.7067   221       97.3481      Cuts: 19     2566   21.65%\n",
      "*     0+    0                           98.4873      118.4272            20.25%\n",
      "      0     0      118.1585   234       98.4873      Cuts: 30     3229   19.97%\n",
      "      0     0      117.9776   222       98.4873       Cuts: 4     3357   19.79%\n",
      "      0     0      117.9776   222       98.4873       Cuts: 5     3359   19.79%\n",
      "*     0+    0                           98.5570      117.9776            19.70%\n",
      "      0     2      117.9776   214       98.5570      116.8398     3359   18.55%\n",
      "Elapsed time = 2.52 sec. (1875.75 ticks, tree = 0.01 MB, solutions = 6)\n",
      "     12    14      110.3646   117       98.5570      116.8398     8205   18.55%\n",
      "*    16+    5                           99.1392      116.8398            17.85%\n",
      "     32     8      116.0881   154       99.1392      116.8398     5603   17.85%\n",
      "*    40+   22                           99.4177      116.8398            17.52%\n",
      "    107    77      103.5774    63       99.4177      116.8398    32772   17.52%\n",
      "*   155+  114                           99.4873      116.6153            17.22%\n",
      "    197   139      109.3446    96       99.4873      116.6153    47964   17.22%\n",
      "*   209+  140                           99.7089      116.6153            16.96%\n",
      "    258   183      107.7135   113       99.7089      116.6153    64758   16.96%\n",
      "*   354+  250                          100.5696      116.6153            15.95%\n",
      "    363   249      111.7050   120      100.5696      116.6153    81050   15.95%\n",
      "*   373+  250                          101.5696      116.6153            14.81%\n",
      "*   436+  283                          103.1392      116.5231            12.98%\n",
      "    458   277      111.2941   135      103.1392      116.5231    94617   12.98%\n",
      "    538   294      104.0750    67      103.1392      114.8583   115593   11.36%\n",
      "    617   362      110.0512   109      103.1392      114.8583   139297   11.36%\n",
      "    984   549      105.8591    83      103.1392      113.6064   194879   10.15%\n",
      "Elapsed time = 7.19 sec. (5026.06 ticks, tree = 0.50 MB, solutions = 14)\n",
      "*  1052+  494                          104.0000      113.6064             9.24%\n",
      "*  1074+  494                          104.1392      112.2785             7.82%\n",
      "   1376   709      109.1853   128      104.1392      112.0735   271342    7.62%\n",
      "   1843   987      106.2790    74      104.1392      111.3988   352369    6.97%\n",
      "   2266  1234      106.0979   109      104.1392      110.9068   423880    6.50%\n",
      "*  2473  1342      integral     0      104.2785      110.7972   462212    6.25%\n",
      "   2867  1527      107.2988    87      104.2785      110.5028   529568    5.97%\n",
      "   3188  1689      105.3120    68      104.2785      110.3400   578862    5.81%\n",
      "   3322  1832      116.5032   208      104.2785      110.1739   638524    5.65%\n",
      "   3340   329      113.6849   200      104.2785      110.1739   640928    5.65%\n",
      "   3572   174      108.9235   151      104.2785      110.1739   691902    5.65%\n",
      "   3795   274      109.6587   168      104.2785      110.1739   721454    5.65%\n",
      "Elapsed time = 23.31 sec. (17064.19 ticks, tree = 3.47 MB, solutions = 17)\n",
      "   4103   460      110.9367   168      104.2785      110.1739   763192    5.65%\n",
      "   4420   671      104.6395   108      104.2785      110.1739   810213    5.65%\n",
      "   4738   879      108.9048   163      104.2785      110.1739   857794    5.65%\n",
      "   5193  1101      109.1488   157      104.2785      110.1739   894581    5.65%\n",
      "   5551  1347      108.2975   130      104.2785      110.1739   944597    5.65%\n",
      "   5988  1512      108.6225   153      104.2785      110.1739   981721    5.65%\n",
      "   6496  1732      108.7542   152      104.2785      110.1739  1027069    5.65%\n",
      "   6900  1942      108.9530   129      104.2785      109.9856  1066088    5.47%\n",
      "   7349  2181        cutoff            104.2785      109.7998  1124051    5.29%\n",
      "   7753  2387      108.3073   144      104.2785      109.5721  1173723    5.08%\n",
      "Elapsed time = 37.09 sec. (26621.89 ticks, tree = 48.42 MB, solutions = 17)\n",
      "   8248  2613        cutoff            104.2785      109.4413  1213233    4.95%\n",
      "   8718  2869      107.7403   141      104.2785      109.2467  1272773    4.76%\n",
      "   9164  3026      104.4739   105      104.2785      109.0748  1309867    4.60%\n",
      "   9679  3264      106.7014    92      104.2785      108.9462  1361496    4.48%\n",
      "  10188  3499      103.1035    96      104.2785      108.7519  1421484    4.29%\n",
      "  10711  3649        cutoff            104.2785      108.6130  1454522    4.16%\n",
      "  11177  3842      104.9452    74      104.2785      108.4885  1511945    4.04%\n",
      "  11692  3966      104.8307    53      104.2785      108.3897  1542225    3.94%\n",
      "  12099  4159      105.1517   102      104.2785      108.2895  1590240    3.85%\n",
      "  12654  4305      104.5910    40      104.2785      108.1935  1635157    3.75%\n",
      "Elapsed time = 50.21 sec. (36172.36 ticks, tree = 90.52 MB, solutions = 17)\n",
      "  13192  4559      106.1666    70      104.2785      108.1118  1694985    3.68%\n",
      "  13699  4704      104.8226    63      104.2785      108.0317  1743582    3.60%\n",
      "  14205  4884      105.7590    75      104.2785      107.9394  1797165    3.51%\n",
      "  14740  5042        cutoff            104.2785      107.8109  1852491    3.39%\n",
      "  15266  5207      105.6312    83      104.2785      107.7205  1904993    3.30%\n",
      "  15826  5245      107.1442   130      104.2785      107.6539  1917770    3.24%\n",
      "* 15896  5383      integral     0      104.2785      107.6300  1959529    3.21%\n",
      "  16367  5458        cutoff            104.2785      107.5715  1997315    3.16%\n",
      "  16930  5580      104.5407    58      104.2785      107.4858  2053936    3.08%\n",
      "  17497  5714        cutoff            104.2785      107.4143  2098744    3.01%\n",
      "Elapsed time = 62.10 sec. (44910.14 ticks, tree = 117.35 MB, solutions = 18)\n",
      "  18033  5839      104.7785    55      104.2785      107.3278  2134680    2.92%\n",
      "  18488  5910      106.1216   153      104.2785      107.2753  2191141    2.87%\n",
      "  19063  5975      106.7924   100      104.2785      107.2088  2236678    2.81%\n",
      "  19654  6019      104.3337    85      104.2785      107.1559  2265541    2.76%\n",
      "  20177  6149        cutoff            104.2785      107.0863  2332768    2.69%\n",
      "  20765  6167        cutoff            104.2785      107.0240  2360967    2.63%\n"
     ]
    },
    {
     "name": "stdout",
     "output_type": "stream",
     "text": [
      "  21311  6262      105.4321    89      104.2785      106.9697  2423287    2.58%\n",
      "  21878  6325      104.4689    56      104.2785      106.9104  2479172    2.52%\n",
      "  22414  6335      104.3785    97      104.2785      106.8356  2501446    2.45%\n",
      "  22991  6421      105.1940    78      104.2785      106.7661  2569724    2.39%\n",
      "Elapsed time = 75.02 sec. (54462.96 ticks, tree = 125.64 MB, solutions = 18)\n",
      "  23629  6448      104.9040    63      104.2785      106.7193  2611617    2.34%\n",
      "  24225  6449      104.5374   102      104.2785      106.6674  2637262    2.29%\n",
      "  24825  6482      104.5045    82      104.2785      106.6118  2706676    2.24%\n",
      "  25449  6494      104.8131    82      104.2785      106.5577  2737065    2.19%\n",
      "  26001  6503      105.7462    68      104.2785      106.4891  2772086    2.12%\n",
      "  26515  6562      104.9939    86      104.2785      106.4214  2862336    2.05%\n",
      "  27035  6532        cutoff            104.2785      106.3661  2862970    2.00%\n",
      "  27693  6536      106.1217    72      104.2785      106.2955  2945304    1.93%\n",
      "  28401  6511      104.9813   109      104.2785      106.2640  2971114    1.90%\n",
      "  28981  6446      104.6930    85      104.2785      106.2063  3035888    1.85%\n",
      "Elapsed time = 88.36 sec. (64016.64 ticks, tree = 128.65 MB, solutions = 18)\n",
      "  29591  6395      104.4360    61      104.2785      106.1428  3074486    1.79%\n",
      "  30259  6281      105.2710   117      104.2785      106.0680  3145136    1.72%\n",
      "  30916  6173        cutoff            104.2785      105.9717  3186533    1.62%\n",
      "  31582  6009        cutoff            104.2785      105.9316  3229458    1.59%\n",
      "  32182  5933        cutoff            104.2785      105.8087  3278823    1.47%\n",
      "  32782  5781        cutoff            104.2785      105.7291  3310360    1.39%\n",
      "  33493  5433      104.6535    92      104.2785      105.6770  3376907    1.34%\n",
      "  34220  5157      105.0944    76      104.2785      105.5459  3430919    1.22%\n",
      "  34947  4845        cutoff            104.2785      105.4516  3476898    1.13%\n",
      "  35503  4799        cutoff            104.2785      105.4061  3487279    1.08%\n",
      "Elapsed time = 103.11 sec. (73583.74 ticks, tree = 85.54 MB, solutions = 18)\n",
      "  35848  4326        cutoff            104.2785      105.3582  3554536    1.04%\n",
      "  36264  4137      104.5984    59      104.2785      105.3582  3576350    1.04%\n",
      "  36649  3886        cutoff            104.2785      105.3582  3604167    1.04%\n",
      "  37050  3567        cutoff            104.2785      105.3582  3633783    1.04%\n",
      "  37491  3265        cutoff            104.2785      105.3582  3657610    1.04%\n",
      "  37935  3086      104.3397    42      104.2785      105.3582  3675290    1.04%\n",
      "  38424  2752        cutoff            104.2785      105.3582  3701429    1.04%\n",
      "  38895  2438        cutoff            104.2785      105.3582  3727004    1.04%\n",
      "  39318  2085      104.6364    66      104.2785      105.3582  3753334    1.04%\n",
      "  39920  1658        cutoff            104.2785      105.3582  3776831    1.04%\n",
      "Elapsed time = 122.05 sec. (83135.51 ticks, tree = 11.10 MB, solutions = 18)\n",
      "  40580  1092        cutoff            104.2785      105.3582  3802666    1.04%\n",
      "  41435   365        cutoff            104.2785      105.3582  3825135    1.04%\n",
      "  41599  4590        cutoff            104.2785      105.3582  3512562    1.04%\n",
      "  41600  4526      105.3422    76      104.2785      105.3582  3521795    1.04%\n",
      "  41608  4546        cutoff            104.2785      105.3522  3518953    1.03%\n",
      "  41609  4564        cutoff            104.2785      105.3522  3515767    1.03%\n",
      "\n",
      "Cover cuts applied:  43\n",
      "Flow cuts applied:  1\n",
      "Mixed integer rounding cuts applied:  1\n",
      "Zero-half cuts applied:  5\n",
      "Gomory fractional cuts applied:  16\n",
      "\n",
      "Root node processing (before b&c):\n",
      "  Real time             =    2.49 sec. (1873.10 ticks)\n",
      "Parallel b&c, 8 threads:\n",
      "  Real time             =  166.58 sec. (139504.74 ticks)\n",
      "  Sync time (average)   =   33.28 sec.\n",
      "  Wait time (average)   =    0.09 sec.\n",
      "                          ------------\n",
      "Total (root+branch&cut) =  169.07 sec. (141377.83 ticks)\n",
      "Done!\n",
      "Time elapsed: 169.118520021\n"
     ]
    }
   ],
   "source": [
    "model, runtime = run_model(900, new_model=False)"
   ]
  },
  {
   "cell_type": "code",
   "execution_count": 13,
   "metadata": {},
   "outputs": [
    {
     "data": {
      "image/png": "[encoded data removed]",
      "text/plain": [
       "<Figure size 1296x576 with 2 Axes>"
      ]
     },
     "metadata": {
      "needs_background": "light"
     },
     "output_type": "display_data"
    }
   ],
   "source": [
    "_, _, dfg = model.return_solution()\n",
    "plot_greentime_map(dfg)"
   ]
  },
  {
   "cell_type": "code",
   "execution_count": 14,
   "metadata": {
    "scrolled": true
   },
   "outputs": [
    {
     "data": {
      "text/plain": [
       "'Parent Model'"
      ]
     },
     "execution_count": 14,
     "metadata": {},
     "output_type": "execute_result"
    }
   ],
   "source": [
    "model.model.name"
   ]
  },
  {
   "cell_type": "code",
   "execution_count": 15,
   "metadata": {},
   "outputs": [
    {
     "data": {
      "text/plain": [
       "[((2, 0, 0), (2, 2, 1)),\n",
       " ((2, 0, 1), (2, 2, 2)),\n",
       " ((2, 0, 2), (2, 2, 3)),\n",
       " ((2, 0, 3), (2, 2, 0))]"
      ]
     },
     "execution_count": 15,
     "metadata": {},
     "output_type": "execute_result"
    }
   ],
   "source": [
    "model.set_CC_LR"
   ]
  },
  {
   "cell_type": "code",
   "execution_count": 16,
   "metadata": {},
   "outputs": [
    {
     "ename": "KeyError",
     "evalue": "'left_right_movements'",
     "output_type": "error",
     "traceback": [
      "\u001b[0;31m---------------------------------------------------------------------------\u001b[0m",
      "\u001b[0;31mKeyError\u001b[0m                                  Traceback (most recent call last)",
      "\u001b[0;32m<ipython-input-16-e8828ed4d249>\u001b[0m in \u001b[0;36m<module>\u001b[0;34m()\u001b[0m\n\u001b[0;32m----> 1\u001b[0;31m \u001b[0mmodel\u001b[0m\u001b[0;34m.\u001b[0m\u001b[0m_constraints\u001b[0m\u001b[0;34m[\u001b[0m\u001b[0;34m'ringbarrier'\u001b[0m\u001b[0;34m]\u001b[0m\u001b[0;34m[\u001b[0m\u001b[0;34m'left_right_movements'\u001b[0m\u001b[0;34m]\u001b[0m\u001b[0;34m\u001b[0m\u001b[0m\n\u001b[0m",
      "\u001b[0;31mKeyError\u001b[0m: 'left_right_movements'"
     ]
    }
   ],
   "source": [
    "model._constraints['ringbarrier']['left_right_movements']"
   ]
  },
  {
   "cell_type": "code",
   "execution_count": null,
   "metadata": {},
   "outputs": [],
   "source": []
  }
 ],
 "metadata": {
  "kernelspec": {
   "display_name": "Python 2",
   "language": "python",
   "name": "python2"
  },
  "language_info": {
   "codemirror_mode": {
    "name": "ipython",
    "version": 2
   },
   "file_extension": ".py",
   "mimetype": "text/x-python",
   "name": "python",
   "nbconvert_exporter": "python",
   "pygments_lexer": "ipython2",
   "version": "2.7.12"
  }
 },
 "nbformat": 4,
 "nbformat_minor": 2
}
