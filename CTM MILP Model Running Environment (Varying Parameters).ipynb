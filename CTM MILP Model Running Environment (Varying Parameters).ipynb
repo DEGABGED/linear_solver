{
 "cells": [
  {
   "cell_type": "markdown",
   "metadata": {},
   "source": [
    "# CTM MILP Model Running Environment (Varying Parameters)"
   ]
  },
  {
   "cell_type": "markdown",
   "metadata": {},
   "source": [
    "**NOTE:** When about to make a new run, please **duplicate** this notebook then add necessary graphs and things below."
   ]
  },
  {
   "cell_type": "code",
   "execution_count": 1,
   "metadata": {},
   "outputs": [],
   "source": [
    "import numpy as np\n",
    "import pandas as pd\n",
    "import matplotlib.pyplot as plt\n",
    "import seaborn as sns\n",
    "import random\n",
    "from pprint import pprint\n",
    "import time\n",
    "\n",
    "from ctmmodels.const import *\n",
    "\n",
    "# Add more CTM models here as needed\n",
    "from ctmmodels.ringbarrier import DTSimplexRingBarrier as NewModel\n",
    "from ctmmodels.parentmodel import ParentModel as OldModel"
   ]
  },
  {
   "cell_type": "code",
   "execution_count": 2,
   "metadata": {},
   "outputs": [],
   "source": [
    "IMAGE_PATH = 'graphs/'\n",
    "DF_PATH = 'dataframes/'"
   ]
  },
  {
   "cell_type": "markdown",
   "metadata": {},
   "source": [
    "**Notes on the models and parameters being used:**\n",
    "\n",
    "* Default parameters used before:\n",
    "\n",
    "{\n",
    "\n",
    "    time_range = 30\n",
    "    time_ticks = np.arange(0, time_range+1, 1)\n",
    "\n",
    "    parameters = {\n",
    "        'r_left': 1.0/3.0,\n",
    "        'r_through': 1.0/3.0,\n",
    "        'r_right': 1.0/3.0,\n",
    "        'sat_flow_rate': 1800,\n",
    "        'time_range': time_range,\n",
    "        'time_step': 2,\n",
    "        'g_min': 6,\n",
    "        'g_max': 20\n",
    "    }\n",
    "\n",
    "}\n",
    "\n",
    "* Saturation flow rate was set to 1800 vphpl, as this was the closest realistic value that matched the calculations from the parent paper.\n",
    "\n",
    "* Traffic will be distributed evenly between the 4 lanes (left, through 1, through 2, and right). This is based on previous tests where left was getting essentially 0 green time.\n",
    "\n",
    "* Time range will be set to 60 seconds, or 30 time steps at 2 seconds per time step."
   ]
  },
  {
   "cell_type": "code",
   "execution_count": 3,
   "metadata": {},
   "outputs": [],
   "source": [
    "time_range = 30\n",
    "time_ticks = np.arange(0, time_range+1, 1)\n",
    "\n",
    "parameters = {\n",
    "    'r_left': 0.25,\n",
    "    'r_through': 0.5,\n",
    "    'r_right': 0.25,\n",
    "    'sat_flow_rate': 1800,\n",
    "    'time_range': time_range,\n",
    "    'time_step': 2,\n",
    "    'g_min': 6,\n",
    "    'g_max': 20,\n",
    "    'flow_rate_reduction': 0.5\n",
    "}\n",
    "\n",
    "# Varying parameters: demand, alpha, beta, gamma"
   ]
  },
  {
   "cell_type": "code",
   "execution_count": 4,
   "metadata": {},
   "outputs": [],
   "source": [
    "def run_model(demand, weights=(0.4, 0.4, 0.2), new_model=True, log_output=True):\n",
    "    if new_model:\n",
    "        model = NewModel(\n",
    "            demand=demand,\n",
    "            alpha=weights[0],\n",
    "            beta=weights[1],\n",
    "            gamma=weights[2],\n",
    "            **parameters\n",
    "        )\n",
    "    else:\n",
    "        model = OldModel(\n",
    "            demand=demand,\n",
    "            **parameters\n",
    "        )\n",
    "\n",
    "    model.generate()\n",
    "    runtime = model.solve(log_output=log_output)\n",
    "    dfx, dfy, dfg = model.return_solution()\n",
    "    dfparams = model.return_parameters()\n",
    "    obj_values = model.return_objective_value()\n",
    "    return dfx, dfy, dfg, dfparams, obj_values, runtime"
   ]
  },
  {
   "cell_type": "markdown",
   "metadata": {},
   "source": [
    "## Intersection Cell Network"
   ]
  },
  {
   "cell_type": "markdown",
   "metadata": {},
   "source": [
    "![title](img/4leg-intersection.png)"
   ]
  },
  {
   "cell_type": "markdown",
   "metadata": {},
   "source": [
    "## Setting the path of cells to check"
   ]
  },
  {
   "cell_type": "code",
   "execution_count": 5,
   "metadata": {},
   "outputs": [],
   "source": [
    "_approach = SOUTHBOUND\n",
    "\n",
    "_approach_terms = [\n",
    "    'Left',\n",
    "    'Through',\n",
    "    'Right'\n",
    "]\n",
    "\n",
    "_cell_path = [\n",
    "    (CELL_SOURCE,0,_approach),\n",
    "    (CELL_NORMAL,0,_approach),\n",
    "    (CELL_NORMAL,1,_approach),\n",
    "    (CELL_NORMAL,2,_approach),\n",
    "    (CELL_MOVEMENT,THROUGH_TURN,_approach),\n",
    "    S_mapping((CELL_MOVEMENT,THROUGH_TURN,_approach))[0]\n",
    "]\n",
    "\n",
    "def movement_paths(approach):\n",
    "    return [\n",
    "        [\n",
    "            (CELL_SOURCE,0,approach),\n",
    "            (CELL_NORMAL,0,approach),\n",
    "            (CELL_NORMAL,1,approach),\n",
    "            (CELL_NORMAL,2,approach),\n",
    "            (CELL_MOVEMENT,LEFT_TURN,approach),\n",
    "            S_mapping((CELL_MOVEMENT,LEFT_TURN,approach))[0]\n",
    "        ],\n",
    "        [\n",
    "            (CELL_SOURCE,0,approach),\n",
    "            (CELL_NORMAL,0,approach),\n",
    "            (CELL_NORMAL,1,approach),\n",
    "            (CELL_NORMAL,2,approach),\n",
    "            (CELL_MOVEMENT,THROUGH_TURN,approach),\n",
    "            S_mapping((CELL_MOVEMENT,THROUGH_TURN,approach))[0]\n",
    "        ],\n",
    "        [\n",
    "            (CELL_SOURCE,0,approach),\n",
    "            (CELL_NORMAL,0,approach),\n",
    "            (CELL_NORMAL,1,approach),\n",
    "            (CELL_NORMAL,2,approach),\n",
    "            (CELL_MOVEMENT,RIGHT_TURN,approach),\n",
    "            S_mapping((CELL_MOVEMENT,RIGHT_TURN,approach))[0]\n",
    "        ]\n",
    "    ]"
   ]
  },
  {
   "cell_type": "markdown",
   "metadata": {},
   "source": [
    "## Comparing cell volumes"
   ]
  },
  {
   "cell_type": "code",
   "execution_count": 6,
   "metadata": {},
   "outputs": [],
   "source": [
    "def plot_volume(dfx, cell_path=_cell_path, title=\"Volume (Instantaneous and Cumulative)\", headless=False, filename='volume.png'):\n",
    "    dfx_approach = pd.concat([\n",
    "        dfx[dfx.cell == c].sort_values(by='timestep')\n",
    "        for c in cell_path\n",
    "    ]).pivot(index='timestep', columns='cell', values='volume')\n",
    "    \n",
    "    fig, axs = plt.subplots(1,2, figsize=(20,10))\n",
    "    \n",
    "    sns.lineplot(data=dfx_approach, ax=axs[0])\n",
    "    sns.lineplot(data=dfx_approach.cumsum(), ax=axs[1])\n",
    "\n",
    "    axs[0].set_title('Volume of cells')\n",
    "    axs[0].set_xlabel('Timesteps')\n",
    "    axs[0].set_ylabel('Instantaneous volume')\n",
    "    axs[0].set_xticks(time_ticks, minor=True)\n",
    "\n",
    "    axs[1].set_title('Volume of cells (cumulative)')\n",
    "    axs[1].set_xlabel('Timesteps')\n",
    "    axs[1].set_ylabel('Cumulative volume')\n",
    "    axs[1].set_xticks(time_ticks, minor=True)\n",
    "    \n",
    "    fig.suptitle(title, fontsize=18)\n",
    "    \n",
    "    if headless:\n",
    "        fig.savefig(IMAGE_PATH + filename)\n",
    "        plt.close(fig)"
   ]
  },
  {
   "cell_type": "markdown",
   "metadata": {},
   "source": [
    "## Comparing flows"
   ]
  },
  {
   "cell_type": "code",
   "execution_count": 7,
   "metadata": {},
   "outputs": [],
   "source": [
    "def plot_flow(dfy, cell_path=_cell_path, title=\"Flow (Instantaneous and Cumulative)\", headless=False, filename='flow.png'):\n",
    "    dfy_approach = pd.concat([\n",
    "        dfy[dfy.cell_from == c].groupby(['cell_from', 'timestep']).agg({'flow': 'sum'}).sort_values(by='timestep')\n",
    "        for c in cell_path\n",
    "    ]).reset_index().pivot(index='timestep', columns='cell_from', values='flow')\n",
    "    \n",
    "    fig, axs = plt.subplots(1,2, figsize=(20,10))\n",
    "\n",
    "    sns.lineplot(data=dfy_approach, ax=axs[0])\n",
    "    sns.lineplot(data=dfy_approach.cumsum(), ax=axs[1])\n",
    "\n",
    "    axs[0].set_title('Flow from cells')\n",
    "    axs[0].set_xlabel('Timesteps')\n",
    "    axs[0].set_ylabel('Instantaneous flow')\n",
    "    axs[0].set_xticks(time_ticks, minor=True)\n",
    "\n",
    "    axs[1].set_title('Flow from cells (cumulative)')\n",
    "    axs[1].set_xlabel('Timesteps')\n",
    "    axs[1].set_ylabel('Cumulative flow')\n",
    "    axs[1].set_xticks(time_ticks, minor=True)\n",
    "    \n",
    "    fig.suptitle(title, fontsize=18)\n",
    "    \n",
    "    if headless:\n",
    "        fig.savefig(IMAGE_PATH + filename)\n",
    "        plt.close(fig)"
   ]
  },
  {
   "cell_type": "markdown",
   "metadata": {},
   "source": [
    "## Comparing specific green time"
   ]
  },
  {
   "cell_type": "code",
   "execution_count": 8,
   "metadata": {
    "scrolled": false
   },
   "outputs": [],
   "source": [
    "all_phases = [intToBinTuple(x) for x in range(8)]\n",
    "all_phases_labels = [\n",
    "    \"Left, Westbound\",\n",
    "    \"Through, Eastbound\",\n",
    "    \"Left, Southbound\",\n",
    "    \"Through, Southbound\",\n",
    "    \"Left, Eastbound\",\n",
    "    \"Through, Westbound\",\n",
    "    \"Left, Northbound\",\n",
    "    \"Through, Northbound\",\n",
    "]\n",
    "\n",
    "def plot_greentime(dfg, title=\"Greentime graphs\", headless=False, filename='greentime.png'):\n",
    "    dfg_map = dfg.pivot(index='timestep', columns='cell', values='is_green')\n",
    "\n",
    "    fig, axs = plt.subplots(8,1,figsize=(18,18), sharey=True)\n",
    "\n",
    "    for ndx, t in enumerate(all_phases):\n",
    "        sns.lineplot(data=dfg_map[t], ax=axs[ndx])\n",
    "        axs[ndx].text(0.01,.5,all_phases_labels[ndx],\n",
    "            horizontalalignment='left',\n",
    "            transform=axs[ndx].transAxes,\n",
    "            fontsize='large')\n",
    "        axs[ndx].set_xticks(time_ticks, minor=False)\n",
    "    \n",
    "    fig.suptitle(title, fontsize=18)\n",
    "    \n",
    "    if headless:\n",
    "        fig.savefig(IMAGE_PATH + filename)\n",
    "        plt.close(fig)"
   ]
  },
  {
   "cell_type": "code",
   "execution_count": 9,
   "metadata": {},
   "outputs": [],
   "source": [
    "def plot_greentime_nophase(dfg):\n",
    "    df_g_map = dfg.pivot(index='timestep', columns='cell', values='is_green')\n",
    "    approaches = [ [ (CELL_MOVEMENT,t,a) for t in range(3) ] for a in range(4) ]\n",
    "\n",
    "    _, axs = plt.subplots(4,3,figsize=(20,20), sharey=True)\n",
    "\n",
    "    for i in range(4):\n",
    "        for j in range(3):\n",
    "             sns.lineplot(data=df_g_map[[approaches[i][j]]], ax=axs[i][j])"
   ]
  },
  {
   "cell_type": "markdown",
   "metadata": {},
   "source": [
    "## Comparing greentime as a heatmap"
   ]
  },
  {
   "cell_type": "code",
   "execution_count": 44,
   "metadata": {},
   "outputs": [],
   "source": [
    "def plot_greentime_map(dfg, title=\"Greentime maps\", headless=False, filename='greentime.png', new_model=True):\n",
    "    fig, axs = plt.subplots(figsize=(18,8))\n",
    "\n",
    "    phase_map = {\n",
    "        (0,0,0): [(2, LEFT_TURN, WESTBOUND), (2, RIGHT_TURN, NORTHBOUND)], # WBL, NBR\n",
    "        (0,0,1): [(2, THROUGH_TURN, EASTBOUND), (2, RIGHT_TURN, EASTBOUND)],\n",
    "        (0,1,0): [(2, LEFT_TURN, SOUTHBOUND), (2, RIGHT_TURN, WESTBOUND)],\n",
    "        (0,1,1): [(2, THROUGH_TURN, SOUTHBOUND), (2, RIGHT_TURN, SOUTHBOUND)],\n",
    "        (1,0,0): [(2, LEFT_TURN, EASTBOUND), (2, RIGHT_TURN, SOUTHBOUND)],\n",
    "        (1,0,1): [(2, THROUGH_TURN, WESTBOUND), (2, RIGHT_TURN, WESTBOUND)],\n",
    "        (1,1,0): [(2, LEFT_TURN, NORTHBOUND), (2, RIGHT_TURN, EASTBOUND)],\n",
    "        (1,1,1): [(2, THROUGH_TURN, NORTHBOUND), (2, RIGHT_TURN, NORTHBOUND)],\n",
    "    }\n",
    "    \n",
    "    dfg.is_green = pd.to_numeric(dfg.is_green, 'is_green', downcast='integer')\n",
    "    \n",
    "    if new_model:\n",
    "        dfg_conv = pd.DataFrame(columns=['timestep', 'cell', 'is_green'])\n",
    "        for row in dfg.itertuples():\n",
    "            raw = row[1:]\n",
    "            converteds = [(raw[0], c, raw[2]) for c in phase_map[raw[1]]]\n",
    "            for entry in converteds:\n",
    "                dfg_conv.loc[-1] = entry\n",
    "                dfg_conv.index += 1\n",
    "        dfg_matrix = dfg_conv.pivot_table(index='cell', columns='timestep', values='is_green', aggfunc=np.sum)\n",
    "        dfg_matrix = dfg_matrix.replace(2,1)\n",
    "    else:\n",
    "        dfg_matrix = dfg.pivot(index='cell', columns='timestep', values='is_green')\n",
    "\n",
    "    dfg_matrix = dfg_matrix.reindex(index=[\n",
    "        (2,LEFT_TURN,EASTBOUND), (2,RIGHT_TURN,EASTBOUND), (2,THROUGH_TURN,EASTBOUND),\n",
    "        (2,LEFT_TURN,NORTHBOUND), (2,RIGHT_TURN,NORTHBOUND), (2,THROUGH_TURN,NORTHBOUND),\n",
    "        (2,LEFT_TURN,SOUTHBOUND), (2,RIGHT_TURN,SOUTHBOUND), (2,THROUGH_TURN,SOUTHBOUND),\n",
    "        (2,LEFT_TURN,WESTBOUND), (2,RIGHT_TURN,WESTBOUND), (2,THROUGH_TURN,WESTBOUND),\n",
    "    ])\n",
    "    sns.heatmap(data=dfg_matrix)\n",
    "    \n",
    "    fig.suptitle(title, fontsize=18)\n",
    "    \n",
    "    if headless:\n",
    "        fig.savefig(IMAGE_PATH + filename)\n",
    "        plt.close(fig)"
   ]
  },
  {
   "cell_type": "markdown",
   "metadata": {},
   "source": [
    "## Generating graphs for each model case"
   ]
  },
  {
   "cell_type": "code",
   "execution_count": 11,
   "metadata": {},
   "outputs": [],
   "source": [
    "def generate_graphs(dfx, dfy, dfg, capacity, max_flow, demand, alpha, flow_weight, folder=''):\n",
    "    cell_paths = movement_paths(_approach)\n",
    "    \n",
    "    for ndx, cellpath in enumerate(cell_paths):\n",
    "        if dfx is not None:\n",
    "            plot_volume(dfx,\n",
    "                        cellpath,\n",
    "                        '''Volume in cells at {} vph and {}% delay weight ({} turn)\n",
    "                        (Cap: {:.2f}, Max Flow: {}, Flow Weight: {})'''\n",
    "                            .format(demand, alpha*100, _approach_terms[ndx], capacity, max_flow, flow_weight),\n",
    "                        filename=folder+'volumes/{}vph_{}alpha_{}flow_volume_{}.png'\n",
    "                            .format(demand, alpha, flow_weight, _approach_terms[ndx].lower()))\n",
    "        \n",
    "        if dfy is not None:\n",
    "            plot_flow(dfy,\n",
    "                      cellpath,\n",
    "                      '''Flow from cells at {} vph and {}% delay weight ({} turn)\n",
    "                      (Cap: {:.2f}, Max Flow: {}, Flow Weight: {})'''\n",
    "                          .format(demand, alpha*100, _approach_terms[ndx], capacity, max_flow, flow_weight),\n",
    "                      filename=folder+'flows/{}vph_{}alpha_{}flow_flow_{}.png'\n",
    "                          .format(demand, alpha, flow_weight, _approach_terms[ndx].lower()))\n",
    "    \n",
    "    if dfg is not None:\n",
    "        plot_greentime(dfg,\n",
    "                       '''Green times at {} vph and {}% delay weight\n",
    "                       (Cap: {:.2f}, Max Flow: {}, Flow Weight: {})'''\n",
    "                           .format(demand, alpha*100, capacity, max_flow, flow_weight),\n",
    "                       filename=folder+'greentimes/{}vph_{}alpha_{}flow_greetime.png'\n",
    "                           .format(demand, alpha, flow_weight))"
   ]
  },
  {
   "cell_type": "code",
   "execution_count": 12,
   "metadata": {},
   "outputs": [],
   "source": [
    "def plot_obj_values(obj_values, title, xaxis, xlabel, headless=True, filename='obj.png'):\n",
    "    fig, axs = plt.subplots(1,2,figsize=(20,10))\n",
    "\n",
    "    axs[0].plot(xaxis, [x[0] for x in obj_values])\n",
    "    axs[0].set_title(\"Computed total delay\")\n",
    "    axs[0].set_ylabel(\"Total vehicle delay (timesteps)\")\n",
    "    axs[0].set_xlabel(xlabel)\n",
    "\n",
    "    axs[1].plot(xaxis, [x[1] for x in obj_values])\n",
    "    axs[1].set_title(\"Computed total throughput\")\n",
    "    axs[1].set_ylabel(\"Total vehicle throughput (veh)\")\n",
    "    axs[1].set_xlabel(xlabel)\n",
    "    \n",
    "    fig.suptitle(title, fontsize=18)\n",
    "    \n",
    "    if headless:\n",
    "        fig.savefig(IMAGE_PATH + filename)\n",
    "        plt.close(fig)"
   ]
  },
  {
   "cell_type": "markdown",
   "metadata": {},
   "source": [
    "## Saving dataframes"
   ]
  },
  {
   "cell_type": "code",
   "execution_count": 13,
   "metadata": {},
   "outputs": [],
   "source": [
    "def save_df(df, filename):\n",
    "    df.to_pickle(DF_PATH + filename + \".pkl\")"
   ]
  },
  {
   "cell_type": "markdown",
   "metadata": {},
   "source": [
    "## 1. Testing effect of flow rate reduction on Old and New models"
   ]
  },
  {
   "cell_type": "markdown",
   "metadata": {},
   "source": [
    "### New Model, FRR = 1"
   ]
  },
  {
   "cell_type": "code",
   "execution_count": 45,
   "metadata": {
    "scrolled": true
   },
   "outputs": [
    {
     "name": "stdout",
     "output_type": "stream",
     "text": [
      "Solving...\n",
      "CPXPARAM_Read_DataCheck                          1\n",
      "Tried aggregator 2 times.\n",
      "MIP Presolve eliminated 4522 rows and 352 columns.\n",
      "MIP Presolve modified 1114 coefficients.\n",
      "Aggregator did 157 substitutions.\n",
      "Reduced MIP has 5436 rows, 3001 columns, and 20390 nonzeros.\n",
      "Reduced MIP has 405 binaries, 0 generals, 0 SOSs, and 0 indicators.\n",
      "Presolve time = 0.03 sec. (22.70 ticks)\n",
      "Found incumbent of value 1356.223176 after 0.05 sec. (41.34 ticks)\n",
      "Probing fixed 0 vars, tightened 164 bounds.\n",
      "Probing time = 0.00 sec. (0.99 ticks)\n",
      "Tried aggregator 2 times.\n",
      "MIP Presolve eliminated 964 rows and 164 columns.\n",
      "Aggregator did 148 substitutions.\n",
      "Reduced MIP has 4324 rows, 2689 columns, and 17990 nonzeros.\n",
      "Reduced MIP has 405 binaries, 0 generals, 0 SOSs, and 0 indicators.\n",
      "Presolve time = 0.02 sec. (10.56 ticks)\n",
      "Probing time = 0.00 sec. (0.75 ticks)\n",
      "Tried aggregator 1 time.\n",
      "MIP Presolve modified 8 coefficients.\n",
      "Reduced MIP has 4324 rows, 2689 columns, and 17990 nonzeros.\n",
      "Reduced MIP has 405 binaries, 0 generals, 0 SOSs, and 0 indicators.\n",
      "Presolve time = 0.02 sec. (11.76 ticks)\n",
      "Probing time = 0.00 sec. (0.74 ticks)\n",
      "Clique table members: 810.\n",
      "MIP emphasis: balance optimality and feasibility.\n",
      "MIP search method: dynamic search.\n",
      "Parallel mode: deterministic, using up to 8 threads.\n",
      "Root relaxation solution time = 0.22 sec. (221.16 ticks)\n",
      "\n",
      "        Nodes                                         Cuts/\n",
      "   Node  Left     Objective  IInf  Best Integer    Best Bound    ItCnt     Gap\n",
      "\n",
      "*     0+    0                         1356.2232    -2741.0889           302.11%\n",
      "      0     0      166.6798   233     1356.2232      166.6798        0   87.71%\n",
      "*     0+    0                          328.0277      166.6798            49.19%\n",
      "      0     0      174.2691   249      328.0277      Cuts: 62      273   46.87%\n",
      "*     0+    0                          311.2797      174.2691            44.02%\n",
      "      0     0      181.1045   258      311.2797     Cuts: 198      657   41.82%\n",
      "      0     0      181.7218   228      311.2797     Cuts: 182      907   41.62%\n",
      "*     0+    0                          308.2349      181.7218            41.04%\n",
      "      0     0      182.4141   258      308.2349      Cuts: 69     1039   40.82%\n",
      "      0     0      182.5023   275      308.2349      Cuts: 75     1196   40.79%\n",
      "      0     0      182.5085   257      308.2349     Cuts: 100     1283   40.79%\n",
      "      0     0      185.1341   261      308.2349      Cuts: 65     1509   39.94%\n",
      "*     0+    0                          287.7968      185.1341            35.67%\n",
      "      0     0      185.4775   225      287.7968     Cuts: 114     1781   35.55%\n",
      "      0     0      185.5186   234      287.7968      Cuts: 67     1829   35.54%\n",
      "      0     0      185.5186   239      287.7968       Cuts: 9     1836   35.54%\n",
      "*     0+    0                          284.3682      185.5186            34.76%\n",
      "      0     0      188.4315   262      284.3682      Cuts: 17     2839   30.00%\n",
      "      0     0      189.7198   253      284.3682     Cuts: 148     3275   30.00%\n",
      "      0     0      190.5142   293      284.3682     Cuts: 159     3453   30.00%\n",
      "*     0+    0                          282.4330      199.0467            29.52%\n",
      "      0     2      190.5142   270      282.4330      203.1502     3453   28.07%\n",
      "Elapsed time = 3.65 sec. (2646.16 ticks, tree = 0.01 MB, solutions = 7)\n",
      "     13     9      225.4200   179      282.4330      203.1502     7043   28.07%\n",
      "     79    51      221.3534   188      282.4330      203.1502    19565   28.07%\n",
      "    141    92      259.5626   105      282.4330      203.1502    35451   28.07%\n",
      "    193   125        cutoff            282.4330      203.1502    48862   28.07%\n",
      "    265   159      264.3801    49      282.4330      208.9401    61356   26.02%\n",
      "    364   203      263.8748   102      282.4330      210.6012    71905   25.43%\n",
      "    456   265      264.5747   135      282.4330      215.6958    81220   23.63%\n",
      "    544   322      278.8568    97      282.4330      223.4670    96637   20.88%\n",
      "    661   373      265.8485   127      282.4330      225.5599   105087   20.14%\n",
      "    858   495      278.8499   174      282.4330      230.8832   129589   18.25%\n",
      "Elapsed time = 8.39 sec. (5773.23 ticks, tree = 9.51 MB, solutions = 7)\n",
      "   1221   620      279.8143    95      282.4330      237.2864   161140   15.98%\n",
      "   1599   787        cutoff            282.4330      242.8729   212136   14.01%\n",
      "   2016   930      282.1386   121      282.4330      247.2664   252426   12.45%\n",
      "   2359  1081      275.5232   113      282.4330      251.1270   298019   11.08%\n",
      "   2668  1203      265.0759    88      282.4330      253.5371   355370   10.23%\n",
      "   2920  1273      280.0627    81      282.4330      255.6642   391174    9.48%\n",
      "   3207  1358        cutoff            282.4330      257.3914   453287    8.87%\n",
      "*  3427  1420      integral     0      280.6106      258.6139   491629    7.84%\n",
      "   3702  1378      278.2041   106      280.6106      259.7055   525998    7.45%\n",
      "   3944  1408        cutoff            280.6106      260.7499   572083    7.08%\n",
      "Elapsed time = 22.21 sec. (15183.80 ticks, tree = 30.27 MB, solutions = 8)\n",
      "   4148  1450      276.5774   153      280.6106      261.3753   620486    6.85%\n",
      "   4342  1470      267.4930    69      280.6106      262.3720   662874    6.50%\n",
      "   4591  1489      269.8706   117      280.6106      263.4527   708725    6.11%\n",
      "*  4633  1493      integral     0      280.5629      263.4527   717069    6.10%\n",
      "   4872  1508      278.5066   182      280.5629      263.9792   748560    5.91%\n",
      "   4903  1503      194.6523   282      280.5629      264.5738   793471    5.70%\n",
      "   4913   708      247.5258   136      280.5629      264.5738   797139    5.70%\n",
      "   5025    80      277.9237   133      280.5629      264.5738   837744    5.70%\n",
      "   5169   170      264.5632   155      280.5629      264.5738   880189    5.70%\n",
      "   5292   224      225.2604   224      280.5629      264.5738   919315    5.70%\n",
      "Elapsed time = 38.94 sec. (26795.75 ticks, tree = 0.46 MB, solutions = 9)\n",
      "   5463   292      219.4204   175      280.5629      264.5738   968310    5.70%\n",
      "   5653   368        cutoff            280.5629      264.5738  1026064    5.70%\n",
      "   5813   444      254.3210   116      280.5629      264.5738  1092665    5.70%\n",
      "   5987   548      279.1106   144      280.5629      264.5738  1167492    5.70%\n",
      "   6164   590      271.2164   115      280.5629      264.5738  1214767    5.70%\n",
      "   6321   643      280.4130   123      280.5629      264.5738  1252318    5.70%\n",
      "   6534   712      279.3113   176      280.5629      264.5738  1316113    5.70%\n",
      "   6707   839      278.7149   113      280.5629      264.5738  1414514    5.70%\n",
      "   6903   906      274.7071   101      280.5629      264.5738  1479890    5.70%\n",
      "   7108   978      273.5857   145      280.5629      264.5738  1540663    5.70%\n",
      "Elapsed time = 55.72 sec. (36460.02 ticks, tree = 1.36 MB, solutions = 9)\n",
      "   7297  1056      260.1693   138      280.5629      264.5738  1585268    5.70%\n",
      "   7530  1129      264.7824   150      280.5629      264.5738  1650605    5.70%\n",
      "   7724  1192        cutoff            280.5629      264.5738  1692713    5.70%\n",
      "   7940  1288        cutoff            280.5629      264.5738  1778631    5.70%\n",
      "   8152  1361      261.0686   180      280.5629      264.5738  1853917    5.70%\n",
      "   8342  1414      256.1910   131      280.5629      264.5738  1915745    5.70%\n",
      "   8568  1488      262.8803   130      280.5629      264.5738  1980775    5.70%\n",
      "   8801  1541      280.2295   116      280.5629      264.5738  2042134    5.70%\n",
      "   9034  1587      282.8330    95      280.5629      264.5738  2089036    5.70%\n",
      "   9221  1658      272.3142   158      280.5629      264.5738  2135654    5.70%\n",
      "Elapsed time = 71.45 sec. (46053.30 ticks, tree = 7.66 MB, solutions = 9)\n",
      "   9442  1668      275.5084    99      280.5629      264.5738  2155688    5.70%\n",
      "   9697  1692      277.1408    99      280.5629      264.5738  2195743    5.70%\n",
      "   9899  1748        cutoff            280.5629      264.5738  2257206    5.70%\n",
      "  10092  1800    infeasible            280.5629      264.5738  2311998    5.70%\n",
      "  10315  1839        cutoff            280.5629      264.5738  2351611    5.70%\n",
      "  10561  1874      271.2166   121      280.5629      264.5738  2372837    5.70%\n"
     ]
    },
    {
     "name": "stdout",
     "output_type": "stream",
     "text": [
      "  10762  1900      280.5325    22      280.5629      264.5738  2417170    5.70%\n",
      "  10980  1943      274.7828   110      280.5629      264.5738  2460474    5.70%\n",
      "  11231  1969      268.4093   173      280.5629      264.5738  2501963    5.70%\n",
      "  11488  1995        cutoff            280.5629      264.5738  2548275    5.70%\n",
      "Elapsed time = 88.49 sec. (55638.87 ticks, tree = 26.78 MB, solutions = 9)\n",
      "  11677  2014      271.8611   168      280.5629      264.5738  2583532    5.70%\n",
      "  11871  2026      280.3856    65      280.5629      264.9516  2637244    5.56%\n",
      "  12128  2038        cutoff            280.5629      265.3414  2658740    5.43%\n",
      "  12405  2056      274.8430   124      280.5629      265.7173  2677850    5.29%\n",
      "  12623  2060        cutoff            280.5629      266.0873  2757791    5.16%\n",
      "  12856  2064      274.7937   153      280.5629      266.6734  2797097    4.95%\n",
      "  13105  2053        cutoff            280.5629      267.2587  2836528    4.74%\n",
      "  13368  2036        cutoff            280.5629      267.5588  2857896    4.64%\n",
      "  13577  2008      279.9673   166      280.5629      267.9884  2929702    4.48%\n",
      "  13806  1992        cutoff            280.5629      268.4816  2963155    4.31%\n",
      "Elapsed time = 106.20 sec. (65221.06 ticks, tree = 35.47 MB, solutions = 9)\n",
      "  14062  1980      279.8303    56      280.5629      268.9557  2979089    4.14%\n",
      "  14330  1934      271.8714    85      280.5629      269.5288  3053998    3.93%\n",
      "  14589  1894      277.2940   163      280.5629      269.9058  3082498    3.80%\n",
      "  14828  1835      278.2116   132      280.5629      270.4417  3132820    3.61%\n",
      "  15060  1762        cutoff            280.5629      270.9525  3168686    3.43%\n",
      "  15367  1650      279.9315   155      280.5629      271.4773  3221474    3.24%\n",
      "  15653  1623        cutoff            280.5629      272.1040  3231617    3.01%\n",
      "  15960  1425        cutoff            280.5629      272.9713  3313836    2.71%\n",
      "  16286  1346      280.4965    93      280.5629      273.7802  3335238    2.42%\n",
      "  16616  1147        cutoff            280.5629      274.4108  3390172    2.19%\n",
      "Elapsed time = 124.63 sec. (74808.47 ticks, tree = 18.13 MB, solutions = 9)\n",
      "  17027   955        cutoff            280.5629      275.5138  3424857    1.80%\n",
      "  17485   600        cutoff            280.5629      276.8323  3478134    1.33%\n",
      "\n",
      "GUB cover cuts applied:  10\n",
      "Clique cuts applied:  59\n",
      "Cover cuts applied:  543\n",
      "Implied bound cuts applied:  14\n",
      "Flow cuts applied:  25\n",
      "Mixed integer rounding cuts applied:  41\n",
      "Zero-half cuts applied:  16\n",
      "Lift and project cuts applied:  18\n",
      "Gomory fractional cuts applied:  42\n",
      "\n",
      "Root node processing (before b&c):\n",
      "  Real time             =    3.64 sec. (2641.93 ticks)\n",
      "Parallel b&c, 8 threads:\n",
      "  Real time             =  125.97 sec. (74794.00 ticks)\n",
      "  Sync time (average)   =   10.88 sec.\n",
      "  Wait time (average)   =    0.04 sec.\n",
      "                          ------------\n",
      "Total (root+branch&cut) =  129.61 sec. (77435.93 ticks)\n",
      "Done!\n",
      "Time elapsed: 129.684605837\n"
     ]
    }
   ],
   "source": [
    "parameters['flow_rate_reduction'] = 1\n",
    "demand = 600\n",
    "\n",
    "dfx, dfy, dfg, _, obj_values, runtime = run_model(demand, weights=(0.4, 0.4, 0.2), new_model=True, log_output=True)"
   ]
  },
  {
   "cell_type": "code",
   "execution_count": 46,
   "metadata": {},
   "outputs": [
    {
     "name": "stdout",
     "output_type": "stream",
     "text": [
      "\n",
      "Runtime: 129.684605837\n",
      "\n",
      "Delay: 3175.37552743\n",
      "\n",
      "Throughput: 66.835443038\n",
      "\n",
      "Objective Value: 280.562878349\n"
     ]
    }
   ],
   "source": [
    "print('''\n",
    "Runtime: {}\\n\n",
    "Delay: {}\\n\n",
    "Throughput: {}\\n\n",
    "Objective Value: {}'''.format(runtime, *obj_values))"
   ]
  },
  {
   "cell_type": "code",
   "execution_count": 47,
   "metadata": {
    "scrolled": false
   },
   "outputs": [
    {
     "data": {
      "image/png": "[encoded data removed]",
      "text/plain": [
       "<Figure size 1296x576 with 2 Axes>"
      ]
     },
     "metadata": {
      "needs_background": "light"
     },
     "output_type": "display_data"
    }
   ],
   "source": [
    "plot_greentime_map(dfg)"
   ]
  },
  {
   "cell_type": "markdown",
   "metadata": {},
   "source": [
    "### New Model, FRR = 0.5"
   ]
  },
  {
   "cell_type": "code",
   "execution_count": 17,
   "metadata": {
    "scrolled": true
   },
   "outputs": [
    {
     "name": "stdout",
     "output_type": "stream",
     "text": [
      "Solving...\n",
      "CPXPARAM_Read_DataCheck                          1\n",
      "Tried aggregator 2 times.\n",
      "MIP Presolve eliminated 3172 rows and 292 columns.\n",
      "MIP Presolve modified 756 coefficients.\n",
      "Aggregator did 142 substitutions.\n",
      "Reduced MIP has 3488 rows, 1906 columns, and 11888 nonzeros.\n",
      "Reduced MIP has 270 binaries, 0 generals, 0 SOSs, and 0 indicators.\n",
      "Presolve time = 0.02 sec. (13.49 ticks)\n",
      "Found incumbent of value 913.976488 after 0.04 sec. (24.26 ticks)\n",
      "Probing fixed 0 vars, tightened 129 bounds.\n",
      "Probing time = 0.00 sec. (0.62 ticks)\n",
      "Tried aggregator 2 times.\n",
      "MIP Presolve eliminated 604 rows and 104 columns.\n",
      "Aggregator did 88 substitutions.\n",
      "Reduced MIP has 2796 rows, 1714 columns, and 10180 nonzeros.\n",
      "Reduced MIP has 270 binaries, 0 generals, 0 SOSs, and 0 indicators.\n",
      "Presolve time = 0.01 sec. (5.48 ticks)\n",
      "Probing time = 0.00 sec. (0.43 ticks)\n",
      "Tried aggregator 1 time.\n",
      "MIP Presolve modified 8 coefficients.\n",
      "Reduced MIP has 2796 rows, 1714 columns, and 10180 nonzeros.\n",
      "Reduced MIP has 270 binaries, 0 generals, 0 SOSs, and 0 indicators.\n",
      "Presolve time = 0.01 sec. (7.16 ticks)\n",
      "Probing time = 0.01 sec. (0.42 ticks)\n",
      "Clique table members: 540.\n",
      "MIP emphasis: balance optimality and feasibility.\n",
      "MIP search method: dynamic search.\n",
      "Parallel mode: deterministic, using up to 8 threads.\n",
      "Root relaxation solution time = 0.16 sec. (175.85 ticks)\n",
      "\n",
      "        Nodes                                         Cuts/\n",
      "   Node  Left     Objective  IInf  Best Integer    Best Bound    ItCnt     Gap\n",
      "\n",
      "*     0+    0                          913.9765    -2640.1133           388.86%\n",
      "      0     0     -275.6045   196      913.9765     -275.6045        0  130.15%\n",
      "*     0+    0                         -131.2153     -275.6045           110.04%\n",
      "      0     0     -267.1616   208     -131.2153      Cuts: 28      198  103.61%\n",
      "      0     0     -262.4017   209     -131.2153      Cuts: 49      345   99.98%\n",
      "*     0+    0                         -138.3362     -262.4017            89.68%\n",
      "      0     0     -262.3458   203     -138.3362      Cuts: 24      418   89.64%\n",
      "      0     0     -262.3411   205     -138.3362      Cuts: 31      439   89.64%\n",
      "*     0+    0                         -145.6808     -262.3411            80.08%\n",
      "*     0+    0                         -159.9454     -262.3411            64.02%\n",
      "      0     2     -262.3411   205     -159.9454     -255.3993      439   59.68%\n",
      "Elapsed time = 1.22 sec. (898.53 ticks, tree = 0.01 MB, solutions = 5)\n",
      "     54    33     -238.2506   137     -159.9454     -249.2781     7363   55.85%\n",
      "*   168+  100                         -165.7070     -249.2781            50.43%\n",
      "    203   159     -171.4127    43     -165.7070     -249.2781    24969   50.43%\n",
      "*   230+  156                         -168.0271     -249.2781            48.36%\n",
      "    368   250     -172.7263    46     -168.0271     -243.0017    36921   44.62%\n",
      "    578   407     -188.2556    92     -168.0271     -240.7835    55502   43.30%\n",
      "    759   541     -182.3339    86     -168.0271     -233.9339    72873   39.22%\n",
      "*   851   524      integral     0     -169.1575     -233.9339    68671   38.29%\n",
      "*  1026+  559                         -169.5928     -232.4339            37.05%\n",
      "*  1038+  559                         -170.7947     -232.4339            36.09%\n",
      "   1044   657     -204.1516   120     -170.7947     -232.4339    86749   36.09%\n",
      "   1251   815     -186.7657    97     -170.7947     -232.2137   106712   35.96%\n",
      "   1487   899     -199.1638   127     -170.7947     -227.4091   117955   33.15%\n",
      "   2500  1553     -188.3556    93     -170.7947     -219.8059   188284   28.70%\n",
      "Elapsed time = 5.42 sec. (3856.82 ticks, tree = 1.53 MB, solutions = 11)\n",
      "   3337  2157     -245.7364   197     -170.7947     -214.6355   269328   25.67%\n",
      "   3362   314     -233.5194   186     -170.7947     -214.6355   274124   25.67%\n",
      "   3813   308     -194.1278   130     -170.7947     -214.6355   330696   25.67%\n",
      "   4294   638     -172.4280    78     -170.7947     -214.6355   362184   25.67%\n",
      "   5073  1061     -185.6813   113     -170.7947     -214.6355   394948   25.67%\n",
      "   5791  1596     -172.6569    34     -170.7947     -213.9743   431524   25.28%\n",
      "   6660  2173     -200.1534   140     -170.7947     -210.4355   471216   23.21%\n",
      "   7555  2787     -180.4566   124     -170.7947     -207.6689   512913   21.59%\n",
      "*  8048+ 2997                         -170.9053     -206.6599            20.92%\n",
      "   8533  3356        cutoff           -170.9053     -205.4594   551215   20.22%\n",
      "   9464  3929     -190.1404   131     -170.9053     -203.4636   590027   19.05%\n",
      "Elapsed time = 21.36 sec. (15606.16 ticks, tree = 55.84 MB, solutions = 12)\n",
      "  10525  4426     -174.8498    73     -170.9053     -202.0846   622741   18.24%\n",
      "  11549  5004     -176.4685    60     -170.9053     -200.5886   661947   17.37%\n",
      "  12690  5657     -173.4628    96     -170.9053     -199.1782   703494   16.54%\n",
      "  13649  6360     -188.6672   127     -170.9053     -198.0080   758230   15.86%\n",
      "  14661  6794        cutoff           -170.9053     -197.0637   786184   15.31%\n",
      "  15863  7418     -181.3532   113     -170.9053     -196.1398   832392   14.77%\n",
      "  16861  7904     -170.9487    89     -170.9053     -195.0713   870443   14.14%\n",
      "  17976  8325     -183.0112   114     -170.9053     -194.3616   899556   13.72%\n",
      "  19167  9013     -187.4111   109     -170.9053     -193.6044   953235   13.28%\n",
      "  20293  9626     -190.5333   131     -170.9053     -192.8982  1000275   12.87%\n",
      "Elapsed time = 37.62 sec. (25152.80 ticks, tree = 152.62 MB, solutions = 12)\n",
      "  21419 10065     -175.0394    88     -170.9053     -192.3439  1031993   12.54%\n",
      "  22551 10500     -176.2537    82     -170.9053     -191.7758  1076722   12.21%\n",
      "  23699 11105     -183.4349   119     -170.9053     -191.1682  1126231   11.86%\n",
      "  24805 11637     -175.6130   107     -170.9053     -190.5579  1176024   11.50%\n",
      "  26054 11916     -175.1495    82     -170.9053     -190.0782  1198525   11.22%\n",
      "  27230 12363        cutoff           -170.9053     -189.7613  1234428   11.03%\n",
      "  28405 12885        cutoff           -170.9053     -189.1556  1288810   10.68%\n",
      "  29655 13343     -170.9964    90     -170.9053     -188.6883  1326096   10.41%\n",
      "* 29851+13560                         -173.6983     -188.5890             8.57%\n",
      "  30831 11772     -175.5678   123     -173.6983     -188.2481  1389954    8.38%\n",
      "  32013 12065     -180.2758    94     -173.6983     -187.9714  1424806    8.22%\n",
      "Elapsed time = 53.09 sec. (34697.32 ticks, tree = 199.34 MB, solutions = 13)\n",
      "  33130 12286        cutoff           -173.6983     -187.5625  1460092    7.98%\n",
      "  34377 12576     -178.0829    87     -173.6983     -187.1109  1511101    7.72%\n",
      "  35577 12784     -176.0734   125     -173.6983     -186.7880  1538891    7.54%\n",
      "  36526 13044     -173.9650    73     -173.6983     -186.4995  1575106    7.37%\n",
      "  37672 13240     -176.1396    76     -173.6983     -186.0144  1619013    7.09%\n",
      "  38908 13464     -181.9478   128     -173.6983     -185.6321  1681049    6.87%\n",
      "  40219 13595     -175.4161    48     -173.6983     -185.3015  1706202    6.68%\n",
      "  41431 13827        cutoff           -173.6983     -185.0116  1751485    6.51%\n",
      "  42589 13915     -173.7136    92     -173.6983     -184.6800  1789758    6.32%\n",
      "  43918 14011     -176.9467    99     -173.6983     -184.3750  1813865    6.15%\n",
      "Elapsed time = 70.62 sec. (44240.43 ticks, tree = 215.19 MB, solutions = 13)\n",
      "  45183 14136        cutoff           -173.6983     -183.9883  1859990    5.92%\n",
      "  46436 14224     -176.2733   110     -173.6983     -183.6818  1923066    5.75%\n",
      "  47734 14267     -179.0463   119     -173.6983     -183.3631  1974329    5.56%\n",
      "  49006 14290        cutoff           -173.6983     -183.0485  2016454    5.38%\n",
      "  50330 14312     -177.2977   111     -173.6983     -182.7209  2040025    5.19%\n",
      "  51676 14308        cutoff           -173.6983     -182.4186  2101986    5.02%\n",
      "  52867 14243     -174.5936    97     -173.6983     -182.1111  2152700    4.84%\n",
      "  54083 14115     -173.9049    99     -173.6983     -181.8340  2181844    4.68%\n",
      "  55436 13986        cutoff           -173.6983     -181.5338  2221774    4.51%\n",
      "  56829 13827     -179.3049    84     -173.6983     -181.2224  2280271    4.33%\n",
      "Elapsed time = 88.32 sec. (53784.47 ticks, tree = 200.68 MB, solutions = 13)\n"
     ]
    },
    {
     "name": "stdout",
     "output_type": "stream",
     "text": [
      "  58105 13750        cutoff           -173.6983     -180.8333  2302901    4.11%\n",
      "  59477 13551     -174.8270    76     -173.6983     -180.5493  2353804    3.94%\n",
      "  60909 13322        cutoff           -173.6983     -180.2689  2400257    3.78%\n",
      "  62289 13123        cutoff           -173.6983     -179.9144  2430219    3.58%\n",
      "  63685 12844        cutoff           -173.6983     -179.6062  2473283    3.40%\n",
      "  65113 12546        cutoff           -173.6983     -179.3003  2511157    3.23%\n",
      "  66458 11919        cutoff           -173.6983     -178.9590  2578737    3.03%\n",
      "  67973 11542        cutoff           -173.6983     -178.5794  2605083    2.81%\n",
      "  69576 10746     -175.1345    86     -173.6983     -178.1860  2665693    2.58%\n",
      "  71072 10169        cutoff           -173.6983     -177.8274  2702130    2.38%\n",
      "Elapsed time = 106.04 sec. (63328.26 ticks, tree = 131.18 MB, solutions = 13)\n",
      "  72758  9297        cutoff           -173.6983     -177.4324  2751627    2.15%\n",
      "  74572  8317     -174.8677    92     -173.6983     -176.9829  2798080    1.89%\n",
      "  76581  6973     -174.0084    77     -173.6983     -176.4862  2852256    1.61%\n",
      "  78643  5309        cutoff           -173.6983     -175.8670  2900750    1.25%\n",
      "  81112  3395        cutoff           -173.6983     -175.1303  2942414    0.82%\n",
      "  84304   389     -173.8739    53     -173.6983     -173.9297  2976668    0.13%\n",
      "\n",
      "GUB cover cuts applied:  6\n",
      "Clique cuts applied:  41\n",
      "Cover cuts applied:  152\n",
      "Implied bound cuts applied:  9\n",
      "Flow cuts applied:  5\n",
      "Mixed integer rounding cuts applied:  29\n",
      "Zero-half cuts applied:  3\n",
      "Lift and project cuts applied:  6\n",
      "Gomory fractional cuts applied:  49\n",
      "\n",
      "Root node processing (before b&c):\n",
      "  Real time             =    1.20 sec. (896.04 ticks)\n",
      "Parallel b&c, 8 threads:\n",
      "  Real time             =  116.65 sec. (68238.73 ticks)\n",
      "  Sync time (average)   =    9.64 sec.\n",
      "  Wait time (average)   =    0.12 sec.\n",
      "                          ------------\n",
      "Total (root+branch&cut) =  117.85 sec. (69134.77 ticks)\n",
      "Done!\n",
      "Time elapsed: 117.891776085\n"
     ]
    }
   ],
   "source": [
    "parameters['flow_rate_reduction'] = 0.5\n",
    "demand = 600\n",
    "\n",
    "dfx, dfy, dfg, _, obj_values, runtime = run_model(demand, weights=(0.4, 0.4, 0.2), new_model=True, log_output=True)"
   ]
  },
  {
   "cell_type": "code",
   "execution_count": 18,
   "metadata": {},
   "outputs": [
    {
     "name": "stdout",
     "output_type": "stream",
     "text": [
      "\n",
      "Runtime: 117.891776085\n",
      "\n",
      "Delay: 1102.37974684\n",
      "\n",
      "Throughput: 60.2784810127\n",
      "\n",
      "Objective Value: -173.698272887\n"
     ]
    }
   ],
   "source": [
    "print('''\n",
    "Runtime: {}\\n\n",
    "Delay: {}\\n\n",
    "Throughput: {}\\n\n",
    "Objective Value: {}'''.format(runtime, *obj_values))"
   ]
  },
  {
   "cell_type": "code",
   "execution_count": 19,
   "metadata": {
    "scrolled": false
   },
   "outputs": [
    {
     "data": {
      "image/png": "[encoded data removed]",
      "text/plain": [
       "<Figure size 1296x576 with 2 Axes>"
      ]
     },
     "metadata": {
      "needs_background": "light"
     },
     "output_type": "display_data"
    }
   ],
   "source": [
    "plot_greentime_map(dfg)"
   ]
  },
  {
   "cell_type": "markdown",
   "metadata": {},
   "source": [
    "### Old Model, FRR = 1"
   ]
  },
  {
   "cell_type": "code",
   "execution_count": 20,
   "metadata": {
    "scrolled": true
   },
   "outputs": [
    {
     "name": "stdout",
     "output_type": "stream",
     "text": [
      "Solving...\n",
      "CPXPARAM_Read_DataCheck                          1\n",
      "Tried aggregator 3 times.\n",
      "MIP Presolve eliminated 4208 rows and 580 columns.\n",
      "MIP Presolve modified 568 coefficients.\n",
      "Aggregator did 770 substitutions.\n",
      "Reduced MIP has 2372 rows, 1470 columns, and 7308 nonzeros.\n",
      "Reduced MIP has 30 binaries, 0 generals, 0 SOSs, and 0 indicators.\n",
      "Presolve time = 0.02 sec. (17.70 ticks)\n",
      "Probing time = 0.00 sec. (0.14 ticks)\n",
      "Tried aggregator 1 time.\n",
      "MIP Presolve eliminated 1140 rows and 720 columns.\n",
      "Reduced MIP has 1232 rows, 750 columns, and 3990 nonzeros.\n",
      "Reduced MIP has 30 binaries, 0 generals, 0 SOSs, and 0 indicators.\n",
      "Presolve time = 0.01 sec. (5.28 ticks)\n",
      "Probing time = 0.00 sec. (0.09 ticks)\n",
      "MIP emphasis: balance optimality and feasibility.\n",
      "MIP search method: dynamic search.\n",
      "Parallel mode: deterministic, using up to 8 threads.\n",
      "Root relaxation solution time = 0.03 sec. (25.77 ticks)\n",
      "\n",
      "        Nodes                                         Cuts/\n",
      "   Node  Left     Objective  IInf  Best Integer    Best Bound    ItCnt     Gap\n",
      "\n",
      "*     0+    0                           65.4177      296.0002           352.48%\n",
      "      0     0       66.8354    20       65.4177       66.8354      841    2.17%\n",
      "*     0+    0                           66.8354       66.8354             0.00%\n",
      "      0     0        cutoff             66.8354       66.8354      841    0.00%\n",
      "Elapsed time = 0.13 sec. (58.04 ticks, tree = 0.01 MB, solutions = 2)\n",
      "\n",
      "Root node processing (before b&c):\n",
      "  Real time             =    0.13 sec. (58.16 ticks)\n",
      "Parallel b&c, 8 threads:\n",
      "  Real time             =    0.00 sec. (0.00 ticks)\n",
      "  Sync time (average)   =    0.00 sec.\n",
      "  Wait time (average)   =    0.00 sec.\n",
      "                          ------------\n",
      "Total (root+branch&cut) =    0.13 sec. (58.16 ticks)\n",
      "Done!\n",
      "Time elapsed: 0.185874938965\n"
     ]
    }
   ],
   "source": [
    "parameters['flow_rate_reduction'] = 1\n",
    "demand = 600\n",
    "\n",
    "dfx, dfy, dfg, _, obj_values, runtime = run_model(demand, new_model=False, log_output=True)"
   ]
  },
  {
   "cell_type": "code",
   "execution_count": 21,
   "metadata": {},
   "outputs": [
    {
     "name": "stdout",
     "output_type": "stream",
     "text": [
      "\n",
      "Runtime: 0.185874938965\n",
      "\n",
      "Delay: 1216.55696203\n",
      "\n",
      "Throughput: 66.835443038\n",
      "\n",
      "Objective Value: 66.835443038\n"
     ]
    }
   ],
   "source": [
    "print('''\n",
    "Runtime: {}\\n\n",
    "Delay: {}\\n\n",
    "Throughput: {}\\n\n",
    "Objective Value: {}'''.format(runtime, *obj_values))"
   ]
  },
  {
   "cell_type": "code",
   "execution_count": 22,
   "metadata": {
    "scrolled": false
   },
   "outputs": [
    {
     "data": {
      "image/png": "[encoded data removed]",
      "text/plain": [
       "<Figure size 1296x576 with 2 Axes>"
      ]
     },
     "metadata": {
      "needs_background": "light"
     },
     "output_type": "display_data"
    }
   ],
   "source": [
    "plot_greentime_map(dfg)"
   ]
  },
  {
   "cell_type": "markdown",
   "metadata": {},
   "source": [
    "### Old Model, FRR = 0.5"
   ]
  },
  {
   "cell_type": "code",
   "execution_count": 21,
   "metadata": {
    "scrolled": true
   },
   "outputs": [
    {
     "name": "stdout",
     "output_type": "stream",
     "text": [
      "Solving...\n",
      "CPXPARAM_Read_DataCheck                          1\n",
      "Tried aggregator 3 times.\n",
      "MIP Presolve eliminated 4208 rows and 580 columns.\n",
      "MIP Presolve modified 568 coefficients.\n",
      "Aggregator did 770 substitutions.\n",
      "Reduced MIP has 2372 rows, 1470 columns, and 7508 nonzeros.\n",
      "Reduced MIP has 30 binaries, 0 generals, 0 SOSs, and 0 indicators.\n",
      "Presolve time = 0.03 sec. (18.03 ticks)\n",
      "Probing time = 0.00 sec. (0.15 ticks)\n",
      "Tried aggregator 1 time.\n",
      "MIP Presolve eliminated 1140 rows and 720 columns.\n",
      "Reduced MIP has 1232 rows, 750 columns, and 4090 nonzeros.\n",
      "Reduced MIP has 30 binaries, 0 generals, 0 SOSs, and 0 indicators.\n",
      "Presolve time = 0.01 sec. (5.36 ticks)\n",
      "Probing time = 0.00 sec. (0.09 ticks)\n",
      "MIP emphasis: balance optimality and feasibility.\n",
      "MIP search method: dynamic search.\n",
      "Parallel mode: deterministic, using up to 8 threads.\n",
      "Root relaxation solution time = 0.03 sec. (28.20 ticks)\n",
      "\n",
      "        Nodes                                         Cuts/\n",
      "   Node  Left     Objective  IInf  Best Integer    Best Bound    ItCnt     Gap\n",
      "\n",
      "*     0+    0                           65.4177      296.0002           352.48%\n",
      "      0     0       66.8354    19       65.4177       66.8354      825    2.17%\n",
      "*     0+    0                           66.8354       66.8354             0.00%\n",
      "      0     0        cutoff             66.8354       66.8354      825    0.00%\n",
      "Elapsed time = 0.15 sec. (61.26 ticks, tree = 0.01 MB, solutions = 2)\n",
      "\n",
      "Root node processing (before b&c):\n",
      "  Real time             =    0.15 sec. (61.41 ticks)\n",
      "Parallel b&c, 8 threads:\n",
      "  Real time             =    0.00 sec. (0.00 ticks)\n",
      "  Sync time (average)   =    0.00 sec.\n",
      "  Wait time (average)   =    0.00 sec.\n",
      "                          ------------\n",
      "Total (root+branch&cut) =    0.15 sec. (61.41 ticks)\n",
      "Done!\n",
      "Time elapsed: 0.202221155167\n"
     ]
    }
   ],
   "source": [
    "parameters['flow_rate_reduction'] = 0.5\n",
    "demand = 600\n",
    "\n",
    "dfx, dfy, dfg, _, obj_values, runtime = run_model(demand, new_model=False, log_output=True)"
   ]
  },
  {
   "cell_type": "code",
   "execution_count": 22,
   "metadata": {},
   "outputs": [
    {
     "name": "stdout",
     "output_type": "stream",
     "text": [
      "\n",
      "Runtime: 0.202221155167\n",
      "\n",
      "Delay: 1200.97468354\n",
      "\n",
      "Throughput: 66.835443038\n",
      "\n",
      "Objective Value: 66.835443038\n"
     ]
    }
   ],
   "source": [
    "print('''\n",
    "Runtime: {}\\n\n",
    "Delay: {}\\n\n",
    "Throughput: {}\\n\n",
    "Objective Value: {}'''.format(runtime, *obj_values))"
   ]
  },
  {
   "cell_type": "code",
   "execution_count": 31,
   "metadata": {
    "scrolled": false
   },
   "outputs": [
    {
     "ename": "TypeError",
     "evalue": "plot_greentime_map() got an unexpected keyword argument 'new_model'",
     "output_type": "error",
     "traceback": [
      "\u001b[0;31m---------------------------------------------------------------------------\u001b[0m",
      "\u001b[0;31mTypeError\u001b[0m                                 Traceback (most recent call last)",
      "\u001b[0;32m<ipython-input-31-1010267b3c81>\u001b[0m in \u001b[0;36m<module>\u001b[0;34m()\u001b[0m\n\u001b[0;32m----> 1\u001b[0;31m \u001b[0mplot_greentime_map\u001b[0m\u001b[0;34m(\u001b[0m\u001b[0mdfg\u001b[0m\u001b[0;34m,\u001b[0m \u001b[0mnew_model\u001b[0m\u001b[0;34m=\u001b[0m\u001b[0mFalse\u001b[0m\u001b[0;34m)\u001b[0m\u001b[0;34m\u001b[0m\u001b[0m\n\u001b[0m",
      "\u001b[0;31mTypeError\u001b[0m: plot_greentime_map() got an unexpected keyword argument 'new_model'"
     ]
    }
   ],
   "source": [
    "plot_greentime_map(dfg, new_model=False)"
   ]
  },
  {
   "cell_type": "markdown",
   "metadata": {},
   "source": [
    "### Notes\n",
    "\n",
    "* With the flow rate reduction set to 1, the flow rate at the first green timestep is reduced to 0. This allows the solver to force a greentime limit of at least 1, and avoid scenarios like the last 2 seconds of the case where the FRR = 0.5"
   ]
  },
  {
   "cell_type": "markdown",
   "metadata": {},
   "source": [
    "## 2. Testing effect of time range on Old and New models"
   ]
  },
  {
   "cell_type": "markdown",
   "metadata": {},
   "source": [
    "### New Model, Time range = 45 steps, 1.5 minutes"
   ]
  },
  {
   "cell_type": "code",
   "execution_count": 28,
   "metadata": {
    "scrolled": true
   },
   "outputs": [
    {
     "name": "stdout",
     "output_type": "stream",
     "text": [
      "Solving...\n",
      "CPXPARAM_Read_DataCheck                          1\n",
      "Tried aggregator 2 times.\n",
      "MIP Presolve eliminated 4522 rows and 352 columns.\n",
      "MIP Presolve modified 1146 coefficients.\n",
      "Aggregator did 157 substitutions.\n",
      "Reduced MIP has 5588 rows, 3001 columns, and 18462 nonzeros.\n",
      "Reduced MIP has 405 binaries, 0 generals, 0 SOSs, and 0 indicators.\n",
      "Presolve time = 0.02 sec. (20.12 ticks)\n",
      "Found incumbent of value 1356.223176 after 0.04 sec. (37.49 ticks)\n",
      "Probing fixed 0 vars, tightened 164 bounds.\n",
      "Probing time = 0.00 sec. (0.89 ticks)\n",
      "Tried aggregator 2 times.\n",
      "MIP Presolve eliminated 964 rows and 164 columns.\n",
      "Aggregator did 148 substitutions.\n",
      "Reduced MIP has 4476 rows, 2689 columns, and 16062 nonzeros.\n",
      "Reduced MIP has 405 binaries, 0 generals, 0 SOSs, and 0 indicators.\n",
      "Presolve time = 0.01 sec. (9.73 ticks)\n",
      "Probing time = 0.00 sec. (0.65 ticks)\n",
      "Tried aggregator 1 time.\n",
      "MIP Presolve modified 8 coefficients.\n",
      "Reduced MIP has 4476 rows, 2689 columns, and 16062 nonzeros.\n",
      "Reduced MIP has 405 binaries, 0 generals, 0 SOSs, and 0 indicators.\n",
      "Presolve time = 0.02 sec. (11.12 ticks)\n",
      "Probing time = 0.00 sec. (0.64 ticks)\n",
      "Clique table members: 810.\n",
      "MIP emphasis: balance optimality and feasibility.\n",
      "MIP search method: dynamic search.\n",
      "Parallel mode: deterministic, using up to 8 threads.\n",
      "Root relaxation solution time = 0.21 sec. (219.22 ticks)\n",
      "\n",
      "        Nodes                                         Cuts/\n",
      "   Node  Left     Objective  IInf  Best Integer    Best Bound    ItCnt     Gap\n",
      "\n",
      "*     0+    0                         1356.2232    -2741.0889           302.11%\n",
      "      0     0      166.6798   223     1356.2232      166.6798        0   87.71%\n",
      "*     0+    0                          320.6340      166.6798            48.02%\n",
      "*     0+    0                          319.5726      166.6798            47.84%\n",
      "      0     0      172.1724   236      319.5726      Cuts: 56      140   45.00%\n",
      "      0     0      179.0172   234      319.5726      Cuts: 95      377   43.98%\n",
      "      0     0      179.0475   219      319.5726     Cuts: 121      412   43.97%\n",
      "      0     0      179.0533   213      319.5726     Cuts: 113      445   43.97%\n",
      "      0     0      179.0643   213      319.5726      Cuts: 11      457   43.97%\n",
      "      0     0      179.1448   213      319.5726    Cliques: 3      498   43.94%\n",
      "*     0+    0                          317.8225      179.1448            43.63%\n",
      "*     0+    0                          264.3492      179.1448            32.23%\n",
      "      0     2      179.1448   213      264.3492      184.5959      498   30.17%\n",
      "Elapsed time = 1.60 sec. (1207.99 ticks, tree = 0.01 MB, solutions = 5)\n",
      "     20    18      219.9343   172      264.3492      184.5959     2994   30.17%\n",
      "     82    66      250.6703    99      264.3492      184.5959    11762   30.17%\n",
      "*   110+   88                          261.3906      184.5959            29.38%\n",
      "*   139   107      integral     0      260.6193      184.5959    14087   29.17%\n",
      "*   143   110      integral     0      258.6537      184.5959    14469   28.63%\n",
      "*   189+   86                          252.3459      188.6062            25.26%\n",
      "*   227+  143                          249.5766      188.6062            24.43%\n",
      "    258   160      238.5448    85      249.5766      188.6062    21377   24.43%\n",
      "    367   236        cutoff            249.5766      188.6062    28180   24.43%\n",
      "    492   332      243.5629    91      249.5766      192.9387    37027   22.69%\n",
      "    621   391      226.0745   144      249.5766      194.0504    41319   22.25%\n",
      "    741   485      231.7993   173      249.5766      197.5224    48214   20.86%\n",
      "   1239   828      245.0656   124      249.5766      208.5668    73351   16.43%\n",
      "Elapsed time = 5.68 sec. (3917.33 ticks, tree = 21.58 MB, solutions = 13)\n",
      "   1892  1258      239.9554   150      249.5766      212.2147   104202   14.97%\n",
      "   2530  1698      218.7610   158      249.5766      215.4108   140425   13.69%\n",
      "   3130  2099      247.8535   136      249.5766      217.2129   176046   12.97%\n",
      "   3400  2374      194.9525   220      249.5766      218.2543   204254   12.55%\n",
      "   3413   873      218.7861   158      249.5766      218.2543   207129   12.55%\n",
      "   3675   194      234.2184   155      249.5766      218.2543   238150   12.55%\n",
      "   4141   490      238.3984   144      249.5766      218.2543   277294   12.55%\n",
      "   4445   718      249.1942    71      249.5766      218.2543   318504   12.55%\n",
      "   4880   996      229.6078   171      249.5766      218.2543   369249   12.55%\n",
      "   5217  1214      216.7236   148      249.5766      218.2543   406690   12.55%\n",
      "Elapsed time = 24.16 sec. (16091.77 ticks, tree = 2.47 MB, solutions = 13)\n",
      "   5630  1597      244.2592   133      249.5766      218.2543   470697   12.55%\n",
      "   6064  1773      227.0270   143      249.5766      218.2543   508142   12.55%\n",
      "   6426  2062      249.2716   163      249.5766      218.2543   569426   12.55%\n",
      "   6919  2384      226.6398   170      249.5766      218.8653   628012   12.31%\n",
      "   7314  2645        cutoff            249.5766      219.7523   679361   11.95%\n",
      "   7872  3045      248.7707   126      249.5766      220.7370   746012   11.56%\n",
      "   8371  3329      248.3933   152      249.5766      222.0818   795926   11.02%\n",
      "   8779  3526      245.5252   131      249.5766      222.4439   833534   10.87%\n",
      "   9288  3776      239.6506   152      249.5766      223.1063   879850   10.61%\n",
      "   9804  4228        cutoff            249.5766      223.6294   967093   10.40%\n",
      "Elapsed time = 41.60 sec. (25640.02 ticks, tree = 8.33 MB, solutions = 13)\n",
      "  10226  4451      232.9990   148      249.5766      224.1114  1009839   10.20%\n",
      "  10725  4805      241.8937   186      249.5766      224.5290  1078440   10.04%\n",
      "  11208  5120      235.4158   175      249.5766      225.0647  1141949    9.82%\n",
      "  11672  5439      236.6018   169      249.5766      225.5629  1209125    9.62%\n",
      "  12205  5598        cutoff            249.5766      225.9590  1237393    9.46%\n",
      "  12743  6041      248.8586   147      249.5766      226.3730  1321959    9.30%\n",
      "  13315  6326        cutoff            249.5766      226.7447  1375215    9.15%\n",
      "  13802  6691      248.1729   122      249.5766      227.1305  1429648    8.99%\n",
      "  14405  7056      245.2827   101      249.5766      227.5703  1467931    8.82%\n",
      "* 14645+ 6992                          249.5341      227.6287             8.78%\n",
      "  15017  7241      236.3436   167      249.5341      227.8132  1487294    8.70%\n",
      "Elapsed time = 58.43 sec. (35198.18 ticks, tree = 34.82 MB, solutions = 14)\n",
      "  15673  7738      240.6434   146      249.5341      228.2008  1536068    8.55%\n",
      "  16287  8060      247.8587   126      249.5341      228.6792  1560295    8.36%\n",
      "  16930  8392        cutoff            249.5341      228.8898  1595871    8.27%\n",
      "  17459  8874      238.9072   146      249.5341      229.3187  1641437    8.10%\n",
      "  18062  9047      248.7628   118      249.5341      229.5672  1658632    8.00%\n",
      "  18705  9418      238.3610   161      249.5341      229.9133  1700786    7.86%\n",
      "  19360  9694      248.7013    81      249.5341      230.1360  1727989    7.77%\n",
      "  19913  9945      237.6434   135      249.5341      230.3652  1753197    7.68%\n",
      "  20558 10458      244.4484   140      249.5341      230.6381  1809605    7.57%\n",
      "  21258 10792      247.9783   164      249.5341      230.9091  1844622    7.46%\n",
      "Elapsed time = 75.02 sec. (44756.62 ticks, tree = 151.11 MB, solutions = 14)\n",
      "  21860 11027      247.8129   118      249.5341      231.1374  1864273    7.37%\n",
      "  22445 11490      246.3978   115      249.5341      231.4322  1912292    7.25%\n",
      "  23159 11772      237.6745   141      249.5341      231.6423  1939694    7.17%\n",
      "  23803 12042      245.2023   180      249.5341      231.8529  1964923    7.09%\n",
      "  24384 12414      248.1523   138      249.5341      231.9817  1998469    7.03%\n",
      "  25068 12929      248.7145    83      249.5341      232.1917  2062924    6.95%\n",
      "  25847 13333      239.9586   120      249.5341      232.4165  2097705    6.86%\n",
      "  26533 13418      248.6406   137      249.5341      232.5731  2106322    6.80%\n",
      "  27120 13772      245.0131   155      249.5341      232.7788  2144155    6.71%\n",
      "  27807 14237        cutoff            249.5341      232.9679  2198617    6.64%\n",
      "Elapsed time = 91.60 sec. (54305.28 ticks, tree = 250.46 MB, solutions = 14)\n"
     ]
    },
    {
     "name": "stdout",
     "output_type": "stream",
     "text": [
      "  28603 14357        cutoff            249.5341      233.1723  2209766    6.56%\n",
      "* 28852 14793      integral     0      248.4860      233.2168  2247442    6.14%\n",
      "  29452 14133      243.6436    96      248.4860      233.3812  2263782    6.08%\n",
      "  29810 14361      244.3022    62      248.4860      233.4454  2303341    6.05%\n",
      "  29996 14414      246.3067   170      248.4860      233.4678  2310910    6.04%\n",
      "  30578 14563      247.8665   137      248.4860      233.7376  2333695    5.94%\n",
      "  31271 14867        cutoff            248.4860      233.9141  2364793    5.86%\n",
      "  31822 15105      245.2187   166      248.4860      233.9832  2390992    5.84%\n",
      "  32409 15506      242.5894    95      248.4860      234.0978  2453546    5.79%\n",
      "  33099 15676        cutoff            248.4860      234.2040  2473987    5.75%\n",
      "Elapsed time = 108.70 sec. (63247.21 ticks, tree = 310.54 MB, solutions = 15)\n",
      "  33892 15885      242.2310   135      248.4860      234.3956  2496824    5.67%\n",
      "  34604 16121      248.1719   128      248.4860      234.5584  2518805    5.60%\n",
      "  35290 16558      240.0722   139      248.4860      234.6967  2572259    5.55%\n",
      "  35918 16640      240.1663   180      248.4860      234.8428  2583617    5.49%\n",
      "* 36161 16961      integral     0      247.9863      234.9051  2627534    5.27%\n",
      "  36559 16625      243.0445   165      247.9863      235.0696  2672028    5.21%\n",
      "  36944 16703      244.4690   119      247.9863      235.1458  2680247    5.18%\n",
      "  37293 16848      238.9862   170      247.9863      235.2454  2699014    5.14%\n",
      "  37656 16861      243.7519   109      247.9863      235.2935  2702787    5.12%\n",
      "  38210 16999        cutoff            247.9863      235.4482  2718784    5.06%\n",
      "Elapsed time = 126.79 sec. (72197.13 ticks, tree = 371.64 MB, solutions = 16)\n",
      "  38862 17470        cutoff            247.9863      235.5239  2788664    5.03%\n",
      "  39606 17595      247.9497   117      247.9863      235.5689  2804563    5.01%\n",
      "  40422 17959      243.9694   154      247.9863      235.6539  2851154    4.97%\n",
      "  41204 17995      247.5312    90      247.9863      235.7734  2856556    4.92%\n",
      "  41919 18055      244.4635   104      247.9863      235.8173  2865327    4.91%\n",
      "* 42257 18433      integral     0      247.9044      235.9797  2902130    4.81%\n",
      "* 42266 18688      integral     0      247.7883      236.0094  2958979    4.75%\n",
      "  42858 18572        cutoff            247.7883      236.0295  2967873    4.75%\n",
      "  43308 18585      243.5279   147      247.7883      236.1844  2972057    4.68%\n",
      "  44000 18939      244.3777   139      247.7883      236.3637  3027677    4.61%\n",
      "Elapsed time = 142.68 sec. (80394.59 ticks, tree = 427.02 MB, solutions = 18)\n",
      "  44777 19100        cutoff            247.7883      236.4948  3051288    4.56%\n",
      "  45492 19207      245.3155   108      247.7883      236.6507  3064638    4.49%\n",
      "* 45765 19264      integral     0      247.2897      236.6675  3071118    4.30%\n",
      "  46423 19521      243.9378   113      247.2897      236.7871  3109462    4.25%\n",
      "  46954 18958      239.7768   150      247.2897      236.8916  3176497    4.20%\n",
      "  47591 18982      244.4056   117      247.2897      236.9683  3178623    4.17%\n",
      "  48271 19281      245.7311   151      247.2897      237.0302  3232367    4.15%\n",
      "  49010 19552      240.9808   150      247.2897      237.1783  3268639    4.09%\n",
      "* 49607 19764      integral     0      247.1902      237.2749  3299216    4.01%\n",
      "  51942 20114      247.0710   122      247.1902      237.6335  3413234    3.87%\n",
      "Elapsed time = 165.32 sec. (92048.00 ticks, tree = 466.22 MB, solutions = 20)\n",
      "  54888 20916      246.5337   122      247.1902      238.0138  3562423    3.71%\n",
      "  57741 21315      246.8119   122      247.1902      238.4384  3681583    3.54%\n",
      "  60653 21900      246.3059   119      247.1902      238.7627  3799432    3.41%\n",
      "  63490 22473      242.7003   156      247.1902      239.1226  3955578    3.26%\n",
      "  66492 23013      246.2675   103      247.1902      239.4866  4118546    3.12%\n",
      "  69410 23460        cutoff            247.1902      239.8044  4254211    2.99%\n",
      "  72336 23778      241.1017    89      247.1902      240.1247  4374622    2.86%\n",
      "  75336 24091        cutoff            247.1902      240.3893  4524619    2.75%\n",
      "  78150 24284      245.9067    97      247.1902      240.7051  4668236    2.62%\n",
      "  81175 24489        cutoff            247.1902      240.9811  4791611    2.51%\n",
      "Elapsed time = 241.34 sec. (130204.51 ticks, tree = 586.24 MB, solutions = 20)\n",
      "  84096 24565      245.4554   140      247.1902      241.2167  4939136    2.42%\n",
      "  87075 24598      244.1832   134      247.1902      241.5015  5052602    2.30%\n",
      "  90066 24660      246.8445   107      247.1902      241.7108  5190512    2.22%\n",
      "  92954 24545        cutoff            247.1902      241.9637  5341983    2.11%\n",
      "  95991 24301      246.6470    93      247.1902      242.2035  5475688    2.02%\n",
      "  98985 24075        cutoff            247.1902      242.4348  5599204    1.92%\n",
      " 101893 23622      246.8285   113      247.1902      242.6597  5743326    1.83%\n",
      " 104862 23206        cutoff            247.1902      242.8781  5869502    1.74%\n",
      " 107868 22462      247.1588    94      247.1902      243.1115  6037674    1.65%\n",
      " 110874 21853      246.1217   106      247.1902      243.3201  6153694    1.57%\n",
      "Elapsed time = 318.22 sec. (168365.71 ticks, tree = 507.31 MB, solutions = 20)\n",
      " 114154 21035        cutoff            247.1902      243.5702  6272136    1.46%\n",
      " 117218 20039      244.9023   104      247.1902      243.8141  6397153    1.37%\n",
      " 120505 18735      246.0146    92      247.1902      244.0910  6556055    1.25%\n",
      " 123795 17608      246.4910   133      247.1902      244.3585  6655645    1.15%\n",
      "*126999 16074      integral     0      247.0740      244.6754  6797526    0.97%\n",
      " 130168 13854        cutoff            247.0740      244.9829  6910648    0.85%\n",
      " 134850 10493      246.1146   115      247.0740      245.4662  7072211    0.65%\n",
      " 140534  5827        cutoff            247.0740      246.1288  7214918    0.38%\n",
      "\n",
      "GUB cover cuts applied:  15\n",
      "Clique cuts applied:  56\n",
      "Cover cuts applied:  378\n",
      "Implied bound cuts applied:  13\n",
      "Flow cuts applied:  10\n",
      "Mixed integer rounding cuts applied:  30\n",
      "Zero-half cuts applied:  16\n",
      "Lift and project cuts applied:  4\n",
      "Gomory fractional cuts applied:  49\n",
      "\n",
      "Root node processing (before b&c):\n",
      "  Real time             =    1.60 sec. (1204.51 ticks)\n",
      "Parallel b&c, 8 threads:\n",
      "  Real time             =  388.00 sec. (200042.42 ticks)\n",
      "  Sync time (average)   =   34.50 sec.\n",
      "  Wait time (average)   =    0.13 sec.\n",
      "                          ------------\n",
      "Total (root+branch&cut) =  389.60 sec. (201246.92 ticks)\n",
      "Done!\n",
      "Time elapsed: 389.654031992\n"
     ]
    }
   ],
   "source": [
    "time_range = 45\n",
    "time_ticks = np.arange(0, time_range+1, 1)\n",
    "parameters['time_range'] = time_range\n",
    "parameters['flow_rate_reduction'] = 1\n",
    "\n",
    "dfx, dfy, dfg, _, obj_values, runtime = run_model(demand, weights=(0.4, 0.4, 0.2), new_model=True, log_output=True)"
   ]
  },
  {
   "cell_type": "code",
   "execution_count": 29,
   "metadata": {},
   "outputs": [
    {
     "name": "stdout",
     "output_type": "stream",
     "text": [
      "\n",
      "Runtime: 389.654031992\n",
      "\n",
      "Delay: 3039.07172996\n",
      "\n",
      "Throughput: 66.835443038\n",
      "\n",
      "Objective Value: 247.074043367\n"
     ]
    }
   ],
   "source": [
    "print('''\n",
    "Runtime: {}\\n\n",
    "Delay: {}\\n\n",
    "Throughput: {}\\n\n",
    "Objective Value: {}'''.format(runtime, *obj_values))"
   ]
  },
  {
   "cell_type": "code",
   "execution_count": 30,
   "metadata": {
    "scrolled": false
   },
   "outputs": [
    {
     "data": {
      "image/png": "[encoded data removed]",
      "text/plain": [
       "<Figure size 1296x576 with 2 Axes>"
      ]
     },
     "metadata": {
      "needs_background": "light"
     },
     "output_type": "display_data"
    }
   ],
   "source": [
    "plot_greentime_map(dfg)"
   ]
  },
  {
   "cell_type": "markdown",
   "metadata": {},
   "source": [
    "### Old Model, Time range = 45 steps, 1.5 minutes"
   ]
  },
  {
   "cell_type": "code",
   "execution_count": 33,
   "metadata": {
    "scrolled": true
   },
   "outputs": [
    {
     "name": "stdout",
     "output_type": "stream",
     "text": [
      "Solving...\n",
      "CPXPARAM_Read_DataCheck                          1\n",
      "Tried aggregator 3 times.\n",
      "MIP Presolve eliminated 6158 rows and 760 columns.\n",
      "MIP Presolve modified 868 coefficients.\n",
      "Aggregator did 1145 substitutions.\n",
      "Reduced MIP has 3812 rows, 2325 columns, and 11688 nonzeros.\n",
      "Reduced MIP has 45 binaries, 0 generals, 0 SOSs, and 0 indicators.\n",
      "Presolve time = 0.04 sec. (28.03 ticks)\n",
      "Probing time = 0.00 sec. (0.18 ticks)\n",
      "Tried aggregator 1 time.\n",
      "MIP Presolve eliminated 1830 rows and 1140 columns.\n",
      "Reduced MIP has 1982 rows, 1185 columns, and 6420 nonzeros.\n",
      "Reduced MIP has 45 binaries, 0 generals, 0 SOSs, and 0 indicators.\n",
      "Presolve time = 0.02 sec. (8.39 ticks)\n",
      "Probing time = 0.00 sec. (0.14 ticks)\n",
      "MIP emphasis: balance optimality and feasibility.\n",
      "MIP search method: dynamic search.\n",
      "Parallel mode: deterministic, using up to 8 threads.\n",
      "Root relaxation solution time = 0.07 sec. (59.18 ticks)\n",
      "\n",
      "        Nodes                                         Cuts/\n",
      "   Node  Left     Objective  IInf  Best Integer    Best Bound    ItCnt     Gap\n",
      "\n",
      "*     0+    0                           66.8354      476.0002           612.20%\n",
      "      0     0        cutoff             66.8354       66.8354     1336    0.00%\n",
      "      0     0        cutoff             66.8354       66.8354     1336    0.00%\n",
      "Elapsed time = 0.16 sec. (104.03 ticks, tree = 0.01 MB, solutions = 1)\n",
      "\n",
      "Root node processing (before b&c):\n",
      "  Real time             =    0.17 sec. (104.18 ticks)\n",
      "Parallel b&c, 8 threads:\n",
      "  Real time             =    0.00 sec. (0.00 ticks)\n",
      "  Sync time (average)   =    0.00 sec.\n",
      "  Wait time (average)   =    0.00 sec.\n",
      "                          ------------\n",
      "Total (root+branch&cut) =    0.17 sec. (104.18 ticks)\n",
      "Done!\n",
      "Time elapsed: 0.248247146606\n"
     ]
    }
   ],
   "source": [
    "time_range = 45\n",
    "time_ticks = np.arange(0, time_range+1, 1)\n",
    "parameters['time_range'] = time_range\n",
    "parameters['flow_rate_reduction'] = 1\n",
    "\n",
    "dfx, dfy, dfg, _, obj_values, runtime = run_model(demand, new_model=False, log_output=True)"
   ]
  },
  {
   "cell_type": "code",
   "execution_count": 34,
   "metadata": {},
   "outputs": [
    {
     "name": "stdout",
     "output_type": "stream",
     "text": [
      "\n",
      "Runtime: 0.248247146606\n",
      "\n",
      "Delay: 3826.32911392\n",
      "\n",
      "Throughput: 66.835443038\n",
      "\n",
      "Objective Value: 66.835443038\n"
     ]
    }
   ],
   "source": [
    "print('''\n",
    "Runtime: {}\\n\n",
    "Delay: {}\\n\n",
    "Throughput: {}\\n\n",
    "Objective Value: {}'''.format(runtime, *obj_values))"
   ]
  },
  {
   "cell_type": "code",
   "execution_count": 37,
   "metadata": {
    "scrolled": false
   },
   "outputs": [
    {
     "data": {
      "image/png": "[encoded data removed]",
      "text/plain": [
       "<Figure size 1296x576 with 2 Axes>"
      ]
     },
     "metadata": {
      "needs_background": "light"
     },
     "output_type": "display_data"
    }
   ],
   "source": [
    "plot_greentime_map(dfg, new_model=False)"
   ]
  },
  {
   "cell_type": "markdown",
   "metadata": {},
   "source": [
    "## 3. Testing effect of varying greentime limits on New and Old models"
   ]
  },
  {
   "cell_type": "code",
   "execution_count": 40,
   "metadata": {},
   "outputs": [],
   "source": [
    "time_range = 45\n",
    "time_ticks = np.arange(0, time_range+1, 1)\n",
    "parameters['time_range'] = time_range\n",
    "parameters['flow_rate_reduction'] = 1\n",
    "demand = 600"
   ]
  },
  {
   "cell_type": "markdown",
   "metadata": {},
   "source": [
    "### 15-50 seconds, New Model"
   ]
  },
  {
   "cell_type": "code",
   "execution_count": 39,
   "metadata": {},
   "outputs": [],
   "source": [
    "parameters['g_min'] = 15\n",
    "parameters['g_max'] = 50"
   ]
  },
  {
   "cell_type": "code",
   "execution_count": 41,
   "metadata": {
    "scrolled": true
   },
   "outputs": [
    {
     "name": "stdout",
     "output_type": "stream",
     "text": [
      "Solving...\n",
      "CPXPARAM_Read_DataCheck                          1\n",
      "Tried aggregator 2 times.\n",
      "MIP Presolve eliminated 4522 rows and 352 columns.\n",
      "MIP Presolve modified 1114 coefficients.\n",
      "Aggregator did 157 substitutions.\n",
      "Reduced MIP has 5436 rows, 3001 columns, and 20390 nonzeros.\n",
      "Reduced MIP has 405 binaries, 0 generals, 0 SOSs, and 0 indicators.\n",
      "Presolve time = 0.02 sec. (22.70 ticks)\n",
      "Found incumbent of value 1356.223176 after 0.05 sec. (41.34 ticks)\n",
      "Probing fixed 0 vars, tightened 164 bounds.\n",
      "Probing time = 0.01 sec. (0.99 ticks)\n",
      "Tried aggregator 2 times.\n",
      "MIP Presolve eliminated 964 rows and 164 columns.\n",
      "Aggregator did 148 substitutions.\n",
      "Reduced MIP has 4324 rows, 2689 columns, and 17990 nonzeros.\n",
      "Reduced MIP has 405 binaries, 0 generals, 0 SOSs, and 0 indicators.\n",
      "Presolve time = 0.02 sec. (10.56 ticks)\n",
      "Probing time = 0.00 sec. (0.75 ticks)\n",
      "Tried aggregator 1 time.\n",
      "MIP Presolve modified 8 coefficients.\n",
      "Reduced MIP has 4324 rows, 2689 columns, and 17990 nonzeros.\n",
      "Reduced MIP has 405 binaries, 0 generals, 0 SOSs, and 0 indicators.\n",
      "Presolve time = 0.02 sec. (11.76 ticks)\n",
      "Probing time = 0.00 sec. (0.74 ticks)\n",
      "Clique table members: 810.\n",
      "MIP emphasis: balance optimality and feasibility.\n",
      "MIP search method: dynamic search.\n",
      "Parallel mode: deterministic, using up to 8 threads.\n",
      "Root relaxation solution time = 0.28 sec. (221.16 ticks)\n",
      "\n",
      "        Nodes                                         Cuts/\n",
      "   Node  Left     Objective  IInf  Best Integer    Best Bound    ItCnt     Gap\n",
      "\n",
      "*     0+    0                         1356.2232    -2741.0889           302.11%\n",
      "      0     0      166.6798   233     1356.2232      166.6798        0   87.71%\n",
      "*     0+    0                          328.0277      166.6798            49.19%\n",
      "      0     0      174.2691   249      328.0277      Cuts: 62      273   46.87%\n",
      "*     0+    0                          311.2797      174.2691            44.02%\n",
      "      0     0      181.1045   258      311.2797     Cuts: 198      657   41.82%\n",
      "      0     0      181.7218   228      311.2797     Cuts: 182      907   41.62%\n",
      "*     0+    0                          308.2349      181.7218            41.04%\n",
      "      0     0      182.4141   258      308.2349      Cuts: 69     1039   40.82%\n",
      "      0     0      182.5023   275      308.2349      Cuts: 75     1196   40.79%\n",
      "      0     0      182.5085   257      308.2349     Cuts: 100     1283   40.79%\n",
      "      0     0      185.1341   261      308.2349      Cuts: 65     1509   39.94%\n",
      "*     0+    0                          287.7968      185.1341            35.67%\n",
      "      0     0      185.4775   225      287.7968     Cuts: 114     1781   35.55%\n",
      "      0     0      185.5186   234      287.7968      Cuts: 67     1829   35.54%\n",
      "      0     0      185.5186   239      287.7968       Cuts: 9     1836   35.54%\n",
      "*     0+    0                          284.3682      185.5186            34.76%\n",
      "      0     0      188.4315   262      284.3682      Cuts: 17     2839   30.00%\n",
      "      0     0      189.7198   253      284.3682     Cuts: 148     3275   30.00%\n",
      "      0     0      190.5142   293      284.3682     Cuts: 159     3453   30.00%\n",
      "*     0+    0                          282.4330      199.0467            29.52%\n",
      "      0     2      190.5142   270      282.4330      203.1502     3453   28.07%\n",
      "Elapsed time = 3.66 sec. (2646.16 ticks, tree = 0.01 MB, solutions = 7)\n",
      "     13     9      225.4200   179      282.4330      203.1502     7043   28.07%\n",
      "     79    51      221.3534   188      282.4330      203.1502    19565   28.07%\n",
      "    141    92      259.5626   105      282.4330      203.1502    35451   28.07%\n",
      "    193   125        cutoff            282.4330      203.1502    48862   28.07%\n",
      "    265   159      264.3801    49      282.4330      208.9401    61356   26.02%\n",
      "    364   203      263.8748   102      282.4330      210.6012    71905   25.43%\n",
      "    456   265      264.5747   135      282.4330      215.6958    81220   23.63%\n",
      "    544   322      278.8568    97      282.4330      223.4670    96637   20.88%\n",
      "    661   373      265.8485   127      282.4330      225.5599   105087   20.14%\n",
      "    858   495      278.8499   174      282.4330      230.8832   129589   18.25%\n",
      "Elapsed time = 8.52 sec. (5773.23 ticks, tree = 9.51 MB, solutions = 7)\n",
      "   1221   620      279.8143    95      282.4330      237.2864   161140   15.98%\n",
      "   1599   787        cutoff            282.4330      242.8729   212136   14.01%\n",
      "   2016   930      282.1386   121      282.4330      247.2664   252426   12.45%\n",
      "   2359  1081      275.5232   113      282.4330      251.1270   298019   11.08%\n",
      "   2668  1203      265.0759    88      282.4330      253.5371   355370   10.23%\n",
      "   2920  1273      280.0627    81      282.4330      255.6642   391174    9.48%\n",
      "   3207  1358        cutoff            282.4330      257.3914   453287    8.87%\n",
      "*  3427  1420      integral     0      280.6106      258.6139   491629    7.84%\n",
      "   3702  1378      278.2041   106      280.6106      259.7055   525998    7.45%\n",
      "   3944  1408        cutoff            280.6106      260.7499   572083    7.08%\n",
      "Elapsed time = 22.62 sec. (15183.80 ticks, tree = 30.27 MB, solutions = 8)\n",
      "   4148  1450      276.5774   153      280.6106      261.3753   620486    6.85%\n",
      "   4342  1470      267.4930    69      280.6106      262.3720   662874    6.50%\n",
      "   4591  1489      269.8706   117      280.6106      263.4527   708725    6.11%\n",
      "*  4633  1493      integral     0      280.5629      263.4527   717069    6.10%\n",
      "   4872  1508      278.5066   182      280.5629      263.9792   748560    5.91%\n",
      "   4903  1503      194.6523   282      280.5629      264.5738   793471    5.70%\n",
      "   4913   708      247.5258   136      280.5629      264.5738   797139    5.70%\n",
      "   5025    80      277.9237   133      280.5629      264.5738   837744    5.70%\n",
      "   5169   170      264.5632   155      280.5629      264.5738   880189    5.70%\n",
      "   5292   224      225.2604   224      280.5629      264.5738   919315    5.70%\n",
      "Elapsed time = 40.31 sec. (26795.75 ticks, tree = 0.46 MB, solutions = 9)\n",
      "   5463   292      219.4204   175      280.5629      264.5738   968310    5.70%\n",
      "   5653   368        cutoff            280.5629      264.5738  1026064    5.70%\n",
      "   5813   444      254.3210   116      280.5629      264.5738  1092665    5.70%\n",
      "   5987   548      279.1106   144      280.5629      264.5738  1167492    5.70%\n",
      "   6164   590      271.2164   115      280.5629      264.5738  1214767    5.70%\n",
      "   6321   643      280.4130   123      280.5629      264.5738  1252318    5.70%\n",
      "   6534   712      279.3113   176      280.5629      264.5738  1316113    5.70%\n",
      "   6707   839      278.7149   113      280.5629      264.5738  1414514    5.70%\n",
      "   6903   906      274.7071   101      280.5629      264.5738  1479890    5.70%\n",
      "   7108   978      273.5857   145      280.5629      264.5738  1540663    5.70%\n",
      "Elapsed time = 58.10 sec. (36460.02 ticks, tree = 1.36 MB, solutions = 9)\n",
      "   7297  1056      260.1693   138      280.5629      264.5738  1585268    5.70%\n",
      "   7530  1129      264.7824   150      280.5629      264.5738  1650605    5.70%\n",
      "   7724  1192        cutoff            280.5629      264.5738  1692713    5.70%\n",
      "   7940  1288        cutoff            280.5629      264.5738  1778631    5.70%\n",
      "   8152  1361      261.0686   180      280.5629      264.5738  1853917    5.70%\n",
      "   8342  1414      256.1910   131      280.5629      264.5738  1915745    5.70%\n",
      "   8568  1488      262.8803   130      280.5629      264.5738  1980775    5.70%\n",
      "   8801  1541      280.2295   116      280.5629      264.5738  2042134    5.70%\n",
      "   9034  1587      282.8330    95      280.5629      264.5738  2089036    5.70%\n",
      "   9221  1658      272.3142   158      280.5629      264.5738  2135654    5.70%\n",
      "Elapsed time = 75.92 sec. (46053.30 ticks, tree = 7.66 MB, solutions = 9)\n",
      "   9442  1668      275.5084    99      280.5629      264.5738  2155688    5.70%\n",
      "   9697  1692      277.1408    99      280.5629      264.5738  2195743    5.70%\n",
      "   9899  1748        cutoff            280.5629      264.5738  2257206    5.70%\n",
      "  10092  1800    infeasible            280.5629      264.5738  2311998    5.70%\n",
      "  10315  1839        cutoff            280.5629      264.5738  2351611    5.70%\n",
      "  10561  1874      271.2166   121      280.5629      264.5738  2372837    5.70%\n"
     ]
    },
    {
     "name": "stdout",
     "output_type": "stream",
     "text": [
      "  10762  1900      280.5325    22      280.5629      264.5738  2417170    5.70%\n",
      "  10980  1943      274.7828   110      280.5629      264.5738  2460474    5.70%\n",
      "  11231  1969      268.4093   173      280.5629      264.5738  2501963    5.70%\n",
      "  11488  1995        cutoff            280.5629      264.5738  2548275    5.70%\n",
      "Elapsed time = 93.75 sec. (55638.87 ticks, tree = 26.78 MB, solutions = 9)\n",
      "  11677  2014      271.8611   168      280.5629      264.5738  2583532    5.70%\n",
      "  11871  2026      280.3856    65      280.5629      264.9516  2637244    5.56%\n",
      "  12128  2038        cutoff            280.5629      265.3414  2658740    5.43%\n",
      "  12405  2056      274.8430   124      280.5629      265.7173  2677850    5.29%\n",
      "  12623  2060        cutoff            280.5629      266.0873  2757791    5.16%\n",
      "  12856  2064      274.7937   153      280.5629      266.6734  2797097    4.95%\n",
      "  13105  2053        cutoff            280.5629      267.2587  2836528    4.74%\n",
      "  13368  2036        cutoff            280.5629      267.5588  2857896    4.64%\n",
      "  13577  2008      279.9673   166      280.5629      267.9884  2929702    4.48%\n",
      "  13806  1992        cutoff            280.5629      268.4816  2963155    4.31%\n",
      "Elapsed time = 111.71 sec. (65221.06 ticks, tree = 35.47 MB, solutions = 9)\n",
      "  14062  1980      279.8303    56      280.5629      268.9557  2979089    4.14%\n",
      "  14330  1934      271.8714    85      280.5629      269.5288  3053998    3.93%\n",
      "  14589  1894      277.2940   163      280.5629      269.9058  3082498    3.80%\n",
      "  14828  1835      278.2116   132      280.5629      270.4417  3132820    3.61%\n",
      "  15060  1762        cutoff            280.5629      270.9525  3168686    3.43%\n",
      "  15367  1650      279.9315   155      280.5629      271.4773  3221474    3.24%\n",
      "  15653  1623        cutoff            280.5629      272.1040  3231617    3.01%\n",
      "  15960  1425        cutoff            280.5629      272.9713  3313836    2.71%\n",
      "  16286  1346      280.4965    93      280.5629      273.7802  3335238    2.42%\n",
      "  16616  1147        cutoff            280.5629      274.4108  3390172    2.19%\n",
      "Elapsed time = 130.63 sec. (74808.47 ticks, tree = 18.13 MB, solutions = 9)\n",
      "  17027   955        cutoff            280.5629      275.5138  3424857    1.80%\n",
      "  17485   600        cutoff            280.5629      276.8323  3478134    1.33%\n",
      "\n",
      "GUB cover cuts applied:  10\n",
      "Clique cuts applied:  59\n",
      "Cover cuts applied:  543\n",
      "Implied bound cuts applied:  14\n",
      "Flow cuts applied:  25\n",
      "Mixed integer rounding cuts applied:  41\n",
      "Zero-half cuts applied:  16\n",
      "Lift and project cuts applied:  18\n",
      "Gomory fractional cuts applied:  42\n",
      "\n",
      "Root node processing (before b&c):\n",
      "  Real time             =    3.66 sec. (2641.93 ticks)\n",
      "Parallel b&c, 8 threads:\n",
      "  Real time             =  132.53 sec. (74794.00 ticks)\n",
      "  Sync time (average)   =   12.17 sec.\n",
      "  Wait time (average)   =    0.04 sec.\n",
      "                          ------------\n",
      "Total (root+branch&cut) =  136.19 sec. (77435.93 ticks)\n",
      "Done!\n",
      "Time elapsed: 136.267417908\n"
     ]
    }
   ],
   "source": [
    "dfx, dfy, dfg, _, obj_values, runtime = run_model(demand, weights=(0.4, 0.4, 0.2), new_model=True, log_output=True)"
   ]
  },
  {
   "cell_type": "code",
   "execution_count": 42,
   "metadata": {},
   "outputs": [
    {
     "name": "stdout",
     "output_type": "stream",
     "text": [
      "\n",
      "Runtime: 136.267417908\n",
      "\n",
      "Delay: 3175.37552743\n",
      "\n",
      "Throughput: 66.835443038\n",
      "\n",
      "Objective Value: 280.562878349\n"
     ]
    }
   ],
   "source": [
    "print('''\n",
    "Runtime: {}\\n\n",
    "Delay: {}\\n\n",
    "Throughput: {}\\n\n",
    "Objective Value: {}'''.format(runtime, *obj_values))"
   ]
  },
  {
   "cell_type": "code",
   "execution_count": 43,
   "metadata": {},
   "outputs": [
    {
     "data": {
      "image/png": "[encoded data removed]",
      "text/plain": [
       "<Figure size 1296x576 with 2 Axes>"
      ]
     },
     "metadata": {
      "needs_background": "light"
     },
     "output_type": "display_data"
    }
   ],
   "source": [
    "plot_greentime_map(dfg)"
   ]
  },
  {
   "cell_type": "code",
   "execution_count": null,
   "metadata": {},
   "outputs": [],
   "source": []
  }
 ],
 "metadata": {
  "kernelspec": {
   "display_name": "Python 2",
   "language": "python",
   "name": "python2"
  },
  "language_info": {
   "codemirror_mode": {
    "name": "ipython",
    "version": 2
   },
   "file_extension": ".py",
   "mimetype": "text/x-python",
   "name": "python",
   "nbconvert_exporter": "python",
   "pygments_lexer": "ipython2",
   "version": "2.7.12"
  }
 },
 "nbformat": 4,
 "nbformat_minor": 2
}
