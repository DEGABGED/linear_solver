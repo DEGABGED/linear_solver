{
 "cells": [
  {
   "cell_type": "markdown",
   "metadata": {},
   "source": [
    "# CTM MILP Model Running Environment (DTSimplex Extension to Parent Model)"
   ]
  },
  {
   "cell_type": "markdown",
   "metadata": {},
   "source": [
    "**NOTE:** When about to make a new run, please **duplicate** this notebook then add necessary graphs and things below."
   ]
  },
  {
   "cell_type": "code",
   "execution_count": 1,
   "metadata": {},
   "outputs": [],
   "source": [
    "import numpy as np\n",
    "import pandas as pd\n",
    "import matplotlib.pyplot as plt\n",
    "import seaborn as sns\n",
    "import random\n",
    "from pprint import pprint\n",
    "import time\n",
    "\n",
    "from ctmmodels.const import *\n",
    "\n",
    "# Add more CTM models here as needed\n",
    "from ctmmodels.delaythroughput import DTSimplexParentModel as NewModel\n",
    "from ctmmodels.parentmodel import ParentModel as OldModel"
   ]
  },
  {
   "cell_type": "code",
   "execution_count": 2,
   "metadata": {},
   "outputs": [],
   "source": [
    "IMAGE_PATH = 'graphs/'\n",
    "DF_PATH = 'dataframes/'"
   ]
  },
  {
   "cell_type": "markdown",
   "metadata": {},
   "source": [
    "**Notes on the models and parameters being used:**\n",
    "\n",
    "* Default parameters used before:\n",
    "\n",
    "{\n",
    "\n",
    "    time_range = 30\n",
    "    time_ticks = np.arange(0, time_range+1, 1)\n",
    "\n",
    "    parameters = {\n",
    "        'r_left': 1.0/3.0,\n",
    "        'r_through': 1.0/3.0,\n",
    "        'r_right': 1.0/3.0,\n",
    "        'sat_flow_rate': 1800,\n",
    "        'time_range': time_range,\n",
    "        'time_step': 2,\n",
    "        'g_min': 6,\n",
    "        'g_max': 20\n",
    "    }\n",
    "\n",
    "}\n",
    "\n",
    "* Saturation flow rate was set to 1800 vphpl, as this was the closest realistic value that matched the calculations from the parent paper.\n",
    "\n",
    "* Traffic will be distributed evenly between the 4 lanes (left, through 1, through 2, and right). This is based on previous tests where left was getting essentially 0 green time.\n",
    "\n",
    "* Time range will be set to 60 seconds, or 30 time steps at 2 seconds per time step."
   ]
  },
  {
   "cell_type": "code",
   "execution_count": 3,
   "metadata": {},
   "outputs": [],
   "source": [
    "time_range = 30\n",
    "time_ticks = np.arange(0, time_range+1, 1)\n",
    "\n",
    "parameters = {\n",
    "    'r_left': 0.25,\n",
    "    'r_through': 0.5,\n",
    "    'r_right': 0.25,\n",
    "    'sat_flow_rate': 1800,\n",
    "    'time_range': time_range,\n",
    "    'time_step': 2,\n",
    "    'g_min': 6,\n",
    "    'g_max': 20,\n",
    "    'flow_rate_reduction': 1\n",
    "}\n",
    "\n",
    "# Varying parameters: demand, alpha, beta, gamma"
   ]
  },
  {
   "cell_type": "code",
   "execution_count": 4,
   "metadata": {},
   "outputs": [],
   "source": [
    "def run_model(demand, weights=(0.33, 0.33, 0.33), new_model=True, log_output=True):\n",
    "    if new_model:\n",
    "        model = NewModel(\n",
    "            demand=demand,\n",
    "            alpha=weights[0],\n",
    "            beta=weights[1],\n",
    "            gamma=weights[2],\n",
    "            **parameters\n",
    "        )\n",
    "    else:\n",
    "        model = OldModel(\n",
    "            demand=demand,\n",
    "            **parameters\n",
    "        )\n",
    "\n",
    "    model.generate()\n",
    "    runtime = model.solve(log_output=log_output)\n",
    "    return model, runtime"
   ]
  },
  {
   "cell_type": "markdown",
   "metadata": {},
   "source": [
    "## Intersection Cell Network"
   ]
  },
  {
   "cell_type": "markdown",
   "metadata": {},
   "source": [
    "![title](img/4leg-intersection.png)"
   ]
  },
  {
   "cell_type": "markdown",
   "metadata": {},
   "source": [
    "## Setting the path of cells to check"
   ]
  },
  {
   "cell_type": "code",
   "execution_count": 5,
   "metadata": {},
   "outputs": [],
   "source": [
    "_approach = SOUTHBOUND\n",
    "\n",
    "_approach_terms = [\n",
    "    'Left',\n",
    "    'Through',\n",
    "    'Right'\n",
    "]\n",
    "\n",
    "_cell_path = [\n",
    "    (CELL_SOURCE,0,_approach),\n",
    "    (CELL_NORMAL,0,_approach),\n",
    "    (CELL_NORMAL,1,_approach),\n",
    "    (CELL_NORMAL,2,_approach),\n",
    "    (CELL_MOVEMENT,THROUGH_TURN,_approach),\n",
    "    S_mapping((CELL_MOVEMENT,THROUGH_TURN,_approach))[0]\n",
    "]\n",
    "\n",
    "def movement_paths(approach):\n",
    "    return [\n",
    "        [\n",
    "            (CELL_SOURCE,0,approach),\n",
    "            (CELL_NORMAL,0,approach),\n",
    "            (CELL_NORMAL,1,approach),\n",
    "            (CELL_NORMAL,2,approach),\n",
    "            (CELL_MOVEMENT,LEFT_TURN,approach),\n",
    "            S_mapping((CELL_MOVEMENT,LEFT_TURN,approach))[0]\n",
    "        ],\n",
    "        [\n",
    "            (CELL_SOURCE,0,approach),\n",
    "            (CELL_NORMAL,0,approach),\n",
    "            (CELL_NORMAL,1,approach),\n",
    "            (CELL_NORMAL,2,approach),\n",
    "            (CELL_MOVEMENT,THROUGH_TURN,approach),\n",
    "            S_mapping((CELL_MOVEMENT,THROUGH_TURN,approach))[0]\n",
    "        ],\n",
    "        [\n",
    "            (CELL_SOURCE,0,approach),\n",
    "            (CELL_NORMAL,0,approach),\n",
    "            (CELL_NORMAL,1,approach),\n",
    "            (CELL_NORMAL,2,approach),\n",
    "            (CELL_MOVEMENT,RIGHT_TURN,approach),\n",
    "            S_mapping((CELL_MOVEMENT,RIGHT_TURN,approach))[0]\n",
    "        ]\n",
    "    ]"
   ]
  },
  {
   "cell_type": "markdown",
   "metadata": {},
   "source": [
    "## Comparing cell volumes"
   ]
  },
  {
   "cell_type": "code",
   "execution_count": 6,
   "metadata": {},
   "outputs": [],
   "source": [
    "def plot_volume(dfx, cell_path=_cell_path, title=\"Volume\", headless=False, filename='volume.png'):\n",
    "    dfx_approach = pd.concat([\n",
    "        dfx[dfx.cell == c].sort_values(by='timestep')\n",
    "        for c in cell_path\n",
    "    ]).pivot(index='timestep', columns='cell', values='volume')\n",
    "    \n",
    "    fig, axs = plt.subplots(1,2, figsize=(20,10))\n",
    "    \n",
    "    sns.lineplot(data=dfx_approach, ax=axs[0])\n",
    "    sns.lineplot(data=dfx_approach.cumsum(), ax=axs[1])\n",
    "\n",
    "    axs[0].set_title('Volume of cells')\n",
    "    axs[0].set_xlabel('Timesteps')\n",
    "    axs[0].set_ylabel('Instantaneous volume')\n",
    "    axs[0].set_xticks(time_ticks, minor=True)\n",
    "\n",
    "    axs[1].set_title('Volume of cells (cumulative)')\n",
    "    axs[1].set_xlabel('Timesteps')\n",
    "    axs[1].set_ylabel('Cumulative volume')\n",
    "    axs[1].set_xticks(time_ticks, minor=True)\n",
    "    \n",
    "    fig.suptitle(title, fontsize=18)\n",
    "    \n",
    "    if headless:\n",
    "        fig.savefig(IMAGE_PATH + filename)\n",
    "        plt.close(fig)"
   ]
  },
  {
   "cell_type": "markdown",
   "metadata": {},
   "source": [
    "## Comparing flows"
   ]
  },
  {
   "cell_type": "code",
   "execution_count": 7,
   "metadata": {},
   "outputs": [],
   "source": [
    "def plot_flow(dfy, cell_path=_cell_path, title=\"Flows\", headless=False, filename='flow.png'):\n",
    "    dfy_approach = pd.concat([\n",
    "        dfy[dfy.cell_from == c].groupby(['cell_from', 'timestep']).agg({'flow': 'sum'}).sort_values(by='timestep')\n",
    "        for c in cell_path\n",
    "    ]).reset_index().pivot(index='timestep', columns='cell_from', values='flow')\n",
    "    \n",
    "    fig, axs = plt.subplots(1,2, figsize=(20,10))\n",
    "\n",
    "    sns.lineplot(data=dfy_approach, ax=axs[0])\n",
    "    sns.lineplot(data=dfy_approach.cumsum(), ax=axs[1])\n",
    "\n",
    "    axs[0].set_title('Flow from cells')\n",
    "    axs[0].set_xlabel('Timesteps')\n",
    "    axs[0].set_ylabel('Instantaneous flow')\n",
    "    axs[0].set_xticks(time_ticks, minor=True)\n",
    "\n",
    "    axs[1].set_title('Flow from cells (cumulative)')\n",
    "    axs[1].set_xlabel('Timesteps')\n",
    "    axs[1].set_ylabel('Cumulative flow')\n",
    "    axs[1].set_xticks(time_ticks, minor=True)\n",
    "    \n",
    "    fig.suptitle(title, fontsize=18)\n",
    "    \n",
    "    if headless:\n",
    "        fig.savefig(IMAGE_PATH + filename)\n",
    "        plt.close(fig)"
   ]
  },
  {
   "cell_type": "markdown",
   "metadata": {},
   "source": [
    "## Comparing specific green time"
   ]
  },
  {
   "cell_type": "code",
   "execution_count": 8,
   "metadata": {
    "scrolled": false
   },
   "outputs": [],
   "source": [
    "all_phases = [intToBinTuple(x) for x in range(8)]\n",
    "all_phases_labels = [\n",
    "    \"Left, Westbound\",\n",
    "    \"Through, Eastbound\",\n",
    "    \"Left, Southbound\",\n",
    "    \"Through, Southbound\",\n",
    "    \"Left, Eastbound\",\n",
    "    \"Through, Westbound\",\n",
    "    \"Left, Northbound\",\n",
    "    \"Through, Northbound\",\n",
    "]\n",
    "\n",
    "def plot_greentime_map(dfg, title=\"Greentime maps\", headless=False, filename='greentime.png', movements=True):\n",
    "    fig, axs = plt.subplots(figsize=(18,8))\n",
    "\n",
    "    dfg_matrix = dfg.T\n",
    "    if movements:\n",
    "        dfg_matrix = dfg_matrix.reindex(index=[\n",
    "            (2,LEFT_TURN,EASTBOUND), (2,RIGHT_TURN,EASTBOUND), (2,THROUGH_TURN,EASTBOUND),\n",
    "            (2,LEFT_TURN,NORTHBOUND), (2,RIGHT_TURN,NORTHBOUND), (2,THROUGH_TURN,NORTHBOUND),\n",
    "            (2,LEFT_TURN,SOUTHBOUND), (2,RIGHT_TURN,SOUTHBOUND), (2,THROUGH_TURN,SOUTHBOUND),\n",
    "            (2,LEFT_TURN,WESTBOUND), (2,RIGHT_TURN,WESTBOUND), (2,THROUGH_TURN,WESTBOUND),\n",
    "        ])\n",
    "    sns.heatmap(data=dfg_matrix)\n",
    "    \n",
    "    fig.suptitle(title, fontsize=18)\n",
    "    \n",
    "    if headless:\n",
    "        fig.savefig(IMAGE_PATH + filename)\n",
    "        plt.close(fig)"
   ]
  },
  {
   "cell_type": "code",
   "execution_count": 9,
   "metadata": {},
   "outputs": [],
   "source": [
    "def plot_obj_values(obj_values, title, xaxis, xlabel, headless=True, filename='obj.png'):\n",
    "    fig, axs = plt.subplots(1,2,figsize=(20,10))\n",
    "\n",
    "    axs[0].plot(xaxis, [x[0] for x in obj_values])\n",
    "    axs[0].set_title(\"Computed total delay\")\n",
    "    axs[0].set_ylabel(\"Total vehicle delay (timesteps)\")\n",
    "    axs[0].set_xlabel(xlabel)\n",
    "\n",
    "    axs[1].plot(xaxis, [x[1] for x in obj_values])\n",
    "    axs[1].set_title(\"Computed total throughput\")\n",
    "    axs[1].set_ylabel(\"Total vehicle throughput (veh)\")\n",
    "    axs[1].set_xlabel(xlabel)\n",
    "    \n",
    "    fig.suptitle(title, fontsize=18)\n",
    "    \n",
    "    if headless:\n",
    "        fig.savefig(IMAGE_PATH + filename)\n",
    "        plt.close(fig)"
   ]
  },
  {
   "cell_type": "markdown",
   "metadata": {},
   "source": [
    "## Saving dataframes"
   ]
  },
  {
   "cell_type": "code",
   "execution_count": 10,
   "metadata": {},
   "outputs": [],
   "source": [
    "def save_df(df, filename):\n",
    "    df.to_pickle(DF_PATH + filename + \".pkl\")"
   ]
  },
  {
   "cell_type": "markdown",
   "metadata": {},
   "source": [
    "## Generating dataframes"
   ]
  },
  {
   "cell_type": "code",
   "execution_count": 11,
   "metadata": {},
   "outputs": [],
   "source": [
    "_demands = [\n",
    "    450,\n",
    "    900,\n",
    "    (450, 900),\n",
    "    (900, 1800)\n",
    "]\n",
    "\n",
    "_points = [\n",
    "    (1, 0, 0),\n",
    "    (0, 1, 0),\n",
    "    (0, 0, 1),\n",
    "    (0.5, 0.5, 0),\n",
    "    (0, 0.5, 0.5),\n",
    "    (0.5, 0, 0.5),\n",
    "    (0.33, 0.33, 0.33),\n",
    "    (0, 0, 0),\n",
    "]"
   ]
  },
  {
   "cell_type": "code",
   "execution_count": 22,
   "metadata": {},
   "outputs": [
    {
     "data": {
      "image/png": "[encoded data removed]",
      "text/plain": [
       "<Figure size 1296x576 with 2 Axes>"
      ]
     },
     "metadata": {
      "needs_background": "light"
     },
     "output_type": "display_data"
    }
   ],
   "source": [
    "dfg = pd.read_pickle(DF_PATH + \"newextension/greentimes/greentimes_d(450, 900)_new_a0_b1_c0.pkl\")\n",
    "plot_greentime_map(dfg)"
   ]
  },
  {
   "cell_type": "code",
   "execution_count": 15,
   "metadata": {},
   "outputs": [
    {
     "data": {
      "text/plain": [
       "'Parent Model with DTSimplex Extension'"
      ]
     },
     "execution_count": 15,
     "metadata": {},
     "output_type": "execute_result"
    }
   ],
   "source": [
    "model.model.name"
   ]
  },
  {
   "cell_type": "code",
   "execution_count": 17,
   "metadata": {},
   "outputs": [
    {
     "data": {
      "text/plain": [
       "[((2, 0, 0), (2, 2, 1)),\n",
       " ((2, 0, 1), (2, 2, 2)),\n",
       " ((2, 0, 2), (2, 2, 3)),\n",
       " ((2, 0, 3), (2, 2, 0))]"
      ]
     },
     "execution_count": 17,
     "metadata": {},
     "output_type": "execute_result"
    }
   ],
   "source": [
    "model.set_CC_LR"
   ]
  },
  {
   "cell_type": "code",
   "execution_count": 24,
   "metadata": {},
   "outputs": [
    {
     "name": "stdout",
     "output_type": "stream",
     "text": [
      "Warning: Model name contains whitespaces: |Bitch man|\n"
     ]
    }
   ],
   "source": [
    "model.model.name = \"Bitch man\""
   ]
  },
  {
   "cell_type": "code",
   "execution_count": 25,
   "metadata": {},
   "outputs": [
    {
     "data": {
      "text/plain": [
       "'Bitch man'"
      ]
     },
     "execution_count": 25,
     "metadata": {},
     "output_type": "execute_result"
    }
   ],
   "source": [
    "model.model.name"
   ]
  },
  {
   "cell_type": "code",
   "execution_count": null,
   "metadata": {},
   "outputs": [],
   "source": []
  }
 ],
 "metadata": {
  "kernelspec": {
   "display_name": "Python 2",
   "language": "python",
   "name": "python2"
  },
  "language_info": {
   "codemirror_mode": {
    "name": "ipython",
    "version": 2
   },
   "file_extension": ".py",
   "mimetype": "text/x-python",
   "name": "python",
   "nbconvert_exporter": "python",
   "pygments_lexer": "ipython2",
   "version": "2.7.12"
  }
 },
 "nbformat": 4,
 "nbformat_minor": 2
}
